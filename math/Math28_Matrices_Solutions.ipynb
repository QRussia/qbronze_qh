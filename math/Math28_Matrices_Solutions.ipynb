{
 "cells": [
  {
   "cell_type": "markdown",
   "metadata": {},
   "source": [
    "<a href=\"https://qworld.net\" target=\"_blank\" align=\"left\"><img src=\"../qworld/images/header.jpg\"  align=\"left\"></a>\n",
    "$ \\newcommand{\\bra}[1]{\\langle #1|} $\n",
    "$ \\newcommand{\\ket}[1]{|#1\\rangle} $\n",
    "$ \\newcommand{\\braket}[2]{\\langle #1|#2\\rangle} $\n",
    "$ \\newcommand{\\dot}[2]{ #1 \\cdot #2} $\n",
    "$ \\newcommand{\\biginner}[2]{\\left\\langle #1,#2\\right\\rangle} $\n",
    "$ \\newcommand{\\mymatrix}[2]{\\left( \\begin{array}{#1} #2\\end{array} \\right)} $\n",
    "$ \\newcommand{\\myvector}[1]{\\mymatrix{c}{#1}} $\n",
    "$ \\newcommand{\\myrvector}[1]{\\mymatrix{r}{#1}} $\n",
    "$ \\newcommand{\\mypar}[1]{\\left( #1 \\right)} $\n",
    "$ \\newcommand{\\mybigpar}[1]{ \\Big( #1 \\Big)} $\n",
    "$ \\newcommand{\\sqrttwo}{\\frac{1}{\\sqrt{2}}} $\n",
    "$ \\newcommand{\\dsqrttwo}{\\dfrac{1}{\\sqrt{2}}} $\n",
    "$ \\newcommand{\\onehalf}{\\frac{1}{2}} $\n",
    "$ \\newcommand{\\donehalf}{\\dfrac{1}{2}} $\n",
    "$ \\newcommand{\\hadamard}{ \\mymatrix{rr}{ \\sqrttwo & \\sqrttwo \\\\ \\sqrttwo & -\\sqrttwo }} $\n",
    "$ \\newcommand{\\vzero}{\\myvector{1\\\\0}} $\n",
    "$ \\newcommand{\\vone}{\\myvector{0\\\\1}} $\n",
    "$ \\newcommand{\\stateplus}{\\myvector{ \\sqrttwo \\\\  \\sqrttwo } } $\n",
    "$ \\newcommand{\\stateminus}{ \\myrvector{ \\sqrttwo \\\\ -\\sqrttwo } } $\n",
    "$ \\newcommand{\\myarray}[2]{ \\begin{array}{#1}#2\\end{array}} $\n",
    "$ \\newcommand{\\X}{ \\mymatrix{cc}{0 & 1 \\\\ 1 & 0}  } $\n",
    "$ \\newcommand{\\I}{ \\mymatrix{rr}{1 & 0 \\\\ 0 & 1}  } $\n",
    "$ \\newcommand{\\Z}{ \\mymatrix{rr}{1 & 0 \\\\ 0 & -1}  } $\n",
    "$ \\newcommand{\\Htwo}{ \\mymatrix{rrrr}{ \\frac{1}{2} & \\frac{1}{2} & \\frac{1}{2} & \\frac{1}{2} \\\\ \\frac{1}{2} & -\\frac{1}{2} & \\frac{1}{2} & -\\frac{1}{2} \\\\ \\frac{1}{2} & \\frac{1}{2} & -\\frac{1}{2} & -\\frac{1}{2} \\\\ \\frac{1}{2} & -\\frac{1}{2} & -\\frac{1}{2} & \\frac{1}{2} } } $\n",
    "$ \\newcommand{\\CNOT}{ \\mymatrix{cccc}{1 & 0 & 0 & 0 \\\\ 0 & 1 & 0 & 0 \\\\ 0 & 0 & 0 & 1 \\\\ 0 & 0 & 1 & 0} } $\n",
    "$ \\newcommand{\\norm}[1]{ \\left\\lVert #1 \\right\\rVert } $\n",
    "$ \\newcommand{\\pstate}[1]{ \\lceil \\mspace{-1mu} #1 \\mspace{-1.5mu} \\rfloor } $\n",
    "$ \\newcommand{\\greenbit}[1] {\\mathbf{{\\color{green}#1}}} $\n",
    "$ \\newcommand{\\bluebit}[1] {\\mathbf{{\\color{blue}#1}}} $\n",
    "$ \\newcommand{\\redbit}[1] {\\mathbf{{\\color{red}#1}}} $\n",
    "$ \\newcommand{\\brownbit}[1] {\\mathbf{{\\color{brown}#1}}} $\n",
    "$ \\newcommand{\\blackbit}[1] {\\mathbf{{\\color{black}#1}}} $"
   ]
  },
  {
   "cell_type": "markdown",
   "metadata": {},
   "source": [
    "<font style=\"font-size:28px;\" align=\"left\"><b><font color=\"blue\">Матрицы</font></b></font>\n",
    "<br>\n",
    "_prepared by Abuzer Yakaryilmaz, translated by QRussia_\n",
    "<br><br>"
   ]
  },
  {
   "cell_type": "markdown",
   "metadata": {},
   "source": [
    "<h3> Задание 1 </h3>\n",
    "\n",
    "Случайным образом создайте $ (3 \\times 4) $-мерные матрицы $ A $ и $ B $. \n",
    "\n",
    "Значение элементов выбирайте из массива $ \\{-5,\\ldots,5\\} $.\n",
    "\n",
    "Выведите обе матрицы.\n",
    "\n",
    "Найдите матрицу $ C = 3A - 2B $, и выведите значение его элементов. (<i>Заметим, что $ 3A - 2B = 3A + (-2B) $</i>.)\n",
    "\n",
    "Проверьте корректность полученных результатов."
   ]
  },
  {
   "cell_type": "markdown",
   "metadata": {},
   "source": [
    "<h3>Решение</h3>"
   ]
  },
  {
   "cell_type": "code",
   "execution_count": null,
   "metadata": {},
   "outputs": [],
   "source": [
    "from random import randrange\n",
    "\n",
    "A = []\n",
    "B = []\n",
    "\n",
    "for i in range(3):\n",
    "    A.append([])\n",
    "    B.append([])\n",
    "    for j in range(4):\n",
    "        A[i].append(randrange(-5,6))\n",
    "        B[i].append(randrange(-5,6))\n",
    "\n",
    "print(\"A\",A)\n",
    "print(\"B\",B)\n",
    "\n",
    "C = []\n",
    "\n",
    "for i in range(3):\n",
    "    C.append([])\n",
    "    for j in range(4):\n",
    "        C[i].append( 3*A[i][j]-2*B[i][j])\n",
    "\n",
    "print(\"C = 3A - 2B\")\n",
    "print(\"C\",C)        "
   ]
  },
  {
   "cell_type": "markdown",
   "metadata": {},
   "source": [
    "<h3> Задание 2 </h3>\n",
    "\n",
    "Найдите $ M^T $ и $ N^T $ используя python.\n",
    "\n",
    "Выведите все матрицы и проверьте корректность результатов."
   ]
  },
  {
   "cell_type": "markdown",
   "metadata": {},
   "source": [
    "<h3>Решение</h3>"
   ]
  },
  {
   "cell_type": "code",
   "execution_count": null,
   "metadata": {},
   "outputs": [],
   "source": [
    "M = [\n",
    "    [-2,3,0,4],\n",
    "    [-1,1,5,9]      \n",
    "]\n",
    "N =[\n",
    "    [1,2,3],\n",
    "    [4,5,6],\n",
    "    [7,8,9]\n",
    "]\n",
    "\n",
    "# создадим матрицу M заполненную нулями\n",
    "MT = []\n",
    "for i in range(4):\n",
    "    MT.append([])\n",
    "    for j in range(2):\n",
    "        MT[i].append(0)\n",
    "\n",
    "# создадим матрицу N заполненную нулями\n",
    "NT = []\n",
    "for i in range(3):\n",
    "    NT.append([])\n",
    "    for j in range(3):\n",
    "        NT[i].append(0)\n",
    "\n",
    "# вычисляем MT\n",
    "for i in range(2):\n",
    "    for j in range(4):\n",
    "        MT[j][i]=M[i][j] # проверяем индексы\n",
    "\n",
    "print(\"M\")\n",
    "for i in range(len(M)):\n",
    "    print(M[i])\n",
    "\n",
    "print()\n",
    "print(\"Транспонирование матрицы M\")\n",
    "for i in range(len(MT)):\n",
    "    print(MT[i])\n",
    "\n",
    "print()\n",
    "# вычисляем NT\n",
    "for i in range(3):\n",
    "    for j in range(3):\n",
    "        NT[j][i]=N[i][j] # проверяем индексы\n",
    "\n",
    "print(\"N\")\n",
    "for i in range(len(N)):\n",
    "    print(N[i])\n",
    "\n",
    "print()\n",
    "print(\"Транспонирование матрицы N\")\n",
    "for i in range(len(NT)):\n",
    "    print(NT[i])"
   ]
  },
  {
   "cell_type": "markdown",
   "metadata": {},
   "source": [
    "<h3> Задание 3 </h3>\n",
    "\n",
    "Найдите $ u' = N u $ используя матрицу $ N $ и вектор $ u $:\n",
    "\n",
    "$$\n",
    "    N = \\mymatrix{rrr}{-1 & 1 & 2 \\\\ 0 & -2 & -3 \\\\ 3 & 2 & 5 \\\\ 0 & 2 & -2} ~~~~~~\\mbox{и}~~~~~~ u = \\myrvector{2 \\\\ -1 \\\\ 3}.\n",
    "$$"
   ]
  },
  {
   "cell_type": "markdown",
   "metadata": {},
   "source": [
    "<h3>Решение</h3>"
   ]
  },
  {
   "cell_type": "code",
   "execution_count": null,
   "metadata": {},
   "outputs": [],
   "source": [
    "N = [\n",
    "    [-1,1,2],\n",
    "    [0,-2,-3],\n",
    "    [3,2,5],\n",
    "    [0,2,-2]\n",
    "]\n",
    "\n",
    "u = [2,-1,3]\n",
    "\n",
    "uprime =[]\n",
    "\n",
    "print(\"N\")\n",
    "for i in range(len(N)):\n",
    "    print(N[i])\n",
    "\n",
    "print()\n",
    "print(\"u\",u)\n",
    "\n",
    "for i in range(len(N)):\n",
    "    S = 0 \n",
    "    for j in range(len(u)):\n",
    "        S = S + N[i][j] * u[j]\n",
    "    uprime.append(S)\n",
    "\n",
    "print()\n",
    "print(\"u'\",uprime)    "
   ]
  },
  {
   "cell_type": "markdown",
   "metadata": {},
   "source": [
    "<h3> Задание 4 </h3>\n",
    "\n",
    "Найдите матрицы $ K $.\n",
    " \n",
    "Вы можете использовать тройные вложенные циклы. \n",
    "\n",
    "Также вы можете написать функцию, берущую в себя два массива и возвращающую их произведение."
   ]
  },
  {
   "cell_type": "markdown",
   "metadata": {},
   "source": [
    "<h3>Решение</h3>"
   ]
  },
  {
   "cell_type": "code",
   "execution_count": null,
   "metadata": {},
   "outputs": [],
   "source": [
    "M = [\n",
    "    [-1,0,1],\n",
    "    [-2,-1,2],\n",
    "    [1,2,-2]\n",
    "]\n",
    "\n",
    "N = [\n",
    "    [0,2,1],\n",
    "    [3,-1,-2],\n",
    "    [-1,1,0]\n",
    "]\n",
    "\n",
    "K = []\n",
    "\n",
    "for i in range(3):\n",
    "    K.append([])\n",
    "    for j in range(3):\n",
    "        # здесь мы вычислим K[i][j]\n",
    "        # произведение i-й строки из M на j-ю строку из N\n",
    "        S = 0\n",
    "        for k in range(3):\n",
    "            S = S + M[i][k] * N[k][j]\n",
    "        K[i].append(S)\n",
    "        \n",
    "print(\"M\")\n",
    "for i in range(len(M)):\n",
    "    print(M[i])\n",
    "    \n",
    "print()\n",
    "print(\"N\")\n",
    "for i in range(len(N)):\n",
    "    print(N[i])\n",
    "\n",
    "print()\n",
    "print(\"K\")\n",
    "for i in range(len(K)):\n",
    "    print(K[i])"
   ]
  },
{
   "cell_type": "markdown",
   "metadata": {},
   "source": [
    "<h3> Задание 5 </h3>\n",
    "\n",
    "Случайным образом определите две $ (2 \\times 2) $-мерной матрицы $A$ и $ B $.\n",
    "\n",
    "Затем найдите $ C= AB-BA $. \n",
    "\n",
    "<i>Замечание: С некоторой вероятностью мы можем найти пару $ (A,B) $ такую, что $ AB = BA $. \n",
    "    \n",
    "В этом случае повторите эксперимент. </i>"
   ]
  },
  {
   "cell_type": "markdown",
   "metadata": {},
   "source": [
    "<h3>Решение</h3>"
   ]
  },
  {
   "cell_type": "code",
   "execution_count": null,
   "metadata": {},
   "outputs": [],
   "source": [
    "from random import randrange\n",
    "\n",
    "A = []\n",
    "B = []\n",
    "AB = []\n",
    "BA = []\n",
    "DIFF = []\n",
    "\n",
    "# создаем вместе A, B, AB, BA, DIFF\n",
    "for i in range(2):\n",
    "    A.append([])\n",
    "    B.append([])\n",
    "    AB.append([])\n",
    "    BA.append([])\n",
    "    DIFF.append([])\n",
    "    for j in range(2):\n",
    "        A[i].append(randrange(-10,10)) # элементы A являются случайными\n",
    "        B[i].append(randrange(-10,10)) # элементы B являются случайными\n",
    "        AB[i].append(0) # элементы AB изначально являются нулями\n",
    "        BA[i].append(0) # элементы BA изначально являются нулями\n",
    "        DIFF[i].append(0) # элементы DIFF изначально являются нулями\n",
    "\n",
    "print(\"A =\",A)\n",
    "print(\"B =\",B)\n",
    "print()\n",
    "print(\"AB, BA и DIFF изначально нулевые матрицы\")\n",
    "print(\"AB =\",AB)\n",
    "print(\"BA =\",BA)\n",
    "print(\"DIFF =\",BA)\n",
    "\n",
    "# найдем AB\n",
    "for i in range(2):\n",
    "    for j in range(2):\n",
    "        for k in range(2):\n",
    "            AB[i][j] = AB[i][j] + A[i][k] * B[k][j]\n",
    "\n",
    "print()\n",
    "print(\"AB =\",AB)\n",
    "\n",
    "# найдем BA\n",
    "for i in range(2):\n",
    "    for j in range(2):\n",
    "        for k in range(2):\n",
    "            BA[i][j] = BA[i][j] + B[i][k] * A[k][j]\n",
    "\n",
    "print(\"BA =\",BA)\n",
    "\n",
    "# найдем DIFF = AB- BA\n",
    "for i in range(2):\n",
    "    for j in range(2):\n",
    "        DIFF[i][j] = AB[i][j] - BA[i][j]\n",
    "\n",
    "print()\n",
    "print(\"DIFF = AB - BA =\",DIFF)        "
   ]
  },
  {
   "cell_type": "code",
   "execution_count": null,
   "metadata": {},
   "outputs": [],
   "source": []
  }
 ],
 "metadata": {
  "kernelspec": {
   "display_name": "Python 3",
   "language": "python",
   "name": "python3"
  },
  "language_info": {
   "codemirror_mode": {
    "name": "ipython",
    "version": 3
   },
   "file_extension": ".py",
   "mimetype": "text/x-python",
   "name": "python",
   "nbconvert_exporter": "python",
   "pygments_lexer": "ipython3",
   "version": "3.7.1"
  }
 },
 "nbformat": 4,
 "nbformat_minor": 2
}
