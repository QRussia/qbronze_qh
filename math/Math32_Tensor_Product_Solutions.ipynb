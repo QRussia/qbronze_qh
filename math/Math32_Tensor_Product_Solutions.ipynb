{
 "cells": [
  {
   "cell_type": "markdown",
   "metadata": {},
   "source": [
    "<a href=\"https://qworld.net\" target=\"_blank\" align=\"left\"><img src=\"../qworld/images/header.jpg\"  align=\"left\"></a>\n",
    "$ \\newcommand{\\bra}[1]{\\langle #1|} $\n",
    "$ \\newcommand{\\ket}[1]{|#1\\rangle} $\n",
    "$ \\newcommand{\\braket}[2]{\\langle #1|#2\\rangle} $\n",
    "$ \\newcommand{\\dot}[2]{ #1 \\cdot #2} $\n",
    "$ \\newcommand{\\biginner}[2]{\\left\\langle #1,#2\\right\\rangle} $\n",
    "$ \\newcommand{\\mymatrix}[2]{\\left( \\begin{array}{#1} #2\\end{array} \\right)} $\n",
    "$ \\newcommand{\\myvector}[1]{\\mymatrix{c}{#1}} $\n",
    "$ \\newcommand{\\myrvector}[1]{\\mymatrix{r}{#1}} $\n",
    "$ \\newcommand{\\mypar}[1]{\\left( #1 \\right)} $\n",
    "$ \\newcommand{\\mybigpar}[1]{ \\Big( #1 \\Big)} $\n",
    "$ \\newcommand{\\sqrttwo}{\\frac{1}{\\sqrt{2}}} $\n",
    "$ \\newcommand{\\dsqrttwo}{\\dfrac{1}{\\sqrt{2}}} $\n",
    "$ \\newcommand{\\onehalf}{\\frac{1}{2}} $\n",
    "$ \\newcommand{\\donehalf}{\\dfrac{1}{2}} $\n",
    "$ \\newcommand{\\hadamard}{ \\mymatrix{rr}{ \\sqrttwo & \\sqrttwo \\\\ \\sqrttwo & -\\sqrttwo }} $\n",
    "$ \\newcommand{\\vzero}{\\myvector{1\\\\0}} $\n",
    "$ \\newcommand{\\vone}{\\myvector{0\\\\1}} $\n",
    "$ \\newcommand{\\stateplus}{\\myvector{ \\sqrttwo \\\\  \\sqrttwo } } $\n",
    "$ \\newcommand{\\stateminus}{ \\myrvector{ \\sqrttwo \\\\ -\\sqrttwo } } $\n",
    "$ \\newcommand{\\myarray}[2]{ \\begin{array}{#1}#2\\end{array}} $\n",
    "$ \\newcommand{\\X}{ \\mymatrix{cc}{0 & 1 \\\\ 1 & 0}  } $\n",
    "$ \\newcommand{\\I}{ \\mymatrix{rr}{1 & 0 \\\\ 0 & 1}  } $\n",
    "$ \\newcommand{\\Z}{ \\mymatrix{rr}{1 & 0 \\\\ 0 & -1}  } $\n",
    "$ \\newcommand{\\Htwo}{ \\mymatrix{rrrr}{ \\frac{1}{2} & \\frac{1}{2} & \\frac{1}{2} & \\frac{1}{2} \\\\ \\frac{1}{2} & -\\frac{1}{2} & \\frac{1}{2} & -\\frac{1}{2} \\\\ \\frac{1}{2} & \\frac{1}{2} & -\\frac{1}{2} & -\\frac{1}{2} \\\\ \\frac{1}{2} & -\\frac{1}{2} & -\\frac{1}{2} & \\frac{1}{2} } } $\n",
    "$ \\newcommand{\\CNOT}{ \\mymatrix{cccc}{1 & 0 & 0 & 0 \\\\ 0 & 1 & 0 & 0 \\\\ 0 & 0 & 0 & 1 \\\\ 0 & 0 & 1 & 0} } $\n",
    "$ \\newcommand{\\norm}[1]{ \\left\\lVert #1 \\right\\rVert } $\n",
    "$ \\newcommand{\\pstate}[1]{ \\lceil \\mspace{-1mu} #1 \\mspace{-1.5mu} \\rfloor } $\n",
    "$ \\newcommand{\\greenbit}[1] {\\mathbf{{\\color{green}#1}}} $\n",
    "$ \\newcommand{\\bluebit}[1] {\\mathbf{{\\color{blue}#1}}} $\n",
    "$ \\newcommand{\\redbit}[1] {\\mathbf{{\\color{red}#1}}} $\n",
    "$ \\newcommand{\\brownbit}[1] {\\mathbf{{\\color{brown}#1}}} $\n",
    "$ \\newcommand{\\blackbit}[1] {\\mathbf{{\\color{black}#1}}} $"
   ]
  },
  {
   "cell_type": "markdown",
   "metadata": {},
   "source": [
    "<font style=\"font-size:28px;\" align=\"left\"><b> <font color=\"blue\">Матрицы:</font> тензорное произведение</b></font>\n",
    "<br>\n",
    "_prepared by Abuzer Yakaryilmaz, translated by QRussia_\n",
    "<br><br>"
   ]
  },
  {
   "cell_type": "markdown",
   "metadata": {},
   "source": [
    "<h3> Задание 1 </h3>\n",
    "\n",
    "Найдите $ u \\otimes v $ и $ v \\otimes u $ для векторов $ u = \\myrvector{-2 \\\\ -1 \\\\ 0 \\\\ 1} $ и $ v = \\myrvector{ 1 \\\\ 2 \\\\ 3 } $."
   ]
  },
  {
   "cell_type": "markdown",
   "metadata": {},
   "source": [
    "<h3>Решение</h3>"
   ]
  },
  {
   "cell_type": "code",
   "execution_count": null,
   "metadata": {},
   "outputs": [],
   "source": [
    "u = [-2,-1,0,1]\n",
    "v = [1,2,3]\n",
    "\n",
    "uv = []\n",
    "vu = []\n",
    "\n",
    "\n",
    "for i in range(len(u)):\n",
    "    for j in range(len(v)):\n",
    "        uv.append(u[i]*v[j]) # этот элемент u итеративно умножается на каждый элемент v \n",
    "    \n",
    "print(\"Тензорное произведение между u и v\",uv)    \n",
    "\n",
    "for i in range(len(v)):\n",
    "    for j in range(len(u)):\n",
    "        vu.append(v[i]*u[j]) # этот элемент v итеративно умножается на каждый элемент u\n",
    "    \n",
    "print(\"Тензорное произведение между v и u\",vu)    "
   ]
  },
   {
   "cell_type": "markdown",
   "metadata": {},
   "source": [
    "<h3> Задание 2 </h3>\n",
    "\n",
    "Найдите $ A \\otimes B $ для матриц\n",
    "$\n",
    "    A = \\mymatrix{rrr}{-1 & 0 & 1 \\\\ -2 & -1 & 2} ~~\\mbox{и}~~ \n",
    "    B = \\mymatrix{rr}{0 & 2 \\\\ 3 & -1 \\\\ -1 & 1 }.\n",
    "$"
   ]
  },
 {
   "cell_type": "markdown",
   "metadata": {},
   "source": [
    "<h3>Решение</h3>"
   ]
  },
  {
   "cell_type": "code",
   "execution_count": null,
   "metadata": {},
   "outputs": [],
   "source": [
    "A = [\n",
    "    [-1,0,1],\n",
    "    [-2,-1,2]\n",
    "]\n",
    "\n",
    "B = [\n",
    "    [0,2],\n",
    "    [3,-1],\n",
    "    [-1,1]\n",
    "]\n",
    "\n",
    "print(\"A =\")\n",
    "for i in range(len(A)):\n",
    "    print(A[i])\n",
    "\n",
    "print()\n",
    "print(\"B =\")\n",
    "for i in range(len(B)):\n",
    "    print(B[i])\n",
    "\n",
    "# сделаем итоговую матрицу тензорного произведения между A и B как (6x6)-мерная матрица из нулей\n",
    "AB = []\n",
    "for i in range(6):\n",
    "    AB.append([])\n",
    "    for j in range(6):\n",
    "        AB[i].append(0)\n",
    "\n",
    "    \n",
    "        \n",
    "# найдем тензорное произведение между A и B\n",
    "for i in range(2):\n",
    "    for j in range(3):\n",
    "        a = A[i][j]\n",
    "        for m in range(3):\n",
    "            for n in range(2):\n",
    "                b = B[m][n]\n",
    "                # теперь подставим (a*b) в соответствующий индекс AB\n",
    "                AB[3*i+m][2*j+n] = a * b\n",
    "    \n",
    "    \n",
    "\n",
    "print()\n",
    "print(\"Тензорное произведение между A и B =\") \n",
    "print()\n",
    "for i in range(6):\n",
    "    print(AB[i])"
   ]
  },
  {
   "cell_type": "markdown",
   "metadata": {},
   "source": [
    "<h3> Задание 3 </h3>\n",
    "\n",
    "Найдите $ B \\otimes A $ для матриц\n",
    "$\n",
    "    A = \\mymatrix{rrr}{-1 & 0 & 1 \\\\ -2 & -1 & 2} ~~\\mbox{и}~~ \n",
    "    B = \\mymatrix{rr}{0 & 2 \\\\ 3 & -1 \\\\ -1 & 1 }.\n",
    "$\n",
    "\n",
    "Для решения этого задания вы можете использовать код из второго задания.\n",
    "\n",
    "Но будьте осторожны с индексами и значениями диапазона, а также с тем, как они меняются местами"
   ]
  },
 {
   "cell_type": "markdown",
   "metadata": {},
   "source": [
    "<h3>Решение</h3>"
   ]
  },
  {
   "cell_type": "code",
   "execution_count": null,
   "metadata": {},
   "outputs": [],
   "source": [
    "A = [\n",
    "    [-1,0,1],\n",
    "    [-2,-1,2]\n",
    "]\n",
    "\n",
    "B = [\n",
    "    [0,2],\n",
    "    [3,-1],\n",
    "    [-1,1]\n",
    "]\n",
    "\n",
    "print()\n",
    "print(\"B =\")\n",
    "for i in range(len(B)):\n",
    "    print(B[i])\n",
    "    \n",
    "print(\"A =\")\n",
    "for i in range(len(A)):\n",
    "    print(A[i])\n",
    "\n",
    "# сделаем итоговую матрицу тензорного произведения между B и A как (6x6)-мерная матрица из нулей\n",
    "BA = []\n",
    "for i in range(6):\n",
    "    BA.append([])\n",
    "    for j in range(6):\n",
    "        BA[i].append(0)\n",
    "        \n",
    "# найдем тензорное произведение между B и A\n",
    "for i in range(3):\n",
    "    for j in range(2):\n",
    "        b = B[i][j]\n",
    "        for m in range(2):\n",
    "            for n in range(3):\n",
    "                a = A[m][n]\n",
    "                # теперь подставим (b*a) в соответствующий индекс BA\n",
    "                BA[2*i+m][3*j+n] = b * a\n",
    "    \n",
    "    \n",
    "\n",
    "print()\n",
    "print(\"Тензорное произведение между B и A =\") \n",
    "print()\n",
    "for i in range(6):\n",
    "    print(BA[i])"
   ]
  },
  {
   "cell_type": "code",
   "execution_count": null,
   "metadata": {},
   "outputs": [],
   "source": []
  }
 ],
 "metadata": {
  "kernelspec": {
   "display_name": "Python 3",
   "language": "python",
   "name": "python3"
  },
  "language_info": {
   "codemirror_mode": {
    "name": "ipython",
    "version": 3
   },
   "file_extension": ".py",
   "mimetype": "text/x-python",
   "name": "python",
   "nbconvert_exporter": "python",
   "pygments_lexer": "ipython3",
   "version": "3.7.1"
  }
 },
 "nbformat": 4,
 "nbformat_minor": 2
}
