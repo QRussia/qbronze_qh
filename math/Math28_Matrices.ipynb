{
 "cells": [
  {
   "cell_type": "markdown",
   "metadata": {},
   "source": [
    "<a href=\"https://qworld.net\" target=\"_blank\" align=\"left\"><img src=\"../qworld/images/header.jpg\"  align=\"left\"></a>\n",
    "$ \\newcommand{\\bra}[1]{\\langle #1|} $\n",
    "$ \\newcommand{\\ket}[1]{|#1\\rangle} $\n",
    "$ \\newcommand{\\braket}[2]{\\langle #1|#2\\rangle} $\n",
    "$ \\newcommand{\\dot}[2]{ #1 \\cdot #2} $\n",
    "$ \\newcommand{\\biginner}[2]{\\left\\langle #1,#2\\right\\rangle} $\n",
    "$ \\newcommand{\\mymatrix}[2]{\\left( \\begin{array}{#1} #2\\end{array} \\right)} $\n",
    "$ \\newcommand{\\myvector}[1]{\\mymatrix{c}{#1}} $\n",
    "$ \\newcommand{\\myrvector}[1]{\\mymatrix{r}{#1}} $\n",
    "$ \\newcommand{\\mypar}[1]{\\left( #1 \\right)} $\n",
    "$ \\newcommand{\\mybigpar}[1]{ \\Big( #1 \\Big)} $\n",
    "$ \\newcommand{\\sqrttwo}{\\frac{1}{\\sqrt{2}}} $\n",
    "$ \\newcommand{\\dsqrttwo}{\\dfrac{1}{\\sqrt{2}}} $\n",
    "$ \\newcommand{\\onehalf}{\\frac{1}{2}} $\n",
    "$ \\newcommand{\\donehalf}{\\dfrac{1}{2}} $\n",
    "$ \\newcommand{\\hadamard}{ \\mymatrix{rr}{ \\sqrttwo & \\sqrttwo \\\\ \\sqrttwo & -\\sqrttwo }} $\n",
    "$ \\newcommand{\\vzero}{\\myvector{1\\\\0}} $\n",
    "$ \\newcommand{\\vone}{\\myvector{0\\\\1}} $\n",
    "$ \\newcommand{\\stateplus}{\\myvector{ \\sqrttwo \\\\  \\sqrttwo } } $\n",
    "$ \\newcommand{\\stateminus}{ \\myrvector{ \\sqrttwo \\\\ -\\sqrttwo } } $\n",
    "$ \\newcommand{\\myarray}[2]{ \\begin{array}{#1}#2\\end{array}} $\n",
    "$ \\newcommand{\\X}{ \\mymatrix{cc}{0 & 1 \\\\ 1 & 0}  } $\n",
    "$ \\newcommand{\\I}{ \\mymatrix{rr}{1 & 0 \\\\ 0 & 1}  } $\n",
    "$ \\newcommand{\\Z}{ \\mymatrix{rr}{1 & 0 \\\\ 0 & -1}  } $\n",
    "$ \\newcommand{\\Htwo}{ \\mymatrix{rrrr}{ \\frac{1}{2} & \\frac{1}{2} & \\frac{1}{2} & \\frac{1}{2} \\\\ \\frac{1}{2} & -\\frac{1}{2} & \\frac{1}{2} & -\\frac{1}{2} \\\\ \\frac{1}{2} & \\frac{1}{2} & -\\frac{1}{2} & -\\frac{1}{2} \\\\ \\frac{1}{2} & -\\frac{1}{2} & -\\frac{1}{2} & \\frac{1}{2} } } $\n",
    "$ \\newcommand{\\CNOT}{ \\mymatrix{cccc}{1 & 0 & 0 & 0 \\\\ 0 & 1 & 0 & 0 \\\\ 0 & 0 & 0 & 1 \\\\ 0 & 0 & 1 & 0} } $\n",
    "$ \\newcommand{\\norm}[1]{ \\left\\lVert #1 \\right\\rVert } $\n",
    "$ \\newcommand{\\pstate}[1]{ \\lceil \\mspace{-1mu} #1 \\mspace{-1.5mu} \\rfloor } $\n",
    "$ \\newcommand{\\greenbit}[1] {\\mathbf{{\\color{green}#1}}} $\n",
    "$ \\newcommand{\\bluebit}[1] {\\mathbf{{\\color{blue}#1}}} $\n",
    "$ \\newcommand{\\redbit}[1] {\\mathbf{{\\color{red}#1}}} $\n",
    "$ \\newcommand{\\brownbit}[1] {\\mathbf{{\\color{brown}#1}}} $\n",
    "$ \\newcommand{\\blackbit}[1] {\\mathbf{{\\color{black}#1}}} $"
   ]
  },
  {
   "cell_type": "markdown",
   "metadata": {},
   "source": [
    "<font style=\"font-size:28px;\" align=\"left\"><b>Матрицы: двумерные массивы </b></font>\n",
    "<br>\n",
    "_prepared by Abuzer Yakaryilmaz, translated by QRussia_\n",
    "<br><br>"
   ]
  },
  {
   "cell_type": "markdown",
   "metadata": {},
   "source": [
    "Матрица - это список векторов, в котором каждый вектор имеет одинаковую размерность.\n",
    "\n",
    "Пример матрицы, образованной 4 векторами с размерностью 5:\n",
    "\n",
    "$$ \n",
    "    M = \\mymatrix{rrrrr}{8 & 0 & -1 & 0 & 2 \\\\ -2 & -3 & 1 & 1 & 4 \\\\ 0 & 0 & 1 & -7 & 1 \\\\ 1 & 4 & -2 & 5 & 9}.\n",
    "$$\n",
    "\n",
    "Можно также сказать, что матрица $M$ образована 5 векторами-столбцами с размером 4.\n",
    "\n",
    "В Python мы можем представить матрицу в виде двумерного массива.    "
   ]
  },
  {
   "cell_type": "code",
   "execution_count": null,
   "metadata": {},
   "outputs": [],
   "source": [
    "M = [ \n",
    "    [8 , 0 , -1 , 0 , 2], \n",
    "    [-2 , -3 , 1 , 1 , 4], \n",
    "    [0 , 0 , 1 , -7 , 1],\n",
    "    [1 , 4 , -2 , 5 , 9]\n",
    "] \n",
    "\n",
    "# выводим матрицу M\n",
    "print(M)"
   ]
  },
  {
   "cell_type": "code",
   "execution_count": null,
   "metadata": {},
   "outputs": [],
   "source": [
    "# выведем M в матричном виде, строка за строкой\n",
    "\n",
    "for i in range(4):\n",
    "    print(M[i])"
   ]
  },
  {
   "cell_type": "markdown",
   "metadata": {},
   "source": [
    "Отметим, что по определению строки и столбцы матриц индексируются с 1.\n",
    "\n",
    "$ (i,j) $-ый элемент матрицы $ M $ означает элемент в $ i $-ой строке и $ j $-ом столбце.\n",
    "\n",
    "(Его также обозначают как $ M[i,j] $, $ M(i,j) $, или $ M_{ij} $)\n",
    "\n",
    "С другой стороны, в Python индексы начинаются с нуля.\n",
    "\n",
    "Поэтому, когда мы определяем список для матрицы или вектора в Python, значение индекса в Python на единицу меньше, чем значение индекса на бумаге.\n",
    "\n",
    "Проверим это на следующем примере."
   ]
  },
  {
   "cell_type": "code",
   "execution_count": null,
   "metadata": {},
   "outputs": [],
   "source": [
    "M = [ \n",
    "    [8 , 0 , -1 , 0 , 2], \n",
    "    [-2 , -3 , 1 , 1 , 4], \n",
    "    [0 , 0 , 1 , -7 , 1],\n",
    "    [1 , 4 , -2 , 5 , 9]\n",
    "] \n",
    "\n",
    "# выводим элемент из 1-й строки и 1-ого столбца.\n",
    "print(M[0][0])\n",
    "\n",
    "# выводим элемент из 3-й строки и 4-ого столбца.\n",
    "print(M[2][3])\n",
    "\n",
    "# выводим элемент из 4-й строки и 5-ого столбца.\n",
    "print(M[3][4])"
   ]
  },
  {
   "cell_type": "markdown",
   "metadata": {},
   "source": [
    "<h3> Умножение матрицы на число </h3>\n",
    "\n",
    "Когда матрицу умножают на число, каждый элемент этой матрицы будут умножаться на данное число."
   ]
  },
  {
   "cell_type": "code",
   "execution_count": null,
   "metadata": {},
   "outputs": [],
   "source": [
    "N =[] # здесь будет записан результат\n",
    "\n",
    "for i in range(4):\n",
    "    N.append([]) # создаем пустой подмассив для каждой строки матрицы\n",
    "    for j in range(5):\n",
    "        N[i].append(M[i][j]*-2) # добавляем результаты умножений в i-й подмассив\n",
    "        \n",
    "print(\"N:\")\n",
    "for i in range(4):\n",
    "    print(N[i])"
   ]
  },
  {
   "cell_type": "markdown",
   "metadata": {},
   "source": [
    "Запишем новую матрицу $ N= -2 M $:\n",
    "\n",
    "$$\n",
    "  N= -2 M = \\mymatrix{rrrrr}{-16 & 0 & 2 & 0 & -4 \\\\ 4 & 6 & -2 & -2 & -8 \\\\ 0 & 0 & -2 & 14 & -2 \\\\ -2 & -8 & 4 & -10 & -18}.\n",
    "$$"
   ]
  },
  {
   "cell_type": "markdown",
   "metadata": {},
   "source": [
    "<h3> Сложение матриц</h3>\n",
    "\n",
    "Сложение двух матриц аналогично сложению двух векторов. \n",
    "\n",
    "Если $ K = M + N $, то $ K[i,j] = M[i,j] + N[i,j] $ для каждой пары $ (i,j) $.\n"
   ]
  },
  {
   "cell_type": "code",
   "execution_count": null,
   "metadata": {},
   "outputs": [],
   "source": [
    "# создаем пустой массив для матрицы результатов\n",
    "K=[]\n",
    "\n",
    "for i in range(len(M)): # len(M) возвращает количество строк в M\n",
    "    K.append([])\n",
    "    for j in range(len(M[0])): # len(M[0]) возвращает количество столбцов в M\n",
    "        K[i].append(M[i][j]+N[i][j]) # добавляем новые элементы в i-й подмассив/строку\n",
    "\n",
    "print(\"M=\",M)\n",
    "print(\"N=\",N)\n",
    "print(\"K=\",K)"
   ]
  },
  {
   "cell_type": "markdown",
   "metadata": {},
   "source": [
    "<b> Примечание:</b>\n",
    "\n",
    "$ K = N + M  $. Мы определили $ N $ как $ -2 M $. \n",
    "\n",
    "Таким образом, $ K = N+M = -2M + M = -M $.\n",
    "\n",
    "Мы можем убедиться, что $ K = -M $, посмотрев на результаты нашей программы."
   ]
  },
  {
   "cell_type": "markdown",
   "metadata": {},
   "source": [
    "<h3> Задание 1 </h3>\n",
    "\n",
    "Случайным образом создайте $ (3 \\times 4) $-мерные матрицы $ A $ и $ B $. \n",
    "\n",
    "Значение элементов выбирайте из массива $ \\{-5,\\ldots,5\\} $.\n",
    "\n",
    "Выведите обе матрицы.\n",
    "\n",
    "Найдите матрицу $ C = 3A - 2B $, и выведите значение его элементов. (<i>Заметим, что $ 3A - 2B = 3A + (-2B) $</i>.)\n",
    "\n",
    "Проверьте корректность полученных результатов."
   ]
  },
  {
   "cell_type": "code",
   "execution_count": null,
   "metadata": {},
   "outputs": [],
   "source": [
    "from random import randrange\n",
    "#\n",
    "# ваше решение\n",
    "#\n"
   ]
  },
  {
   "cell_type": "markdown",
   "metadata": {},
   "source": [
    "<a href=\"Math28_Matrices_Solutions.ipynb#task1\">Наше решение</a>"
   ]
  },
  {
   "cell_type": "markdown",
   "metadata": {},
   "source": [
    "<h3> Транспонирование матрицы</h3>\n",
    "\n",
    "Транспонирование матрицы получается путем перестановки строк и столбцов.\n",
    "\n",
    "Например, вторая строка становится новым вторым столбцом, а третий столбец - новой третьей строкой.\n",
    "\n",
    "Транспонирование матрицы  $ M $ обозначается как $ M^T $.\n",
    "\n",
    "$$\n",
    "    M = \\mymatrix{rrrr}{-2 & 3 & 0 & 4\\\\ -1 & 1 & 5 & 9} ~~~~~ \\Rightarrow ~~~~~ M^T=\\mymatrix{rr}{-2 & -1 \\\\ 3 & 1 \\\\ 0 & 5 \\\\ 4 & 9}  ~~~~~~~~ \\mbox{ и } ~~~~~~~~\n",
    "    N = \\mymatrix{ccc}{1 & 2 & 3 \\\\ 4 & 5 & 6 \\\\ 7 & 8 & 9} ~~~~~ \\Rightarrow ~~~~~ N^T = \\mymatrix{ccc}{1 & 4 & 7 \\\\ 2 & 5 & 8 \\\\ 3 & 6 & 9}.\n",
    "$$\n",
    "\n",
    "То есть $ M[i,j] = M^T[j,i] $ и $ N[i,j] = N^T[j,i] $. (Индексы меняются местами.)"
   ]
  },
  {
   "cell_type": "markdown",
   "metadata": {},
   "source": [
    "<h3> Задание 2 </h3>\n",
    "\n",
    "Найдите $ M^T $ и $ N^T $ используя python.\n",
    "\n",
    "Выведите все матрицы и проверьте корректность результатов."
   ]
  },
  {
   "cell_type": "code",
   "execution_count": null,
   "metadata": {},
   "outputs": [],
   "source": [
    "M = [\n",
    "    [-2,3,0,4],\n",
    "    [-1,1,5,9]      \n",
    "]\n",
    "N =[\n",
    "    [1,2,3],\n",
    "    [4,5,6],\n",
    "    [7,8,9]\n",
    "]\n",
    "#\n",
    "# ваше решение\n",
    "#\n"
   ]
  },
  {
   "cell_type": "markdown",
   "metadata": {},
   "source": [
    "<a href=\"Math28_Matrices_Solutions.ipynb#task2\">Наше решение</a>"
   ]
  },
  {
   "cell_type": "markdown",
   "metadata": {},
   "source": [
    "<h3> Умножение матрицы на вектор </h3>\n",
    "\n",
    "Определим матрицу $ M $ и вектор $ v $:\n",
    "\n",
    "$$\n",
    "    M = \\mymatrix{rrr}{-1 & 0 & 1 \\\\ -2 & -3 & 4 \\\\ 1 & 5 & 6} ~~~~~~\\mbox{и}~~~~~~ v = \\myrvector{1 \\\\ -3 \\\\ 2}.\n",
    "$$\n",
    "\n",
    "В результате умножения $ M v $  получается новый вектор $ u $ представленный в виде $ u = M v $:\n",
    "<ul>\n",
    "    <li> Первая строка $ u $ - это произведение первой строки матрицы $ M $ и $ v $.</li>\n",
    "    <li> Вторая строка $ u $ - это произведение второй строки матрицы $ M $ и $ v $.</li>\n",
    "    <li> Третья строка $ u $ - это произведение третьей строки матрицы $ M $ и $ v $. </li>\n",
    "</ul>\n",
    "\n",
    "Мы сможем провести эти вычисления используя python."
   ]
  },
  {
   "cell_type": "code",
   "execution_count": null,
   "metadata": {},
   "outputs": [],
   "source": [
    "M = [\n",
    "    [-1,0,1],\n",
    "    [-2,-3,4],\n",
    "    [1,5,6]\n",
    "]\n",
    "v = [1,-3,2]\n",
    "\n",
    "u = []\n",
    "\n",
    "for i in range(3):\n",
    "    inner_result = 0 \n",
    "    for j in range(3): \n",
    "        inner_result = inner_result + M[i][j] * v[j]\n",
    "    u.append(inner_result)\n",
    "\n",
    "print(\"Матрица M:\")\n",
    "for i in range(len(M)):\n",
    "    print(M[i])\n",
    "print()\n",
    "print(\"v=\",v)\n",
    "print()\n",
    "print(\"u=\",u)"
   ]
  },
  {
   "cell_type": "markdown",
   "metadata": {},
   "source": [
    "Проверим эти вычисления:\n",
    "\n",
    "$$\n",
    " \\mbox{Первая строка:}~~~~  \\myrvector{-1 \\\\ 0 \\\\ 1} \\cdot \\myrvector{1 \\\\ -3 \\\\ 2}  = (-1)\\cdot 1 + 0 \\cdot (-3) + 1 \\cdot 2 = -1 + 0 + 2 = 1.\n",
    "$$\n",
    "$$\n",
    " \\mbox{Вторая строка:}~~~~  \\myrvector{-2 \\\\ -3 \\\\ 4} \\cdot\\myrvector{1 \\\\ -3 \\\\ 2}  = (-2)\\cdot 1 + (-3) \\cdot (-3) + 4 \\cdot 2 = -2 + 9 + 8 = 15.\n",
    "$$\n",
    "$$\n",
    " \\mbox{Третья строка:}~~~~  \\myrvector{1 \\\\ 5 \\\\ 6} \\cdot \\myrvector{1 \\\\ -3 \\\\ 2}  = 1\\cdot 1 + 5 \\cdot (-3) + 6 \\cdot 2 = 1 - 15 + 12 = -2.\n",
    "$$\n",
    "\n",
    "$$Итак, \n",
    "    u = \\myrvector{1 \\\\ 15 \\\\ -2 }.\n",
    "$$"
   ]
  },
  {
   "cell_type": "markdown",
   "metadata": {},
   "source": [
    "<b>Примечания:</b> \n",
    "<ul>\n",
    "    <li> Размерность строки $ M $ должна совпадать с размерностью $ v $. В противном случае операция не пройдет.</li>\n",
    "    <li> Размерность строки $ u $ равна количеству строк в $ M $</li>\n",
    "</ul>"
   ]
  },
  {
   "cell_type": "markdown",
   "metadata": {},
   "source": [
    "<h3> Задание 3 </h3>\n",
    "\n",
    "Найдите $ u' = N u $ используя матрицу $ N $ и вектор $ u $:\n",
    "\n",
    "$$\n",
    "    N = \\mymatrix{rrr}{-1 & 1 & 2 \\\\ 0 & -2 & -3 \\\\ 3 & 2 & 5 \\\\ 0 & 2 & -2} ~~~~~~\\mbox{и}~~~~~~ u = \\myrvector{2 \\\\ -1 \\\\ 3}.\n",
    "$$"
   ]
  },
  {
   "cell_type": "code",
   "execution_count": null,
   "metadata": {},
   "outputs": [],
   "source": [
    "#\n",
    "# ваше решение\n",
    "#\n"
   ]
  },
  {
   "cell_type": "markdown",
   "metadata": {},
   "source": [
    "<a href=\"Math28_Matrices_Solutions.ipynb#task3\">Наше решение</a>"
   ]
  },
  {
   "cell_type": "markdown",
   "metadata": {},
   "source": [
    "<h3> Умножение двух матриц </h3>\n",
    "\n",
    "Это просто обобщение процедуры, приведенной выше.\n",
    "\n",
    "Найдем матрицу  $ K = M N $ для заданных матриц\n",
    "$\n",
    "    M = \\mymatrix{rrr}{-1 & 0 & 1 \\\\ -2 & -1 & 2 \\\\ 1 & 2 & -2} ~~\\mbox{и}~~ \n",
    "    N = \\mymatrix{rrr}{0 & 2 & 1 \\\\ 3 & -1 & -2 \\\\ -1 & 1 & 0}.\n",
    "$"
   ]
  },
  {
   "cell_type": "markdown",
   "metadata": {},
   "source": [
    "Отметим, что матрица $ N $ имеет три столбца: $ v_1 = \\myrvector{0 \\\\ 3 \\\\ -1} $, $ v_2 = \\myrvector{2 \\\\ -1 \\\\ 1} $ и $ v_3 = \\myrvector{1 \\\\ -2 \\\\ 0} $.\n",
    "\n",
    "Мы знаем как вычислить $ v_1' = M  v_1 $. \n",
    "\n",
    "Аналогично, мы можем вычислить $ v_2' = M  v_2 $ и $ v_3' = M  v_3 $. \n",
    "\n",
    "Возможно, вы уже догадались, что эти новые векторы ($v_1'$, $v_2'$ и $v_3'$) являются столбцами матрицы $ K $. \n",
    "\n",
    "Произведение i-ой строки матрицы $ M $ и $ j $-ой колонки матрицы $ N $ дает нам $(i,j)$-ый элемент матрицы $ K $."
   ]
  },
  {
   "cell_type": "markdown",
   "metadata": {},
   "source": [
    "<h3> Задание 4 </h3>\n",
    "\n",
    "Найдите матрицу $ K $.\n",
    " \n",
    "Вы можете использовать тройные вложенные циклы. \n",
    "\n",
    "Также вы можете написать функцию, принимающую два массива и возвращающую их произведение."
   ]
  },
  {
   "cell_type": "code",
   "execution_count": null,
   "metadata": {},
   "outputs": [],
   "source": [
    "M = [\n",
    "    [-1,0,1],\n",
    "    [-2,-1,2],\n",
    "    [1,2,-2]\n",
    "]\n",
    "\n",
    "N = [\n",
    "    [0,2,1],\n",
    "    [3,-1,-2],\n",
    "    [-1,1,0]\n",
    "]\n",
    "\n",
    "K = []\n",
    "\n",
    "#\n",
    "# ваше решение\n",
    "#\n"
   ]
  },
  {
   "cell_type": "markdown",
   "metadata": {},
   "source": [
    "<a href=\"Math28_Matrices_Solutions.ipynb#task4\">Наше решение</a>"
   ]
  },
  {
   "cell_type": "markdown",
   "metadata": {},
   "source": [
    "<h3> $ A B = B A $? </h3>\n",
    "\n",
    "Хорошо известно, что от перестановки множителей произведение не меняется.\n",
    "\n",
    "Например, $ (-3) \\cdot 4 = 4 \\cdot (-3) $.\n",
    "\n",
    "Верно ли это и для матриц? Для любых двух матриц $ A $ и $ B $ верно ли, что $ A B = B A $?\n",
    "\n",
    "Есть несколько примеров когда $A$ и $B$ такие, что $ A B = B A $.\n",
    "\n",
    "Но в общем случае это не так, и поэтому данное утверждение ложно.\n",
    "\n",
    "Мы можем опровергнуть это утверждение, найдя контрпример.\n",
    "\n",
    "Идея заключается в следующем: Случайным образом находим две матрицы $ A $ и $ B $ такие, что $ AB \\neq BA $.\n",
    "\n",
    "Отметим, что если $ AB = BA $, то $ AB - BA $ - нулевая матрица."
   ]
  },
  {
   "cell_type": "markdown",
   "metadata": {},
   "source": [
    "<h3> Задание 5 </h3>\n",
    "\n",
    "Случайным образом определите две $ (2 \\times 2) $-мерной матрицы $A$ и $ B $.\n",
    "\n",
    "Затем найдите $ C= AB-BA $. \n",
    "\n",
    "<i>Замечание: С некоторой вероятностью мы можем найти пару $ (A,B) $ такую, что $ AB = BA $. \n",
    "    \n",
    "В этом случае повторите эксперимент. </i>"
   ]
  },
  {
   "cell_type": "code",
   "execution_count": null,
   "metadata": {},
   "outputs": [],
   "source": [
    "#\n",
    "# ваше решение\n",
    "#\n"
   ]
  },
  {
   "cell_type": "markdown",
   "metadata": {},
   "source": [
    "<a href=\"Math28_Matrices_Solutions.ipynb#task5\">Наше решение</a>"
   ]
  }
 ],
 "metadata": {
  "kernelspec": {
   "display_name": "Python 3 (ipykernel)",
   "language": "python",
   "name": "python3"
  },
  "language_info": {
   "codemirror_mode": {
    "name": "ipython",
    "version": 3
   },
   "file_extension": ".py",
   "mimetype": "text/x-python",
   "name": "python",
   "nbconvert_exporter": "python",
   "pygments_lexer": "ipython3",
   "version": "3.7.1"
  }
 },
 "nbformat": 4,
 "nbformat_minor": 4
}
