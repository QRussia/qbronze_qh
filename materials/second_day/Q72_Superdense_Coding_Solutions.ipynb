{
 "cells": [
  {
   "cell_type": "markdown",
   "metadata": {},
   "source": [
    "<a href=\"https://qworld.net\" target=\"_blank\" align=\"left\"><img src=\"../images/header.jpg\"  align=\"left\"></a>\n",
    "$ \\newcommand{\\bra}[1]{\\langle #1|} $\n",
    "$ \\newcommand{\\ket}[1]{|#1\\rangle} $\n",
    "$ \\newcommand{\\braket}[2]{\\langle #1|#2\\rangle} $\n",
    "$ \\newcommand{\\dot}[2]{ #1 \\cdot #2} $\n",
    "$ \\newcommand{\\biginner}[2]{\\left\\langle #1,#2\\right\\rangle} $\n",
    "$ \\newcommand{\\mymatrix}[2]{\\left( \\begin{array}{#1} #2\\end{array} \\right)} $\n",
    "$ \\newcommand{\\myvector}[1]{\\mymatrix{c}{#1}} $\n",
    "$ \\newcommand{\\myrvector}[1]{\\mymatrix{r}{#1}} $\n",
    "$ \\newcommand{\\mypar}[1]{\\left( #1 \\right)} $\n",
    "$ \\newcommand{\\mybigpar}[1]{ \\Big( #1 \\Big)} $\n",
    "$ \\newcommand{\\sqrttwo}{\\frac{1}{\\sqrt{2}}} $\n",
    "$ \\newcommand{\\dsqrttwo}{\\dfrac{1}{\\sqrt{2}}} $\n",
    "$ \\newcommand{\\onehalf}{\\frac{1}{2}} $\n",
    "$ \\newcommand{\\donehalf}{\\dfrac{1}{2}} $\n",
    "$ \\newcommand{\\hadamard}{ \\mymatrix{rr}{ \\sqrttwo & \\sqrttwo \\\\ \\sqrttwo & -\\sqrttwo }} $\n",
    "$ \\newcommand{\\vzero}{\\myvector{1\\\\0}} $\n",
    "$ \\newcommand{\\vone}{\\myvector{0\\\\1}} $\n",
    "$ \\newcommand{\\stateplus}{\\myvector{ \\sqrttwo \\\\  \\sqrttwo } } $\n",
    "$ \\newcommand{\\stateminus}{ \\myrvector{ \\sqrttwo \\\\ -\\sqrttwo } } $\n",
    "$ \\newcommand{\\myarray}[2]{ \\begin{array}{#1}#2\\end{array}} $\n",
    "$ \\newcommand{\\X}{ \\mymatrix{cc}{0 & 1 \\\\ 1 & 0}  } $\n",
    "$ \\newcommand{\\I}{ \\mymatrix{rr}{1 & 0 \\\\ 0 & 1}  } $\n",
    "$ \\newcommand{\\Z}{ \\mymatrix{rr}{1 & 0 \\\\ 0 & -1}  } $\n",
    "$ \\newcommand{\\Htwo}{ \\mymatrix{rrrr}{ \\frac{1}{2} & \\frac{1}{2} & \\frac{1}{2} & \\frac{1}{2} \\\\ \\frac{1}{2} & -\\frac{1}{2} & \\frac{1}{2} & -\\frac{1}{2} \\\\ \\frac{1}{2} & \\frac{1}{2} & -\\frac{1}{2} & -\\frac{1}{2} \\\\ \\frac{1}{2} & -\\frac{1}{2} & -\\frac{1}{2} & \\frac{1}{2} } } $\n",
    "$ \\newcommand{\\CNOT}{ \\mymatrix{cccc}{1 & 0 & 0 & 0 \\\\ 0 & 1 & 0 & 0 \\\\ 0 & 0 & 0 & 1 \\\\ 0 & 0 & 1 & 0} } $\n",
    "$ \\newcommand{\\norm}[1]{ \\left\\lVert #1 \\right\\rVert } $\n",
    "$ \\newcommand{\\pstate}[1]{ \\lceil \\mspace{-1mu} #1 \\mspace{-1.5mu} \\rfloor } $\n",
    "$ \\newcommand{\\greenbit}[1] {\\mathbf{{\\color{green}#1}}} $\n",
    "$ \\newcommand{\\bluebit}[1] {\\mathbf{{\\color{blue}#1}}} $\n",
    "$ \\newcommand{\\redbit}[1] {\\mathbf{{\\color{red}#1}}} $\n",
    "$ \\newcommand{\\brownbit}[1] {\\mathbf{{\\color{brown}#1}}} $\n",
    "$ \\newcommand{\\blackbit}[1] {\\mathbf{{\\color{black}#1}}} $"
   ]
  },
  {
   "cell_type": "markdown",
   "metadata": {},
   "source": [
    "<font style=\"font-size:28px;\" align=\"left\"><b> <font color=\"blue\"> Решение для </font>Запутанности и Сверхплотного кодирования </b></font>\n",
    "<br>\n",
    "_подготовлено Abuzer Yakaryilmaz_\n",
    "<br><br>"
   ]
  },
  {
   "cell_type": "markdown",
   "metadata": {},
   "source": [
    "<a id=\"task1\"></a>\n",
    "<h3> Задача 1</h3>\n",
    "\n",
    "Проверьте корректность протокола, описанного выше.\n",
    "\n",
    "Для каждой пары $ (a,b) \\in \\left\\{ (0,0), (0,1), (1,0),(1,1) \\right\\} $:\n",
    "- Создайте квантовую схему с двумя кубитами: кубиты Аси и Балвиса\n",
    "- Установите начальное состояние каждого в $ \\ket{0} $\n",
    "- Примените оператор Адамара (h-gate) к кубиту Аси\n",
    "- Примените оператор CNOT (cx-gate) как CNOT(кубит Аси, кубит Балвиса)\n",
    "\n",
    "Предположим, что оба кубита отделены друг от друга.\n",
    "\n",
    "<ul>\n",
    "    <li> Если $ a $ = 1, тогда примените оператор $Z$ (z-gate) к кубиту Аси. </li>\n",
    "    <li> Если $ b $ = 1, тогда примените оператор NOT (x-gate) к кубиту Аси. </li>\n",
    "</ul>\n",
    "\n",
    "Предположим, что Ася отправила свой кубит Балвису.\n",
    "- Примените оператор CNOT (cx-gate) как CNOT(кубит Аси, кубит Балвиса)\n",
    "- Примените оператор Адамара (h-gate) к кубиту Аси\n",
    "- Измерьте оба кубита и сравните результат с парой $ (a,b) $"
   ]
  },
  {
   "cell_type": "markdown",
   "metadata": {},
   "source": [
    "<h3> Решение </h3>"
   ]
  },
  {
   "cell_type": "code",
   "execution_count": null,
   "metadata": {},
   "outputs": [],
   "source": [
    "# import all necessary objects and methods for quantum circuits\n",
    "from qiskit import QuantumRegister, ClassicalRegister, QuantumCircuit, transpile\n",
    "from qiskit_aer import Aer\n",
    "\n",
    "all_pairs = ['00','01','10','11']\n",
    "\n",
    "for pair in all_pairs:\n",
    "\n",
    "    # create a quantum curcuit with two qubits: Asja's and Balvis' qubits.\n",
    "    # both are initially set to |0>.\n",
    "    q = QuantumRegister(2,\"q\") # quantum register with 2 qubits\n",
    "    c = ClassicalRegister(2,\"c\") # classical register with 2 bits\n",
    "    qc = QuantumCircuit(q,c) # quantum circuit with quantum and classical registers\n",
    "\n",
    "    # apply h-gate (Hadamard) to the Asja's qubit\n",
    "    qc.h(q[1])\n",
    "\n",
    "    # apply cx-gate as CNOT(Asja's-qubit,Balvis'-qubit)\n",
    "    qc.cx(q[1],q[0])\n",
    "\n",
    "    # they are separated from each other now\n",
    "\n",
    "    # if a is 1, then apply z-gate to Asja's qubit\n",
    "    if pair[0]=='1': \n",
    "        qc.z(q[1])\n",
    "    \n",
    "    # if b is 1, then apply x-gate (NOT) to Asja's qubit\n",
    "    if pair[1]=='1': \n",
    "        qc.x(q[1])\n",
    "    \n",
    "    # Asja sends her qubit to Balvis\n",
    "    qc.barrier()\n",
    "    \n",
    "    #  apply cx-gate as CNOT(Asja's-qubit,Balvis'-qubit)\n",
    "    qc.cx(q[1],q[0])\n",
    "    \n",
    "    # apply h-gate (Hadamard) to the Asja's qubit\n",
    "    qc.h(q[1])\n",
    "    \n",
    "    # measure both qubits\n",
    "    qc.barrier()\n",
    "    qc.measure(q,c)\n",
    "    \n",
    "    # draw the circuit in Qiskit's reading order\n",
    "    display(qc.draw(output='mpl',reverse_bits=True))\n",
    "    \n",
    "    # compare the results with pair (a,b)\n",
    "    backend = Aer.get_backend('qasm_simulator')\n",
    "    job = backend.run(transpile(qc, backend), shots=100)\n",
    "    counts = job.result().get_counts(qc)\n",
    "    print(pair,\"-->\",counts)"
   ]
  }
 ],
 "metadata": {
  "kernelspec": {
   "display_name": "Python 3 (ipykernel)",
   "language": "python",
   "name": "python3"
  },
  "language_info": {
   "codemirror_mode": {
    "name": "ipython",
    "version": 3
   },
   "file_extension": ".py",
   "mimetype": "text/x-python",
   "name": "python",
   "nbconvert_exporter": "python",
   "pygments_lexer": "ipython3",
   "version": "3.12.7"
  }
 },
 "nbformat": 4,
 "nbformat_minor": 4
}
