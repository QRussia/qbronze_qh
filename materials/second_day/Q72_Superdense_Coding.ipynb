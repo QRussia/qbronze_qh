{
 "cells": [
  {
   "cell_type": "markdown",
   "metadata": {},
   "source": [
    "<a href=\"https://qworld.net\" target=\"_blank\" align=\"left\"><img src=\"../images/header.jpg\"  align=\"left\"></a>\n",
    "$ \\newcommand{\\bra}[1]{\\langle #1|} $\n",
    "$ \\newcommand{\\ket}[1]{|#1\\rangle} $\n",
    "$ \\newcommand{\\braket}[2]{\\langle #1|#2\\rangle} $\n",
    "$ \\newcommand{\\dot}[2]{ #1 \\cdot #2} $\n",
    "$ \\newcommand{\\biginner}[2]{\\left\\langle #1,#2\\right\\rangle} $\n",
    "$ \\newcommand{\\mymatrix}[2]{\\left( \\begin{array}{#1} #2\\end{array} \\right)} $\n",
    "$ \\newcommand{\\myvector}[1]{\\mymatrix{c}{#1}} $\n",
    "$ \\newcommand{\\myrvector}[1]{\\mymatrix{r}{#1}} $\n",
    "$ \\newcommand{\\mypar}[1]{\\left( #1 \\right)} $\n",
    "$ \\newcommand{\\mybigpar}[1]{ \\Big( #1 \\Big)} $\n",
    "$ \\newcommand{\\sqrttwo}{\\frac{1}{\\sqrt{2}}} $\n",
    "$ \\newcommand{\\dsqrttwo}{\\dfrac{1}{\\sqrt{2}}} $\n",
    "$ \\newcommand{\\onehalf}{\\frac{1}{2}} $\n",
    "$ \\newcommand{\\donehalf}{\\dfrac{1}{2}} $\n",
    "$ \\newcommand{\\hadamard}{ \\mymatrix{rr}{ \\sqrttwo & \\sqrttwo \\\\ \\sqrttwo & -\\sqrttwo }} $\n",
    "$ \\newcommand{\\vzero}{\\myvector{1\\\\0}} $\n",
    "$ \\newcommand{\\vone}{\\myvector{0\\\\1}} $\n",
    "$ \\newcommand{\\stateplus}{\\myvector{ \\sqrttwo \\\\  \\sqrttwo } } $\n",
    "$ \\newcommand{\\stateminus}{ \\myrvector{ \\sqrttwo \\\\ -\\sqrttwo } } $\n",
    "$ \\newcommand{\\myarray}[2]{ \\begin{array}{#1}#2\\end{array}} $\n",
    "$ \\newcommand{\\X}{ \\mymatrix{cc}{0 & 1 \\\\ 1 & 0}  } $\n",
    "$ \\newcommand{\\I}{ \\mymatrix{rr}{1 & 0 \\\\ 0 & 1}  } $\n",
    "$ \\newcommand{\\Z}{ \\mymatrix{rr}{1 & 0 \\\\ 0 & -1}  } $\n",
    "$ \\newcommand{\\Htwo}{ \\mymatrix{rrrr}{ \\frac{1}{2} & \\frac{1}{2} & \\frac{1}{2} & \\frac{1}{2} \\\\ \\frac{1}{2} & -\\frac{1}{2} & \\frac{1}{2} & -\\frac{1}{2} \\\\ \\frac{1}{2} & \\frac{1}{2} & -\\frac{1}{2} & -\\frac{1}{2} \\\\ \\frac{1}{2} & -\\frac{1}{2} & -\\frac{1}{2} & \\frac{1}{2} } } $\n",
    "$ \\newcommand{\\CNOT}{ \\mymatrix{cccc}{1 & 0 & 0 & 0 \\\\ 0 & 1 & 0 & 0 \\\\ 0 & 0 & 0 & 1 \\\\ 0 & 0 & 1 & 0} } $\n",
    "$ \\newcommand{\\norm}[1]{ \\left\\lVert #1 \\right\\rVert } $\n",
    "$ \\newcommand{\\pstate}[1]{ \\lceil \\mspace{-1mu} #1 \\mspace{-1.5mu} \\rfloor } $\n",
    "$ \\newcommand{\\greenbit}[1] {\\mathbf{{\\color{green}#1}}} $\n",
    "$ \\newcommand{\\bluebit}[1] {\\mathbf{{\\color{blue}#1}}} $\n",
    "$ \\newcommand{\\redbit}[1] {\\mathbf{{\\color{red}#1}}} $\n",
    "$ \\newcommand{\\brownbit}[1] {\\mathbf{{\\color{brown}#1}}} $\n",
    "$ \\newcommand{\\blackbit}[1] {\\mathbf{{\\color{black}#1}}} $"
   ]
  },
  {
   "cell_type": "markdown",
   "metadata": {},
   "source": [
    "<font style=\"font-size:28px;\" align=\"left\"><b> Запутанность и Сверхплотное кодирование </b></font>\n",
    "<br>\n",
    "_подготовлено Abuzer Yakaryilmaz_\n",
    "<br><br>\n",
    "[<img src=\"../images/watch_lecture.jpg\" align=\"left\">](https://youtu.be/ZzRcItzUF2U)\n",
    "<br><br><br>"
   ]
  },
  {
   "cell_type": "markdown",
   "metadata": {},
   "source": [
    "У Аси есть кубит, находится в состоянии $ \\ket{0} $.\n",
    "\n",
    "У Балвиса тоже есть кубит, также находится в состоянии $ \\ket{0} $."
   ]
  },
  {
   "cell_type": "markdown",
   "metadata": {},
   "source": [
    "<h3> Запутанность </h3>\n",
    "    \n",
    "Ася применяет оператор Адамара к своему кубиту. \n",
    "\n",
    "Состояние кубита Аси будет равно $ \\stateplus $.\n",
    "\n",
    "Тогда Ася и Балвис комбинируют свои кубиты. Состояние все системы будет\n",
    "\n",
    "$ \\stateplus \\otimes \\vzero = \\myvector{ \\frac{1}{\\sqrt{2}} \\\\ 0 \\\\ \\frac{1}{\\sqrt{2}} \\\\ 0 }  $.\n"
   ]
  },
  {
   "cell_type": "markdown",
   "metadata": {},
   "source": [
    "Теперь Ася и Балвис применяют оператор CNOT к этим кубитам.\n",
    "\n",
    "Новое состояние всей системы\n",
    "\n",
    "$ \\CNOT \\myvector{ \\frac{1}{\\sqrt{2}} \\\\ 0 \\\\ \\frac{1}{\\sqrt{2}} \\\\ 0 }  = \\myvector{ \\frac{1}{\\sqrt{2}} \\\\ 0 \\\\0 \\\\ \\frac{1}{\\sqrt{2}} } = \\frac{1}{\\sqrt{2}}\\ket{00} + \\frac{1}{\\sqrt{2}}\\ket{11}  $.\n",
    "\n",
    "Начиная с этого момента кубиты Аси и Балвиса будут коррелировать между собой.\n",
    "\n",
    "Если мы измерим оба кубита, мы будем наблюдать либо оба кубита в состоянии $ \\ket{00} $ либо в состоянии $ \\ket{11} $. \n",
    "\n",
    "Предположим, что Ася проводит измерение своего кубита тайно. \n",
    "<ul>\n",
    "    <li> Когда Ася видит результат $ \\ket{0} $, кубит Балвиса также перейдет в состояние $ \\ket{0} $. Балвис не сможет пронаблюдать состояние $ \\ket{1} $. </li>\n",
    "    <li> Когда Ася видит результат $ \\ket{1} $, кубит Балвиса также перейдет в состояние $ \\ket{1} $. Балвис не сможет пронаблюдать состояние $ \\ket{0} $. </li>\n",
    "</ul>\n",
    "    \n",
    "Результаты проведенных экспериментов показывают, что это работает, даже если кубиты Аси и Балвиса удалены друг от друга на некоторое расстояние. \n",
    "\n",
    "Коррелированные квантовые частицы могут \"повлиять друг на друга\" немедленно, даже если они находятся на разных частях вселенной. \n",
    "\n",
    "Если два кубита скоррелированы между собой таким образом, тогда мы называем такие кубиты <b>запутанными</b>.\n",
    "\n",
    "<i> <u>Заметка</u>: \n",
    "    \n",
    "Если квантовое состояние двух кубитов может быть записано как $ \\ket{u} \\otimes \\ket{v} $, тогда два кубита не скоррелированы, где $ \\ket{u} $ и $ \\ket{v} $ квантовые состояния первого и второго кубитов.\n",
    "\n",
    "С другой стороны, если состояние двух кубитов не может быть записано как $ \\ket{u} \\otimes \\ket{v} $, тогда два кубита являются запутанными.\n",
    "</i>\n",
    "\n",
    "<b> Запутанные кубиты могут быть полезными </b>"
   ]
  },
  {
   "cell_type": "markdown",
   "metadata": {},
   "source": [
    "<h3> Квантовая коммуникация </h3>\n",
    "\n",
    "После запутывания, Балвис берет свой кубит и уходит.\n",
    "\n",
    "Ася отправляет два классических бита информации с помощью одного своего кубита.\n",
    "\n",
    "<img src=\"../images/superdense-coding.jpg\" align=\"left\" width=\"800px\">"
   ]
  },
  {
   "cell_type": "markdown",
   "metadata": {},
   "source": [
    "Сейчас мы опишем этот протокол.\n",
    "\n",
    "Ася имеет два бита классической информации: $ a,b \\in \\{0,1\\} $. \n",
    "\n",
    "Существует 4 возможных значения для этой пары $ (a,b) $:  $ (0,0), (0,1), (1,0),\\mbox{ or } (1,1) $. \n",
    "\n",
    "Если $a$ 1, тогда Ася применяет оператор z (z-gate), т.е., $ Z = \\Z $, к своему кубиту.\n",
    "\n",
    "Если $b$ 1, тогда Ася применяет оператор x (x-gate) (оператор НЕ) к своему кубиту.\n",
    "\n",
    "После чего Ася отправляет свой кубит Балвису."
   ]
  },
  {
   "cell_type": "markdown",
   "metadata": {},
   "source": [
    "<h3> После коммуникации </h3>\n",
    "\n",
    "У Балвиса теперь оба кубита.\n",
    "\n",
    "Он применяет оператор CNOT (cx-gate), где кубит Аси является контролирующим.\n",
    "\n",
    "Далее Балвис применяет оператор Адамара (h-gate) к кубиту Аси.\n",
    "\n",
    "Затем он измеряет оба кубита. \n",
    "\n",
    "Результат измерения будет хранить $ (a,b) $."
   ]
  },
  {
   "cell_type": "markdown",
   "metadata": {},
   "source": [
    "<h3> Задача 1</h3>\n",
    "\n",
    "Проверьте корректность протокола, описанного выше.\n",
    "\n",
    "Для каждой пары $ (a,b) \\in \\left\\{ (0,0), (0,1), (1,0),(1,1) \\right\\} $:\n",
    "- Создайте квантовую схему с двумя кубитами: кубиты Аси и Балвиса\n",
    "- Установите начальное состояние каждого в $ \\ket{0} $\n",
    "- Примените оператор Адамара (h-gate) к кубиту Аси\n",
    "- Примените оператор CNOT (cx-gate) как CNOT(кубит Аси, кубит Балвиса)\n",
    "\n",
    "Предположим, что оба кубита отделены друг от друга.\n",
    "\n",
    "<ul>\n",
    "    <li> Если $ a $ = 1, тогда примените оператор $Z$ (z-gate) к кубиту Аси. </li>\n",
    "    <li> Если $ b $ = 1, тогда примените оператор NOT (x-gate) к кубиту Аси. </li>\n",
    "</ul>\n",
    "\n",
    "Предположим, что Ася отправила свой кубит Балвису.\n",
    "- Примените оператор CNOT (cx-gate) как CNOT(кубит Аси, кубит Балвиса)\n",
    "- Примените оператор Адамара (h-gate) к кубиту Аси\n",
    "- Измерьте оба кубита и сравните результат с парой $ (a,b) $"
   ]
  },
  {
   "cell_type": "code",
   "execution_count": null,
   "metadata": {},
   "outputs": [],
   "source": [
    "# import all necessary objects and methods for quantum circuits\n",
    "from qiskit import QuantumRegister, ClassicalRegister, QuantumCircuit, execute, Aer\n",
    "\n",
    "all_pairs = ['00','01','10','11']\n",
    "\n",
    "#\n",
    "# your code is here\n",
    "#\n"
   ]
  },
  {
   "cell_type": "markdown",
   "metadata": {},
   "source": [
    "<a href=\"Q72_Superdense_Coding_Solutions.ipynb#task1\">решение тут</a>"
   ]
  },
  {
   "cell_type": "markdown",
   "metadata": {},
   "source": [
    "<h3> Task 2 </h3>\n",
    "\n",
    "Проверьте каждый случай, расписывая все при помощи векторов (на бумаге). \n",
    "\n",
    "_Подсказка: Представление квантовых состояний в виде линейных комбинаций базовых состояний делает вычисления проще._"
   ]
  }
 ],
 "metadata": {
  "kernelspec": {
   "display_name": "Python 3 (ipykernel)",
   "language": "python",
   "name": "python3"
  },
  "language_info": {
   "codemirror_mode": {
    "name": "ipython",
    "version": 3
   },
   "file_extension": ".py",
   "mimetype": "text/x-python",
   "name": "python",
   "nbconvert_exporter": "python",
   "pygments_lexer": "ipython3",
   "version": "3.11.6"
  }
 },
 "nbformat": 4,
 "nbformat_minor": 4
}
