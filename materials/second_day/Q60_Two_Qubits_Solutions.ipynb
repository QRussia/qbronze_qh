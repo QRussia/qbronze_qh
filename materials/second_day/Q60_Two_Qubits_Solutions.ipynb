{
 "cells": [
  {
   "cell_type": "markdown",
   "metadata": {},
   "source": [
    "<a href=\"https://qworld.net\" target=\"_blank\" align=\"left\"><img src=\"../images/header.jpg\"  align=\"left\"></a>\n",
    "$ \\newcommand{\\bra}[1]{\\langle #1|} $\n",
    "$ \\newcommand{\\ket}[1]{|#1\\rangle} $\n",
    "$ \\newcommand{\\braket}[2]{\\langle #1|#2\\rangle} $\n",
    "$ \\newcommand{\\dot}[2]{ #1 \\cdot #2} $\n",
    "$ \\newcommand{\\biginner}[2]{\\left\\langle #1,#2\\right\\rangle} $\n",
    "$ \\newcommand{\\mymatrix}[2]{\\left( \\begin{array}{#1} #2\\end{array} \\right)} $\n",
    "$ \\newcommand{\\myvector}[1]{\\mymatrix{c}{#1}} $\n",
    "$ \\newcommand{\\myrvector}[1]{\\mymatrix{r}{#1}} $\n",
    "$ \\newcommand{\\mypar}[1]{\\left( #1 \\right)} $\n",
    "$ \\newcommand{\\mybigpar}[1]{ \\Big( #1 \\Big)} $\n",
    "$ \\newcommand{\\sqrttwo}{\\frac{1}{\\sqrt{2}}} $\n",
    "$ \\newcommand{\\dsqrttwo}{\\dfrac{1}{\\sqrt{2}}} $\n",
    "$ \\newcommand{\\onehalf}{\\frac{1}{2}} $\n",
    "$ \\newcommand{\\donehalf}{\\dfrac{1}{2}} $\n",
    "$ \\newcommand{\\hadamard}{ \\mymatrix{rr}{ \\sqrttwo & \\sqrttwo \\\\ \\sqrttwo & -\\sqrttwo }} $\n",
    "$ \\newcommand{\\vzero}{\\myvector{1\\\\0}} $\n",
    "$ \\newcommand{\\vone}{\\myvector{0\\\\1}} $\n",
    "$ \\newcommand{\\stateplus}{\\myvector{ \\sqrttwo \\\\  \\sqrttwo } } $\n",
    "$ \\newcommand{\\stateminus}{ \\myrvector{ \\sqrttwo \\\\ -\\sqrttwo } } $\n",
    "$ \\newcommand{\\myarray}[2]{ \\begin{array}{#1}#2\\end{array}} $\n",
    "$ \\newcommand{\\X}{ \\mymatrix{cc}{0 & 1 \\\\ 1 & 0}  } $\n",
    "$ \\newcommand{\\I}{ \\mymatrix{rr}{1 & 0 \\\\ 0 & 1}  } $\n",
    "$ \\newcommand{\\Z}{ \\mymatrix{rr}{1 & 0 \\\\ 0 & -1}  } $\n",
    "$ \\newcommand{\\Htwo}{ \\mymatrix{rrrr}{ \\frac{1}{2} & \\frac{1}{2} & \\frac{1}{2} & \\frac{1}{2} \\\\ \\frac{1}{2} & -\\frac{1}{2} & \\frac{1}{2} & -\\frac{1}{2} \\\\ \\frac{1}{2} & \\frac{1}{2} & -\\frac{1}{2} & -\\frac{1}{2} \\\\ \\frac{1}{2} & -\\frac{1}{2} & -\\frac{1}{2} & \\frac{1}{2} } } $\n",
    "$ \\newcommand{\\CNOT}{ \\mymatrix{cccc}{1 & 0 & 0 & 0 \\\\ 0 & 1 & 0 & 0 \\\\ 0 & 0 & 0 & 1 \\\\ 0 & 0 & 1 & 0} } $\n",
    "$ \\newcommand{\\norm}[1]{ \\left\\lVert #1 \\right\\rVert } $\n",
    "$ \\newcommand{\\pstate}[1]{ \\lceil \\mspace{-1mu} #1 \\mspace{-1.5mu} \\rfloor } $\n",
    "$ \\newcommand{\\greenbit}[1] {\\mathbf{{\\color{green}#1}}} $\n",
    "$ \\newcommand{\\bluebit}[1] {\\mathbf{{\\color{blue}#1}}} $\n",
    "$ \\newcommand{\\redbit}[1] {\\mathbf{{\\color{red}#1}}} $\n",
    "$ \\newcommand{\\brownbit}[1] {\\mathbf{{\\color{brown}#1}}} $\n",
    "$ \\newcommand{\\blackbit}[1] {\\mathbf{{\\color{black}#1}}} $"
   ]
  },
  {
   "cell_type": "markdown",
   "metadata": {},
   "source": [
    "<font style=\"font-size:28px;\" align=\"left\"><b> <font color=\"blue\"> Решения раздела </font>Два кубита</b></font>\n",
    "<br>\n",
    "_подготовлено Abuzer Yakaryilmaz, переведено QRussia_\n",
    "<br><br>"
   ]
  },
  {
   "cell_type": "markdown",
   "metadata": {},
   "source": [
    "<a id=\"task3\"></a>\n",
    "<h3> Задача 3 </h3>\n",
    "\n",
    "Определим квантовую схему с двумя кубитами: $ q_0 $ и $ q_1 $. В Qiskit они представлены как тензорное произведение $ q_1 \\otimes q_0 $.\n",
    "\n",
    "Применим оператор Адамара к $q_1$."
   ]
  },
  {
   "cell_type": "code",
   "execution_count": null,
   "metadata": {},
   "outputs": [],
   "source": [
    "from qiskit import QuantumCircuit\n",
    "qc = QuantumCircuit(2)\n",
    "qc.h(1)\n",
    "qc.draw(output='mpl',reverse_bits=True)"
   ]
  },
  {
   "cell_type": "markdown",
   "metadata": {},
   "source": [
    "Тогда квантовый оператор, применный к этим кубитам, будет иметь вид $ H \\otimes I $.\n",
    "\n",
    "Определите матричное представление квантового оператора на схеме выше, используя 'unitary_simulator' и проверьте, что это действительно соответствует $ H \\otimes I $."
   ]
  },
  {
   "cell_type": "markdown",
   "metadata": {},
   "source": [
    "<h3> Решение </h3>"
   ]
  },
  {
   "cell_type": "markdown",
   "metadata": {},
   "source": [
    "$ H \\otimes I = \\hadamard \\otimes \\I =  \\mymatrix{c|c}{ \\sqrttwo \\I & \\sqrttwo \\I \\\\ \\hline \\sqrttwo \\I & -\\sqrttwo \\I } = \\mymatrix{rr|rr} { \\sqrttwo & 0 & \\sqrttwo & 0 \\\\ 0 & \\sqrttwo & 0 & \\sqrttwo \\\\ \\hline \\sqrttwo & 0 & -\\sqrttwo & 0 \\\\ 0 & \\sqrttwo & 0 & -\\sqrttwo } $"
   ]
  },
  {
   "cell_type": "code",
   "execution_count": null,
   "metadata": {},
   "outputs": [],
   "source": [
    "from qiskit import transpile\n",
    "from qiskit_aer import Aer\n",
    "\n",
    "backend = Aer.get_backend('unitary_simulator')\n",
    "job = backend.run(transpile(qc, backend), shots=1, optimization_level=0)\n",
    "current_unitary = job.result().get_unitary(qc, decimals=3).data\n",
    "for row in current_unitary:\n",
    "    column = \"\"\n",
    "    for entry in row:\n",
    "        column = column + str(round(entry.real,3)) + \" \"\n",
    "    print(column)"
   ]
  },
  {
   "cell_type": "markdown",
   "metadata": {},
   "source": [
    "<a id=\"task5\"></a>\n",
    "<h3> Задача 5 </h3>\n",
    "\n",
    "Создайте квантовую схему с $ n=5 $ кубитами.\n",
    "\n",
    "Каждый кубит установите в состояние $ \\ket{1} $.\n",
    "\n",
    "Повторите 4 раза:\n",
    "<ul>\n",
    "    <li>Произвольно выберите пару кубитов и примените cx-gate (оператор CNOT) к этой паре.</li>\n",
    "</ul>\n",
    "\n",
    "Нарисуйте схему и выполните вашу программу 100 раз.\n",
    "\n",
    "Проверьте результаты измерений, сравнив с рисунком схемы. "
   ]
  },
  {
   "cell_type": "markdown",
   "metadata": {},
   "source": [
    "<h3> Решение </h3>"
   ]
  },
  {
   "cell_type": "code",
   "execution_count": null,
   "metadata": {},
   "outputs": [],
   "source": [
    "# import all necessary objects and methods for quantum circuits\n",
    "from qiskit import QuantumRegister, ClassicalRegister, QuantumCircuit, transpile\n",
    "from qiskit_aer import Aer\n",
    "# import randrange for random choices\n",
    "from random import randrange\n",
    "\n",
    "n = 5\n",
    "m = 4\n",
    "\n",
    "states_of_qubits = [] # we trace the state of each qubit also by ourselves\n",
    "\n",
    "q =  QuantumRegister(n,\"q\") # quantum register with n qubits\n",
    "c = ClassicalRegister(n,\"c\") # classical register with n bits\n",
    "\n",
    "qc = QuantumCircuit(q,c) # quantum circuit with quantum and classical registers\n",
    "\n",
    "# set each qubit to |1>\n",
    "for i in range(n):\n",
    "    qc.x(q[i]) # apply x-gate (NOT operator)\n",
    "    states_of_qubits.append(1) # the state of each qubit is set to 1\n",
    "    \n",
    "# randomly pick m pairs of qubits\n",
    "for i in range(m):\n",
    "    controller_qubit = randrange(n)\n",
    "    target_qubit = randrange(n)\n",
    "    # controller and target qubits should be different\n",
    "    while controller_qubit == target_qubit: # if they are the same, we pick the target_qubit again\n",
    "        target_qubit = randrange(n)\n",
    "    # print our picked qubits\n",
    "    print(\"the indices of the controller and target qubits are\",controller_qubit,target_qubit)\n",
    "    # apply cx-gate (CNOT operator)\n",
    "    qc.cx(q[controller_qubit],q[target_qubit])\n",
    "    # we also trace the results\n",
    "    if states_of_qubits[controller_qubit] == 1: # if the value of the controller qubit is 1,\n",
    "        states_of_qubits[target_qubit] = 1 - states_of_qubits[target_qubit] # then flips the value of the target qubit \n",
    "        # remark that 1-x gives the negation of x\n",
    "    \n",
    "\n",
    "# measure the quantum register\n",
    "qc.barrier()\n",
    "qc.measure(q,c)\n",
    "\n",
    "# draw the circuit in reading order\n",
    "display(qc.draw(output='mpl',reverse_bits=True))\n",
    "\n",
    "# execute the circuit 100 times in the local simulator\n",
    "backend = Aer.get_backend('qasm_simulator')\n",
    "job = backend.run(transpile(qc, backend), shots=100)\n",
    "counts = job.result().get_counts(qc)\n",
    "print(\"the measurument result is\",counts)\n",
    "\n",
    "our_result=\"\"\n",
    "for state in states_of_qubits:\n",
    "    our_result = str(state) + our_result\n",
    "print(\"our result is\",our_result)"
   ]
  },
  {
   "cell_type": "markdown",
   "metadata": {},
   "source": [
    "<a id=\"task6\"></a>\n",
    "<h3>Задача 6</h3>\n",
    "\n",
    "Наша задача - изучить поведение следующей квантовой схемы через эксперименты.\n",
    "\n",
    "В нашей схеме два кубита: $ q_0 $ и $ q_1 $. В Qiskit представлены как $ q_1 \\otimes q_0 $.\n",
    "<ul>\n",
    "    <li> Примените оператор Адамара к обоим кубитами.\n",
    "    <li> Примените CNOT($q_1$,$q_0$).\n",
    "    <li> Примените оператор Адамара к обоим кубитами.\n",
    "    <li> Произведите измерение.\n",
    "</ul>\n",
    "\n",
    "Последовательно проинициализируйте кубиты в состояния $ \\ket{00} $, $ \\ket{01} $, $ \\ket{10} $, и $ \\ket{11} $.\n",
    "\n",
    "Запустите вашу программу 100 раз для каждого состояния и проверьте вывод.\n",
    "\n",
    "Убедитесь, что данная схема реализует оператор CNOT($q_0$,$q_1$)."
   ]
  },
  {
   "cell_type": "markdown",
   "metadata": {},
   "source": [
    "<h3> Решение </h3>"
   ]
  },
  {
   "cell_type": "code",
   "execution_count": null,
   "metadata": {},
   "outputs": [],
   "source": [
    "# import all necessary objects and methods for quantum circuits\n",
    "from qiskit import QuantumRegister, ClassicalRegister, QuantumCircuit, transpile\n",
    "from qiskit_aer import Aer\n",
    "\n",
    "all_inputs=['00','01','10','11']\n",
    "\n",
    "for input in all_inputs:\n",
    "    q =  QuantumRegister(2,\"q\") # quantum register with 2 qubits\n",
    "    c = ClassicalRegister(2,\"c\") # classical register with 2 bits\n",
    "    qc = QuantumCircuit(q,c) # quantum circuit with quantum and classical registers\n",
    "    \n",
    "    # initialize the inputs w.r.t the reading order of Qiskit\n",
    "    if input[0]=='1':\n",
    "        qc.x(q[1]) # set the state of the up qubit to |1>\n",
    "    if input[1]=='1':\n",
    "        qc.x(q[0]) # set the state of the down qubit to |1>\n",
    "\n",
    "    # apply h-gate to both qubits\n",
    "    qc.h(q[0])\n",
    "    qc.h(q[1])\n",
    "\n",
    "    # apply cx(up-qubit,down-qubit)\n",
    "    qc.cx(q[1],q[0])\n",
    "\n",
    "    # apply h-gate to both qubits\n",
    "    qc.h(q[0])\n",
    "    qc.h(q[1])\n",
    "\n",
    "    # measure both qubits\n",
    "    qc.barrier()\n",
    "    qc.measure(q,c)\n",
    "    \n",
    "    # draw the circuit w.r.t the reading order of Qiskit\n",
    "    display(qc.draw(output='mpl',reverse_bits=True))\n",
    "    \n",
    "    # execute the circuit 100 times in the local simulator\n",
    "    backend = Aer.get_backend('qasm_simulator')\n",
    "    job = backend.run(transpile(qc, backend), shots=100)\n",
    "    counts = job.result().get_counts(qc)\n",
    "    print(input,\"is mapped to\",counts)"
   ]
  },
  {
   "cell_type": "markdown",
   "metadata": {},
   "source": [
    "<a id=\"task7\"></a>\n",
    "<h3>Задача 7</h3>\n",
    "\n",
    "Наша задача - изучить поведение следующей квантовой схемы через эксперименты.\n",
    "\n",
    "В нашей схеме два кубита: $ q_0 $ и $ q_1 $. В Qiskit представлены как $ q_1 \\otimes q_0 $.\n",
    "<ul>\n",
    "    <li> Примените CNOT($q_1$,$q_0$).\n",
    "    <li> Примените CNOT($q_0$,$q_1$).\n",
    "    <li> Примените CNOT($q_1$,$q_0$).\n",
    "</ul>\n",
    "\n",
    "Последовательно проинициализируйте кубиты в состояния $ \\ket{00} $, $ \\ket{01} $, $ \\ket{10} $, и $ \\ket{11} $.\n",
    "\n",
    "Запустите вашу программу 100 раз для каждого состояния и проверьте вывод.\n",
    "\n",
    "Убедитесь, что данная схема переставляет значения первого и второго кубитов между собой:\n",
    "<ul>\n",
    "    <li> $\\ket{00} \\rightarrow \\ket{00} $ </li>\n",
    "    <li> $\\ket{01} \\rightarrow \\ket{10} $ </li>\n",
    "    <li> $\\ket{10} \\rightarrow \\ket{01} $ </li>\n",
    "    <li> $\\ket{11} \\rightarrow \\ket{11} $ </li>\n",
    "</ul>"
   ]
  },
  {
   "cell_type": "markdown",
   "metadata": {},
   "source": [
    "<h3> Решение </h3>"
   ]
  },
  {
   "cell_type": "code",
   "execution_count": null,
   "metadata": {},
   "outputs": [],
   "source": [
    "# import all necessary objects and methods for quantum circuits\n",
    "from qiskit import QuantumRegister, ClassicalRegister, QuantumCircuit, transpile\n",
    "from qiskit_aer import Aer\n",
    "\n",
    "all_inputs=['00','01','10','11']\n",
    "\n",
    "for input in all_inputs:\n",
    "    q =  QuantumRegister(2,\"q\") # quantum register with 2 qubits\n",
    "    c = ClassicalRegister(2,\"c\") # classical register with 2 bits\n",
    "    qc = QuantumCircuit(q,c) # quantum circuit with quantum and classical registers\n",
    "    \n",
    "    #initialize the inputs w.r.t the reading order of Qiskit\n",
    "    if input[0]=='1':\n",
    "        qc.x(q[1]) # set the state of the up qubit to |1>\n",
    "    if input[1]=='1':\n",
    "        qc.x(q[0]) # set the state of the down qubit to |1>\n",
    "\n",
    "    # apply cx(up-qubit,down-qubit)\n",
    "    qc.cx(q[1],q[0])\n",
    "    # apply cx(down-qubit,up-qubit)\n",
    "    qc.cx(q[0],q[1])\n",
    "    # apply cx(up-qubit,down-qubit)\n",
    "    qc.cx(q[1],q[0])\n",
    "    \n",
    "    # measure both qubits\n",
    "    qc.barrier()\n",
    "    qc.measure(q,c)\n",
    "    \n",
    "    # draw the circuit w.r.t the reading order of Qiskit\n",
    "    display(qc.draw(output='mpl',reverse_bits=True))\n",
    "    \n",
    "    # execute the circuit 100 times in the local simulator\n",
    "    backend = Aer.get_backend('qasm_simulator')\n",
    "    job = backend.run(transpile(qc, backend), shots=100)\n",
    "    counts = job.result().get_counts(qc)\n",
    "    print(input,\"is mapped to\",counts)"
   ]
  }
 ],
 "metadata": {
  "kernelspec": {
   "display_name": "Python 3 (ipykernel)",
   "language": "python",
   "name": "python3"
  },
  "language_info": {
   "codemirror_mode": {
    "name": "ipython",
    "version": 3
   },
   "file_extension": ".py",
   "mimetype": "text/x-python",
   "name": "python",
   "nbconvert_exporter": "python",
   "pygments_lexer": "ipython3",
   "version": "3.12.7"
  }
 },
 "nbformat": 4,
 "nbformat_minor": 4
}
