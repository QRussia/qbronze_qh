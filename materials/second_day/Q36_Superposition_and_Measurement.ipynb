{
 "cells": [
  {
   "cell_type": "markdown",
   "metadata": {},
   "source": [
    "<a href=\"https://qworld.net\" target=\"_blank\" align=\"left\"><img src=\"../images/header.jpg\"  align=\"left\"></a>\n",
    "$ \\newcommand{\\bra}[1]{\\langle #1|} $\n",
    "$ \\newcommand{\\ket}[1]{|#1\\rangle} $\n",
    "$ \\newcommand{\\braket}[2]{\\langle #1|#2\\rangle} $\n",
    "$ \\newcommand{\\dot}[2]{ #1 \\cdot #2} $\n",
    "$ \\newcommand{\\biginner}[2]{\\left\\langle #1,#2\\right\\rangle} $\n",
    "$ \\newcommand{\\mymatrix}[2]{\\left( \\begin{array}{#1} #2\\end{array} \\right)} $\n",
    "$ \\newcommand{\\myvector}[1]{\\mymatrix{c}{#1}} $\n",
    "$ \\newcommand{\\myrvector}[1]{\\mymatrix{r}{#1}} $\n",
    "$ \\newcommand{\\mypar}[1]{\\left( #1 \\right)} $\n",
    "$ \\newcommand{\\mybigpar}[1]{ \\Big( #1 \\Big)} $\n",
    "$ \\newcommand{\\sqrttwo}{\\frac{1}{\\sqrt{2}}} $\n",
    "$ \\newcommand{\\dsqrttwo}{\\dfrac{1}{\\sqrt{2}}} $\n",
    "$ \\newcommand{\\onehalf}{\\frac{1}{2}} $\n",
    "$ \\newcommand{\\donehalf}{\\dfrac{1}{2}} $\n",
    "$ \\newcommand{\\hadamard}{ \\mymatrix{rr}{ \\sqrttwo & \\sqrttwo \\\\ \\sqrttwo & -\\sqrttwo }} $\n",
    "$ \\newcommand{\\vzero}{\\myvector{1\\\\0}} $\n",
    "$ \\newcommand{\\vone}{\\myvector{0\\\\1}} $\n",
    "$ \\newcommand{\\stateplus}{\\myvector{ \\sqrttwo \\\\  \\sqrttwo } } $\n",
    "$ \\newcommand{\\stateminus}{ \\myrvector{ \\sqrttwo \\\\ -\\sqrttwo } } $\n",
    "$ \\newcommand{\\myarray}[2]{ \\begin{array}{#1}#2\\end{array}} $\n",
    "$ \\newcommand{\\X}{ \\mymatrix{cc}{0 & 1 \\\\ 1 & 0}  } $\n",
    "$ \\newcommand{\\I}{ \\mymatrix{rr}{1 & 0 \\\\ 0 & 1}  } $\n",
    "$ \\newcommand{\\Z}{ \\mymatrix{rr}{1 & 0 \\\\ 0 & -1}  } $\n",
    "$ \\newcommand{\\Htwo}{ \\mymatrix{rrrr}{ \\frac{1}{2} & \\frac{1}{2} & \\frac{1}{2} & \\frac{1}{2} \\\\ \\frac{1}{2} & -\\frac{1}{2} & \\frac{1}{2} & -\\frac{1}{2} \\\\ \\frac{1}{2} & \\frac{1}{2} & -\\frac{1}{2} & -\\frac{1}{2} \\\\ \\frac{1}{2} & -\\frac{1}{2} & -\\frac{1}{2} & \\frac{1}{2} } } $\n",
    "$ \\newcommand{\\CNOT}{ \\mymatrix{cccc}{1 & 0 & 0 & 0 \\\\ 0 & 1 & 0 & 0 \\\\ 0 & 0 & 0 & 1 \\\\ 0 & 0 & 1 & 0} } $\n",
    "$ \\newcommand{\\norm}[1]{ \\left\\lVert #1 \\right\\rVert } $\n",
    "$ \\newcommand{\\pstate}[1]{ \\lceil \\mspace{-1mu} #1 \\mspace{-1.5mu} \\rfloor } $\n",
    "$ \\newcommand{\\greenbit}[1] {\\mathbf{{\\color{green}#1}}} $\n",
    "$ \\newcommand{\\bluebit}[1] {\\mathbf{{\\color{blue}#1}}} $\n",
    "$ \\newcommand{\\redbit}[1] {\\mathbf{{\\color{red}#1}}} $\n",
    "$ \\newcommand{\\brownbit}[1] {\\mathbf{{\\color{brown}#1}}} $\n",
    "$ \\newcommand{\\blackbit}[1] {\\mathbf{{\\color{black}#1}}} $"
   ]
  },
  {
   "cell_type": "markdown",
   "metadata": {},
   "source": [
    "<font style=\"font-size:28px;\" align=\"left\"><b> Суперпозиция и измерение </b></font>\n",
    "<br>\n",
    "_подготовлено Abuzer Yakaryilmaz_\n",
    "<br><br>\n",
    "[<img src=\"../images/watch_lecture.jpg\" align=\"left\">](https://youtu.be/uJZtxWHAlPI)\n",
    "<br><br><br>"
   ]
  },
  {
   "cell_type": "markdown",
   "metadata": {},
   "source": [
    "Концепция \"суперпозиции\" чисто квантовая штука. У него нет чисто классического аналога\n",
    "\n",
    "Однако, мы можем провести некую аналогию с классическими вычислениями, чтобы понять это на интуитивном уровне.\n",
    "\n",
    "<h3> Вероятностное распределение </h3>\n",
    "\n",
    "Предположим, что Ася начинает с вектора $ \\myvector{1\\\\0} $ и тайно применяет вероятностный оператор $ \\mymatrix{cc}{ 0.3 & 0.6 \\\\ 0.7 & 0.4 } $.\n",
    "\n",
    "Так как она применяет свой оператор секретно, наши знания о ее состоянии вероятностно и оно вычисляется как\n",
    "\n",
    "$$\n",
    "    \\myvector{0.3 \\\\ 0.7} = \\mymatrix{cc}{ 0.3 & 0.6 \\\\ 0.7 & 0.4 } \\myvector{1\\\\0}.\n",
    "$$\n",
    "\n",
    "Ася находится в состоянии 0 или в состоянии 1.\n",
    "\n",
    "Однако, из вектора вероятностей мы делаем вывод, что Ася в состоянии 0 с вероятностью $ 0.3 $ и в состоянии 1 с вероятностью $ 0.7 $.\n",
    "\n",
    "Мы можем сказать, что Ася в распределении вероятностей состояний 0 и 1, а именно, находится в обоих состояниях одновременно, но с разными весами.\n",
    "\n",
    "С другой стороны, если мы вглянем на состояние Аси, наша информация про это станет детерминированным: $ \\myvector{1 \\\\ 0} $ или $ \\myvector{0 \\\\ 1} $.\n",
    "\n",
    "Можем сказать, что после того, как мы узнаем реальное состояние, вероятностное состояние $ \\myvector{0.3 \\\\ 0.7}  $ схлопнется в одно из состояний: $ \\myvector{1 \\\\ 0} $ или $ \\myvector{0 \\\\ 1} $."
   ]
  },
  {
   "cell_type": "markdown",
   "metadata": {},
   "source": [
    "<h3> Третий эксперимент </h3>\n",
    "\n",
    "Вспомним следующий эксперимент. Мы разберем его пошагово, перемножением вектора на матрицу.\n",
    "\n",
    "<img src=\"../images/photon7.jpg\" width=\"65%\">"
   ]
  },
  {
   "cell_type": "markdown",
   "metadata": {},
   "source": [
    "<b> Шаг инициализации </b>\n",
    "\n",
    "Фотон находится в состоянии $ \\ket{v_0} = \\vzero $."
   ]
  },
  {
   "cell_type": "markdown",
   "metadata": {},
   "source": [
    "<b> Первый шаг </b>\n",
    "\n",
    "Применяем оператор Адамара:\n",
    "\n",
    "$ \\ket{v_1} = \\hadamard \\vzero = \\stateplus $.\n",
    "\n",
    "После применения этого оператора, фотон оказывается в <b>суперпозиции</b> состояний $ \\ket{0} $ и $ \\ket{1} $, <u>находясь одновременно в обоих состояниях с амплитудами</u> $ \\frac{1}{\\sqrt{2}} $ и $ \\frac{1}{\\sqrt{2}} $, respectively.\n",
    "\n",
    "Состояние фотона будет $ \\ket{v_1} = \\stateplus $, и мы можем это представить так: \n",
    "$ \\ket{v_1} =  \\frac{1}{\\sqrt{2}} \\ket{0} + \\frac{1}{\\sqrt{2}} \\ket{1} $."
   ]
  },
  {
   "cell_type": "markdown",
   "metadata": {},
   "source": [
    "<b> Второй шаг </b>\n",
    "\n",
    "Применим оператор Адамара еще раз:\n",
    "\n",
    "Запишем эффект применения оператора Адамара на состояниях $ \\ket{0} $ и $ \\ket{1} $ следующим образом:\n",
    "\n",
    "$ H \\ket{0} = \\frac{1}{\\sqrt{2}} \\ket{0} + \\frac{1}{\\sqrt{2}} \\ket{1} $ &nbsp;&nbsp;&nbsp;&nbsp;&nbsp; <i>(Тут участвуют амплитуды перехода из первого столбца из матрица Адамара.)</i>\n",
    "\n",
    "$ H \\ket{1} = \\frac{1}{\\sqrt{2}} \\ket{0} - \\frac{1}{\\sqrt{2}} \\ket{1} $ &nbsp;&nbsp;&nbsp;&nbsp;&nbsp; <i>(Тут участвуют амплитуды перехода из второго столбца из матрица Адамара.)</i>\n",
    "\n",
    "Данное представление поможет нам отследить, почему пропадет состояние $ \\ket{1} $.\n",
    "\n",
    "Сейчас давайте посмотрим эффект применения оператора Адамара к квантовому состоянию $ \\ket{v_1} =  \\frac{1}{\\sqrt{2}} \\ket{0} + \\frac{1}{\\sqrt{2}} \\ket{1} $:\n",
    "\n",
    "$ \\ket{v_2} = H \\ket{v_1} = H \\mybigpar{ \\frac{1}{\\sqrt{2}} \\ket{0} + \\frac{1}{\\sqrt{2}} \\ket{1} } = \\frac{1}{\\sqrt{2}} H \\ket{0} + \\frac{1}{\\sqrt{2}} H \\ket{1} $\n",
    "\n",
    "Мы можем заменить $ H\\ket{0} $ и $ H\\ket{1} $ так, как это представлено выше. $ \\ket{v_2} $ будет сформировано как сумма из следующих слагаемых:"
   ]
  },
  {
   "cell_type": "markdown",
   "metadata": {},
   "source": [
    "$~~~~~~~~ \\dsqrttwo H \\ket{0} = $ <font color=\"green\">$\\donehalf \\ket{0} $</font> <font color=\"red\">$ + \\donehalf \\ket{1}  $</font>\n",
    "\n",
    "$~~~~~~~~ \\dsqrttwo H \\ket{1} = $ <font color=\"green\">$\\donehalf \\ket{0} $</font> <font color=\"red\">$ - \\donehalf \\ket{1}  $</font>\n",
    "\n",
    "$ ~~ $ <font color=\"green\"> $\\mypar{ \\donehalf+\\donehalf } \\ket{0} $</font> + \n",
    "<font color=\"red\"> $\\mypar{ \\donehalf-\\donehalf }  \\ket{1} $ </font> $ = \\mathbf{\\ket{0}} $.\n",
    "\n",
    "<font color=\"green\">Амплитуда состояния $ \\ket{0} $ станет равной 1,</font> <font color=\"red\"> амплитуда состояния $ \\ket{1} $ станет равной 0.</font>"
   ]
  },
  {
   "cell_type": "markdown",
   "metadata": {},
   "source": [
    "Фотон одновременно был в обоих состояниях с <u>определенными амплитудами</u>.\n",
    "\n",
    "После применения второго Адамара, \"исходы состояний\" <u>интерферировались друг с другом</u>.\n",
    "\n",
    "Интерференция может быть конструктивной или деструктивной.\n",
    "\n",
    "В нашем примере, <font color=\"green\"><b>исход состояния $ \\ket{0} $s был интерферирован конструктивно</b></font>, но <font color=\"red\"><b>исход состояния $ \\ket{1} $ был интерферирован деструктивно</b></font>."
   ]
  },
  {
   "cell_type": "markdown",
   "metadata": {},
   "source": [
    "<h3> Наблюдения </h3>\n",
    "\n",
    "<u>Вероятностные системы</u>: Если в таблице переходов есть ненулевой переход к некоторому состоянию, тогда этот переход делает положительный вклад в общую вероятность этого состояния. \n",
    "\n",
    "<u>Квантовые системы</u>:  Если в таблице переходов есть ненулевой переход к некоторому состоянию, тогда, без знания других переходов к этому состоянию, мы не сможем узнать, какой вклад делает данный переход в общую вероятность состояния.\n",
    "\n",
    "Если есть только один переход, тогда, вне зависимости от знака, переход увеличивает амплитуду, а вместе с тем и вероятность рассматриваемого состояния.\n",
    "\n",
    "Если переходов больше, чем один, тогда, в зависимости от суммы всех переходов, мы можем определить, влияет ли конкретный переход на общую вероятность состояния или нет.\n",
    "\n",
    "Можно сформулировать простое правило, если конечная амплитуда состояния и ненулевой переход имеют один и тот же знак, то из этого следует, что данный переход положительно повлиял на общую вероятность; и, если знаки разные, то это - негативное влияние."
   ]
  },
  {
   "cell_type": "markdown",
   "metadata": {},
   "source": [
    "<h3> Задача 1 </h3>\n",
    "\n",
    "[на бумаге]\n",
    "\n",
    "Начните с состояния $ \\ket{u_0} =  \\ket{1} $.\n",
    "\n",
    "Примените оператор Адамара к $ \\ket{u_0} $, т.е., найдите $ \\ket{u_1} = H \\ket{u_0} $.\n",
    "\n",
    "Примените оператор Адамара к $\\ket{u_1}$, т.е., найдите $ \\ket{u_2} = H \\ket{u_1} $.\n",
    "\n",
    "Определите конструктивную и деструктивную интерференции при вычислении $ \\ket{u_2} $."
   ]
  },
  {
   "cell_type": "markdown",
   "metadata": {},
   "source": [
    "<h3> Быть в суперпозиции </h3>\n",
    "\n",
    "Квантовая система может быть в более чем одном состоянии с ненулевыми амплитудами.\n",
    "\n",
    "В таком случае мы говорим, что наша система находится в суперпозиции этих состояний.\n",
    "\n",
    "При эволюции из суперпозиции результирующие переходы могут влиять друг на друга конструктивно и деструктивно. \n",
    "\n",
    "Это происходит по причине наличия амплитуд перехода с противоположными знаками. \n",
    "\n",
    "В противном случае все ненулевые переходы суммируются друг с другом, как в вероятностных системах."
   ]
  },
  {
   "cell_type": "markdown",
   "metadata": {},
   "source": [
    "<hr>\n",
    "<h2> Измерение </h2>\n",
    "\n",
    "Мы можем измерить квантовую систему и тогда система будет наблюдаема в одном из ее состояний. Такое измерение является основным в квантовых вычислениях. (Да, существуют более общие операторы измерения, но мы не будем упоминать о них.)\n",
    "\n",
    "Вероятность того, что система может оказаться в некотором состоянии равно квадрату амплитуды его состояния.\n",
    "<ul>\n",
    "    <li> Если амплитуда состояния равна нулю, тогда система не может оказаться в этом состоянии при измерении. </li>\n",
    "    <li> Если амплитуда состояния не равна нулю, тогда это состояние можеть быть наблюдаемо при измерении. </li>\n",
    "</ul>\n",
    "\n",
    "Например, если система находится в квантовом состоянии \n",
    "\n",
    "$$\n",
    "    \\myrvector{ -\\frac{\\sqrt{2}}{\\sqrt{3}} \\\\ \\frac{1}{\\sqrt{3}} },\n",
    "$$\n",
    "\n",
    "тогда, после измерения, мы можем наблюдать систему в состоянии state $\\ket{0} $ с вероятностью $ \\frac{2}{3} $ и в состоянии $\\ket{1}$ с вероятностью $ \\frac{1}{3} $.\n",
    "\n"
   ]
  },
  {
   "cell_type": "markdown",
   "metadata": {},
   "source": [
    "<h4> Схлопывание (Collapsing) </h4>\n",
    "\n",
    "После измерения система схлопывается (переходит) в наблюдаемое состояние, следовательно, система уже не будет находиться в суперпозиции. Так, информация, которая хранилась в суперпозиции, теряется. \n",
    "- На примере выше, если система после измерения была наблюдаема в состоянии $\\ket{0}$, тогда новое состояние станет описываться вектором $ \\myvector{1 \\\\ 0} $. \n",
    "- Если была наблюдаема в состоянии $\\ket{1}$, тогда новое состояние станет описываться вектором $ \\myvector{0 \\\\ 1} $."
   ]
  },
  {
   "cell_type": "markdown",
   "metadata": {},
   "source": [
    "<h3> Второй эксперимент квантового подброса монеты </h3>"
   ]
  },
  {
   "cell_type": "markdown",
   "metadata": {},
   "source": [
    "Напомним установку эксперимента."
   ]
  },
  {
   "cell_type": "markdown",
   "metadata": {},
   "source": [
    "<img src=\"../images/photon5.jpg\" width=\"65%\">"
   ]
  },
  {
   "cell_type": "markdown",
   "metadata": {},
   "source": [
    "В этом эксперименте, после первого квантового подброса монеты, мы делаем измерение.\n",
    "\n",
    "Если по измерения система оказывается в состоянии $ \\ket{0} $, тогда мы применяем оператор Адамара еще раз.\n",
    "\n",
    "Сперва попробуем провести эксперимент в уме."
   ]
  },
  {
   "cell_type": "markdown",
   "metadata": {},
   "source": [
    "<table width=\"100%\"><tr>\n",
    "<td width=\"400px\" style=\"background-color:white;text-align:center;vertical-align:middle;\" cellpadding=0>\n",
    "    <img src=\"../images/tracing-2nd-exp.png\">\n",
    "    <br><br>\n",
    "    <font size=\"-2\"><a href=\"../images/tracing-2nd-exp.txt\" target=\"_blank\">the tex code of the image</a></font>\n",
    "</td>\n",
    "<td width=\"*\" style=\"background-color:white;text-align:left;vertical-align:top;\">\n",
    "    <b> Первое применение оператора Адамара </b> \n",
    "    <br><br>\n",
    "    Мы начинаем из состояния $ \\ket{0} = \\vzero $. Применим к нему оператор Адамара:\n",
    "    <br><br>\n",
    "    $ \\stateplus = \\hadamard \\vzero $ <hr>\n",
    "    <!---------->\n",
    "    <b> Первое измерение </b>\n",
    "    <br><br>\n",
    "    Благодаря детектору фотонов A, фотон не окажется в суперпозиции и он будет наблюдаться в конкретном состоянии $\\ket{0}$ или $ \\ket{1} $. Это и будет измерением.\n",
    "    <br><br>\n",
    "    Так как обе амплитуды будут равны $ \\sqrttwo $, мы можем наблюдать каждое состояние с одинаковой вероятностью.\n",
    "    <br><br>\n",
    "    Так, с вероятностью $ \\frac{1}{2} $, новое квантовое состояние будет равно $ \\ket{0} = \\vzero $.\n",
    "    <br><br>\n",
    "    И, с вероятностью $ \\frac{1}{2} $, новое квантовое состояние будет равно $ \\ket{1} = \\vone $. <hr>\n",
    "    <!---------->\n",
    "    <b> Второе применение оператора Адамара </b>\n",
    "    <br><br>\n",
    "    Если фотон находится в состоянии $ \\ket{0} $, применяем еще один оператор Адамара.\n",
    "    <br><br>\n",
    "    Говоря иначе, с вероятностью $ \\frac{1}{2} $, вычисление продолжится и применится еще один оператор Адамара:\n",
    "    <br><br>\n",
    "    $ \\stateplus = \\hadamard \\vzero $ <hr>\n",
    "    <b> Второе измерение </b>\n",
    "    <br><br>\n",
    "    С помощью детекторов B1 and B2 мы сделаем еще одно измерение. \n",
    "    <br><br>\n",
    "    Так, мы будем наблюдать состояние $ \\ket{0} $ с вероятностью $ \\frac{1}{4} $ и состояние $ \\ket{1} $ с вероятностью $ \\frac{1}{4} $.\n",
    "    <br><br>\n",
    "    В результате состояние $ \\ket{0} $ может быть наблюдаемо с вероятностью $ \\frac{1}{4} $, и состояние $ \\ket{1} $ может быть наблюдаемо с вероятностью $ \\frac{3}{4} $.\n",
    "</td>\n",
    "</tr></table>"
   ]
  },
  {
   "cell_type": "markdown",
   "metadata": {},
   "source": [
    "<h3> Реализация второго эксперимента </h3>"
   ]
  },
  {
   "cell_type": "markdown",
   "metadata": {},
   "source": [
    "С помощью симулятора мы можем реализовать второй эксперимент.\n",
    "\n",
    "Для наших целей qiskit предоставляет условный оператор, основанный на значении классического регистра.\n",
    "\n",
    "В следующем примере последний оператор (x-gate) будет применен к квантовому регистру, если значение классического регистра равна 1.\n",
    "\n",
    "    q = QuantumRegister(1)\n",
    "    c = ClassicalRegister(1)\n",
    "    qc = QuantumCircuit(q,c)\n",
    "    ...\n",
    "    qc.measure(q,c)\n",
    "    qc.x(q[0]).c_if(c,1)\n",
    "    \n",
    "В нашем эксперименте мы используем такую контролируемую операцию после первого измерения."
   ]
  },
  {
   "cell_type": "code",
   "execution_count": null,
   "metadata": {
    "scrolled": true
   },
   "outputs": [],
   "source": [
    "# import all necessary objects and methods for quantum circuits\n",
    "from qiskit import QuantumRegister, ClassicalRegister, QuantumCircuit, transpile\n",
    "from qiskit_aer import Aer\n",
    "\n",
    "# define a quantum register with a single qubit\n",
    "q = QuantumRegister(1,\"q\")\n",
    "# define a classical register with a single bit\n",
    "c = ClassicalRegister(1,\"c\")\n",
    "# define a quantum circuit\n",
    "qc = QuantumCircuit(q,c)\n",
    "\n",
    "# apply the first Hadamard\n",
    "qc.h(q[0])\n",
    "\n",
    "# the first measurement\n",
    "qc.measure(q,c)\n",
    "\n",
    "# apply the second Hadamard if the measurement outcome is 0\n",
    "qc.h(q[0]).c_if(c,0) # deprecated, но работает\n",
    "\n",
    "# the second measurement\n",
    "qc.measure(q[0],c)\n",
    "\n",
    "# draw the circuit\n",
    "qc.draw(output=\"mpl\")"
   ]
  },
  {
   "cell_type": "markdown",
   "metadata": {},
   "source": [
    "<h3> Задача 2 </h3>\n",
    "\n",
    "Если мы выполним эту схему 1000 раз, каковы будут количества получения состояний '0' и '1'?\n",
    "\n",
    "Проверьте ваш результат, запустив следующий код."
   ]
  },
  {
   "cell_type": "code",
   "execution_count": null,
   "metadata": {},
   "outputs": [],
   "source": [
    "backend = Aer.get_backend('qasm_simulator')\n",
    "job = backend.run(transpile(qc, backend), shots=1000)\n",
    "counts = job.result().get_counts(qc)\n",
    "print(counts)"
   ]
  },
  {
   "cell_type": "markdown",
   "metadata": {},
   "source": [
    "<h3> Задача 3 </h3>\n",
    "\n",
    "Повторите второй эксперимент со следующими изменениями.\n",
    "\n",
    "Начните с исходного состояния $ \\ket{1} $.\n",
    "\n",
    "Примените оператор Адамара.\n",
    "\n",
    "Проведите измерение. \n",
    "\n",
    "Если после измерения получили 0, остановитесь.\n",
    "\n",
    "Иначе, примените второй гейт Адамара и проведите измерение.\n",
    "\n",
    "Выполните схему 1000 раз.\n",
    "\n",
    "Вычислите, сколько раз система может быть наблюдаема в состоянии '0' и в состоянии '1' и сравните ваш результат с результатом симулятора."
   ]
  },
  {
   "cell_type": "code",
   "execution_count": null,
   "metadata": {},
   "outputs": [],
   "source": [
    "# import all necessary objects and methods for quantum circuits\n",
    "from qiskit import QuantumRegister, ClassicalRegister, QuantumCircuit, transpile\n",
    "from qiskit_aer import Aer\n",
    "\n",
    "#\n",
    "# your code is here\n",
    "#"
   ]
  },
  {
   "cell_type": "markdown",
   "metadata": {},
   "source": [
    "<a href=\"Q36_Superposition_and_Measurement_Solutions.ipynb#task3\">решение тут</a>"
   ]
  },
  {
   "cell_type": "markdown",
   "metadata": {},
   "source": [
    "<h3> Задача 4 </h3>\n",
    "\n",
    "Реализуйте следующую квантовую схему.\n",
    "\n",
    "Начните с состояния $ \\ket{0} $.\n",
    "\n",
    "    Повторите 3 раза:\n",
    "        if классический бит равен 0:\n",
    "            применить гейт Адамара\n",
    "        провести измерение\n",
    "\n",
    "Выполните вашу схему 1000 раз.\n",
    "\n",
    "Вычислите, сколько раз система может быть наблюдаема в состоянии '0' и в состоянии '1' и сравните ваш результат с результатом симулятора."
   ]
  },
  {
   "cell_type": "code",
   "execution_count": null,
   "metadata": {},
   "outputs": [],
   "source": [
    "# import all necessary objects and methods for quantum circuits\n",
    "from qiskit import QuantumRegister, ClassicalRegister, QuantumCircuit, transpile\n",
    "from qiskit_aer import Aer\n",
    "\n",
    "#\n",
    "# your code is here\n",
    "#"
   ]
  },
  {
   "cell_type": "markdown",
   "metadata": {},
   "source": [
    "<a href=\"Q36_Superposition_and_Measurement_Solutions.ipynb#task4\">решение тут</a>"
   ]
  },
  {
   "cell_type": "markdown",
   "metadata": {},
   "source": [
    "---\n",
    "\n",
    "<h3> Extra: Задача 5 </h3>\n",
    "\n",
    "Реализуйте следующую случайно сгенерированную квантовую схему.\n",
    "\n",
    "Начните с состояния $ \\ket{0} $.\n",
    "\n",
    "    примените гейт Адамара\n",
    "    проведите измерение\n",
    "    Повторите 4 раза: \n",
    "        случайным образом выбираете x из {0,1}\n",
    "        if классический бит равен x:\n",
    "            примените гейт Адамара\n",
    "        проведите измерение\n",
    "        \n",
    "Нарисуйте вашу схему и посчитайте ожидаемую частоту наблюдения состояний '0' и '1', если схема будет выполняться 10000 раз.\n",
    "\n",
    "Тогда выполните вашу схему 10000 раз и сравните ваш результат с результатом симулятора.\n",
    "\n",
    "Запустите вашу программу несколько раз."
   ]
  },
  {
   "cell_type": "code",
   "execution_count": null,
   "metadata": {},
   "outputs": [],
   "source": [
    "# import all necessary objects and methods for quantum circuits\n",
    "from qiskit import QuantumRegister, ClassicalRegister, QuantumCircuit, transpile\n",
    "from qiskit_aer import Aer\n",
    "# import randrange for random choices\n",
    "from random import randrange\n",
    "\n",
    "#\n",
    "# your code is here\n",
    "#"
   ]
  },
  {
   "cell_type": "markdown",
   "metadata": {},
   "source": [
    "<a href=\"Q36_Superposition_and_Measurement_Solutions.ipynb#task5\">решение тут</a>"
   ]
  }
 ],
 "metadata": {
  "kernelspec": {
   "display_name": "Python 3 (ipykernel)",
   "language": "python",
   "name": "python3"
  },
  "language_info": {
   "codemirror_mode": {
    "name": "ipython",
    "version": 3
   },
   "file_extension": ".py",
   "mimetype": "text/x-python",
   "name": "python",
   "nbconvert_exporter": "python",
   "pygments_lexer": "ipython3",
   "version": "3.12.7"
  }
 },
 "nbformat": 4,
 "nbformat_minor": 4
}
