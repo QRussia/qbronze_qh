{
 "cells": [
  {
   "cell_type": "markdown",
   "metadata": {},
   "source": [
    "<table> <tr>\n",
    "        <td  style=\"background-color:#ffffff;\">\n",
    "            <a href=\"http://qworld.lu.lv\" target=\"_blank\"><img src=\"../images/header.jpg\"  align=\"left\"> </a></td>\n",
    "</tr></table>"
   ]
  },
  {
   "cell_type": "markdown",
   "metadata": {},
   "source": [
    "<table width=\"100%\"><tr><td style=\"color:#bbbbbb;background-color:#ffffff;font-size:11px;font-style:italic;text-align:right;\">This cell contains some macros. If there is a problem with displaying mathematical formulas, please run this cell to load these macros. </td></tr></table>\n",
    "$ \\newcommand{\\bra}[1]{\\langle #1|} $\n",
    "$ \\newcommand{\\ket}[1]{|#1\\rangle} $\n",
    "$ \\newcommand{\\braket}[2]{\\langle #1|#2\\rangle} $\n",
    "$ \\newcommand{\\dot}[2]{ #1 \\cdot #2} $\n",
    "$ \\newcommand{\\biginner}[2]{\\left\\langle #1,#2\\right\\rangle} $\n",
    "$ \\newcommand{\\mymatrix}[2]{\\left( \\begin{array}{#1} #2\\end{array} \\right)} $\n",
    "$ \\newcommand{\\myvector}[1]{\\mymatrix{c}{#1}} $\n",
    "$ \\newcommand{\\myrvector}[1]{\\mymatrix{r}{#1}} $\n",
    "$ \\newcommand{\\mypar}[1]{\\left( #1 \\right)} $\n",
    "$ \\newcommand{\\mybigpar}[1]{ \\Big( #1 \\Big)} $\n",
    "$ \\newcommand{\\sqrttwo}{\\frac{1}{\\sqrt{2}}} $\n",
    "$ \\newcommand{\\dsqrttwo}{\\dfrac{1}{\\sqrt{2}}} $\n",
    "$ \\newcommand{\\onehalf}{\\frac{1}{2}} $\n",
    "$ \\newcommand{\\donehalf}{\\dfrac{1}{2}} $\n",
    "$ \\newcommand{\\hadamard}{ \\mymatrix{rr}{ \\sqrttwo & \\sqrttwo \\\\ \\sqrttwo & -\\sqrttwo }} $\n",
    "$ \\newcommand{\\vzero}{\\myvector{1\\\\0}} $\n",
    "$ \\newcommand{\\vone}{\\myvector{0\\\\1}} $\n",
    "$ \\newcommand{\\stateplus}{\\myvector{ \\sqrttwo \\\\  \\sqrttwo } } $\n",
    "$ \\newcommand{\\stateminus}{ \\myrvector{ \\sqrttwo \\\\ -\\sqrttwo } } $\n",
    "$ \\newcommand{\\myarray}[2]{ \\begin{array}{#1}#2\\end{array}} $\n",
    "$ \\newcommand{\\X}{ \\mymatrix{cc}{0 & 1 \\\\ 1 & 0}  } $\n",
    "$ \\newcommand{\\Z}{ \\mymatrix{rr}{1 & 0 \\\\ 0 & -1}  } $\n",
    "$ \\newcommand{\\Htwo}{ \\mymatrix{rrrr}{ \\frac{1}{2} & \\frac{1}{2} & \\frac{1}{2} & \\frac{1}{2} \\\\ \\frac{1}{2} & -\\frac{1}{2} & \\frac{1}{2} & -\\frac{1}{2} \\\\ \\frac{1}{2} & \\frac{1}{2} & -\\frac{1}{2} & -\\frac{1}{2} \\\\ \\frac{1}{2} & -\\frac{1}{2} & -\\frac{1}{2} & \\frac{1}{2} } } $\n",
    "$ \\newcommand{\\CNOT}{ \\mymatrix{cccc}{1 & 0 & 0 & 0 \\\\ 0 & 1 & 0 & 0 \\\\ 0 & 0 & 0 & 1 \\\\ 0 & 0 & 1 & 0} } $\n",
    "$ \\newcommand{\\norm}[1]{ \\left\\lVert #1 \\right\\rVert } $\n",
    "$ \\newcommand{\\pstate}[1]{ \\lceil \\mspace{-1mu} #1 \\mspace{-1.5mu} \\rfloor } $\n",
    "$ \\newcommand{\\greenbit}[1] {\\mathbf{{\\color{green}#1}}} $\n",
    "$ \\newcommand{\\bluebit}[1] {\\mathbf{{\\color{blue}#1}}} $\n",
    "$ \\newcommand{\\redbit}[1] {\\mathbf{{\\color{red}#1}}} $\n",
    "$ \\newcommand{\\brownbit}[1] {\\mathbf{{\\color{brown}#1}}} $\n",
    "$ \\newcommand{\\blackbit}[1] {\\mathbf{{\\color{black}#1}}} $"
   ]
  },
  {
   "cell_type": "markdown",
   "metadata": {},
   "source": [
    "<h1> Qiskit: Быстрый старт </h1>"
   ]
  },
  {
   "cell_type": "markdown",
   "metadata": {},
   "source": [
    "<hr>\n",
    "<h3> Импортирования необходимых инструментов из qiskit </h3>"
   ]
  },
  {
   "cell_type": "markdown",
   "metadata": {},
   "source": [
    "    from qiskit import QuantumRegister, ClassicalRegister, QuantumCircuit, execute, Aer"
   ]
  },
  {
   "cell_type": "markdown",
   "metadata": {},
   "source": [
    "<hr>\n",
    "<h3>Создание квантовой схемы</h3>"
   ]
  },
  {
   "cell_type": "markdown",
   "metadata": {},
   "source": [
    "    # a quantum circuit is composed by a quantum and a classical register in qiskit\n",
    "    qreg = QuantumRegister(5) # this quantum register has 5 qubits\n",
    "    creg = ClassicalRegister(5) # this classical register has 5 classical bits\n",
    "\n",
    "    circuit = QuantumCircuit(qreg,creg) # a quantum circuit"
   ]
  },
  {
   "cell_type": "markdown",
   "metadata": {},
   "source": [
    "<hr>\n",
    "<h3>Однокубитные гейты</h3>"
   ]
  },
  {
   "cell_type": "markdown",
   "metadata": {},
   "source": [
    "<h4> x-gate (оператор НЕ) </h4>\n",
    "\n",
    "$ X = \\mymatrix{cc}{0&1\\\\1&0} $ \n",
    "<br><br>\n",
    "\n",
    "    circuit.x(qreg[2])"
   ]
  },
  {
   "cell_type": "markdown",
   "metadata": {},
   "source": [
    "<h4> z-gate (оператор Z) </h4>\n",
    "\n",
    "$ Z = \\mymatrix{rr}{1&0\\\\0&-1} $ \n",
    "<br><br>\n",
    "\n",
    "    circuit.z(qreg[4])"
   ]
  },
  {
   "cell_type": "markdown",
   "metadata": {},
   "source": [
    "<h4> h-gate (оператор Адамара (Hadamard)) </h4>\n",
    "\n",
    "$ H = \\hadamard $ \n",
    "<br><br>\n",
    "\n",
    "    circuit.h(qreg[1])"
   ]
  },
  {
   "cell_type": "markdown",
   "metadata": {},
   "source": [
    "<h4> ry-gate (оператор поворота) </h4>\n",
    "\n",
    "Оператор поворота на одном (целочисленном) кубите осуществляет поворот вектора состояния кубита против часовой стрелки.\n",
    "\n",
    "Матричное представление поворота с углом $a$ в двумерном пространстве:\n",
    "\n",
    "$ R(a) = \\mymatrix{rr}{\\cos(a) & -\\sin(a) \\\\ \\sin(a) & \\cos(a) } $ \n",
    "<br><br>\n",
    "\n",
    "    circuit.ry(2*a,qreg[3])\n",
    "    \n",
    "Отметим, что в качестве аргумента мы передаем удвоенное значение угла, на которое хотим повернуть, для поворотов на единичной окружности."
   ]
  },
  {
   "cell_type": "markdown",
   "metadata": {},
   "source": [
    "<hr>\n",
    "<h3>Двухкубитные гейты</h3>\n",
    "\n",
    "<font color=\"#0000CC\"><i>В qiskit, когда система имеет два кубита $qreg[0]$ и $ qreg[1] $, они используются (комбинируются) как $ qreg[1] \\otimes qreg[0] $.</i></font> "
   ]
  },
  {
   "cell_type": "markdown",
   "metadata": {},
   "source": [
    "<b>cx-gate (Оператор CNOT)</b>"
   ]
  },
  {
   "cell_type": "markdown",
   "metadata": {},
   "source": [
    "$ CNOT = \\mymatrix{cccc}{\\blackbit{1} & 0 & 0 & 0 \\\\ 0 & \\blackbit{1} & 0 & 0 \\\\ 0 & 0 & 0 & \\bluebit{1} \\\\ 0 & 0 & \\bluebit{1} & 0} . $\n",
    "<br><br>\n",
    "\n",
    "    # controller qubit is qreg[1] -- the first parameter\n",
    "    # target qubit is qreg[0] -- the second parameter\n",
    "    circuit.cx(qreg[1],qreg[0]) "
   ]
  },
  {
   "cell_type": "markdown",
   "metadata": {},
   "source": [
    "<b>cu3-gate (Оператор контролируемого поворота)</b>\n",
    "\n",
    "В данном материале мы используем этот гейт для контролируемого применения оператора ry-gate."
   ]
  },
  {
   "cell_type": "markdown",
   "metadata": {},
   "source": [
    "$ \\mymatrix{cccc}{1 & 0 & 0 & 0 \\\\ 0 & 1 & 0 & 0  \\\\ 0 & 0 & \\cos a & -\\sin a \\\\ 0 & 0 & \\sin a & \\cos a} . $\n",
    "<br><br>\n",
    "\n",
    "    # controller qubit is qreg[1] -- the first parameter\n",
    "    # target qubit is qreg[0] -- the second parameter\n",
    "    circuit.cu3(2*a,0,0,qreg[1],qreg[0]) "
   ]
  },
  {
   "cell_type": "markdown",
   "metadata": {},
   "source": [
    "<hr>\n",
    "<h3>Трехкубитные гейты</h3>\n",
    "\n",
    "<font color=\"#0000CC\"><i>В qiskit, когда система имеет три кубита $qreg[0], qreg[1], qreg[2] $, они используются (комбинируются) как $ qreg[2] \\otimes qreg[1] \\otimes qreg[0] $.</i></font> "
   ]
  },
  {
   "cell_type": "markdown",
   "metadata": {},
   "source": [
    "<b>ccx-gate (Оператор Тоффоли (Toffoli или CCNOT))</b>"
   ]
  },
  {
   "cell_type": "markdown",
   "metadata": {},
   "source": [
    "$ CCNOT = \\mymatrix{cccccccc}{\n",
    "    \\blackbit{1} & 0 & 0 & 0 & 0 & 0 & 0 & 0 \\\\ \n",
    "    0 & \\blackbit{1} & 0 & 0 & 0 & 0 & 0 & 0 \\\\\n",
    "    0 & 0 & \\blackbit{1} & 0 & 0 & 0 & 0 & 0 \\\\\n",
    "    0 & 0 & 0 & \\blackbit{1} & 0 & 0 & 0 & 0 \\\\\n",
    "    0 & 0 & 0 & 0 & \\blackbit{1} & 0 & 0 & 0 \\\\\n",
    "    0 & 0 & 0 & 0 & 0 & \\blackbit{1} & 0 & 0 \\\\\n",
    "    0 & 0 & 0 & 0 & 0 & 0 & 0 & \\bluebit{1} \\\\\n",
    "    0 & 0 & 0 & 0 & 0 & 0 & \\bluebit{1} & 0 \\\\ \n",
    "    } . $\n",
    "<br><br>\n",
    "\n",
    "    # 1st controller qubit is qreg[2] -- the first parameter\n",
    "    # 2nd controller qubit is qreg[1] -- the second parameter\n",
    "    # target qubit is qreg[0] -- the third parameter\n",
    "    circuit.ccx(qreg[2],qreg[1],qreg[0]) "
   ]
  },
  {
   "cell_type": "markdown",
   "metadata": {},
   "source": [
    "<hr>\n",
    "<h3>Измерение квантовой схемы</h3>"
   ]
  },
  {
   "cell_type": "markdown",
   "metadata": {},
   "source": [
    "1) Если размеры квантового и классического регистров совпадают, то мы можем осуществить измерение одной строчкой кода:\n",
    "\n",
    "    mycircuit.measure(qreg,creg)\n",
    "   \n",
    "Каждому кубиту ставится в соответствие классический бит с тем же индексом."
   ]
  },
  {
   "cell_type": "markdown",
   "metadata": {},
   "source": [
    "2) Каждому кубиту может ставиться в соответствие классический бит с определенным индексом, например:\n",
    "\n",
    "    mycircuit.measure(qreg[0],creg[0])\n",
    "    mycircuit.measure(qreg[1],creg[4])\n",
    "    mycircuit.measure(qreg[2],creg[3])\n",
    "    mycircuit.measure(qreg[3],creg[1])\n",
    "    mycircuit.measure(qreg[4],creg[2])"
   ]
  },
  {
   "cell_type": "markdown",
   "metadata": {},
   "source": [
    "Отметим, что запись\n",
    "\n",
    "    mycircuit.measure(qreg,creg)\n",
    "\n",
    "эквивалентен записи\n",
    "\n",
    "    #mycircuit.measure(qreg[0],creg[0])\n",
    "    #mycircuit.measure(qreg[1],creg[1])\n",
    "    #mycircuit.measure(qreg[2],creg[2])\n",
    "    #mycircuit.measure(qreg[3],creg[3])\n",
    "    #mycircuit.measure(qreg[4],creg[4])"
   ]
  },
  {
   "cell_type": "markdown",
   "metadata": {},
   "source": [
    "<hr>\n",
    "<h3>Квантовая операция, контролируемая классическим регистром</h3>"
   ]
  },
  {
   "cell_type": "markdown",
   "metadata": {},
   "source": [
    "Данная опция доступна только при использовании симуляторов. \n",
    "\n",
    "В следующем примере последний оператор (x-gate) в схеме qc будет выполнен на квантовом регистре в том случае, если значение классического регистра равен 1.\n",
    "\n",
    "    q = QuantumRegister(1)\n",
    "    c = ClassicalRegister(1)\n",
    "    qc = QuantumCircuit(q,c)\n",
    "    ...\n",
    "    qc.measure(q,c)\n",
    "    qc.x(q[0]).c_if(c,1)"
   ]
  },
  {
   "cell_type": "markdown",
   "metadata": {},
   "source": [
    "<hr>\n",
    "<h3>Рисование или вывод квантовой схемы</h3>"
   ]
  },
  {
   "cell_type": "markdown",
   "metadata": {},
   "source": [
    "Есть разные методы рисования схем.\n",
    "\n",
    "Мы используем метод \"draw\", вызываемый у объекта квантовой схемы.\n",
    "\n",
    "1) Если вызвать данный метод без параметров, то схема будет нарисована, используя <b>ASCII графику</b>.\n",
    "\n",
    "    circuit.draw()"
   ]
  },
  {
   "cell_type": "markdown",
   "metadata": {},
   "source": [
    "Метод \"draw\" также может принять несколько параметров.\n",
    "\n",
    "2) Схема может быть нарисована, используя библиотеку \"<b>matplotlib</b>\" языка python.\n",
    "\n",
    "Мы можем изменить порядок классических и квантовых битов на обратный (reverse). \n",
    "\n",
    "Это порядок считывания результатов классических битов (сверху вниз).\n",
    "\n",
    "    circuit.draw(output='mpl',reverse_bits=True)"
   ]
  },
  {
   "cell_type": "markdown",
   "metadata": {},
   "source": [
    "3) Схема может быть нарисована с использованием <b>LaTex</b>.\n",
    "\n",
    "Мы можем масштабировать рисунок. \n",
    "\n",
    "    circuit.draw(output='latex',scale=0.5)"
   ]
  },
  {
   "cell_type": "markdown",
   "metadata": {},
   "source": [
    "<hr>\n",
    "<h3>Чтение квантового состояния схемы на локальном симуляторе</h3>\n",
    "\n",
    "Квантовое состояние схемы может быть получено использованием \"statevector_simulator\".\n",
    "\n",
    "    job = execute(circuit,BasicAer.get_backend('statevector_simulator'),optimization_level=0)\n",
    "    current_quantum_state=job.result().get_statevector(circuit)\n",
    "\n",
    "Результат - список комплексных чисел. Пример того, как мы можем обратиться к ним, представлен ниже.\n",
    "\n",
    "    current_quantum_state[0].real # real part of the first amplitude\n",
    "    current_quantum_state[0].imag # imaginary part of the first amplitude"
   ]
  },
  {
   "cell_type": "markdown",
   "metadata": {},
   "source": [
    "<hr>\n",
    "<h3>Чтение унитарного оператора схемы на локальном симуляторе</h3>\n",
    "\n",
    "\"unitary_simulator\" дает унитарное представление всех гейтов в схеме, использованных до текущего момента.\n",
    "\n",
    "    job = execute(circuit,BasicAer.get_backend('unitary_simulator'),shots=1,optimization_level=0)\n",
    "    current_unitary=job.result().get_unitary(circuit)\n",
    "\n",
    "Результат - список списков комплексных чисел (ну или список матриц, представленных в виде списков). \n",
    "\n",
    "    current_unitary[0][0].real # real part of the amplitude of the (1,1)-th entry\n",
    "    current_unitary[0][0].imag # imaginary part of the amplitude of the (1,1)-th entry"
   ]
  },
  {
   "cell_type": "markdown",
   "metadata": {},
   "source": [
    "<hr>\n",
    "<h3>Выполнение квантовой программы на локальном симуляторе</h3>"
   ]
  },
  {
   "cell_type": "markdown",
   "metadata": {},
   "source": [
    "Выполнение квантовой программы 1000 раз:\n",
    "\n",
    "    job = execute(mycircuit,Aer.get_backend('qasm_simulator'),shots=1000)\n",
    "    \n",
    "Результат может быть прочитан как словарь:  \n",
    "\n",
    "    counts = job.result().get_counts(mycircuit)   \n",
    "    print(counts)\n",
    "    \n",
    "<font color=\"#0000CC\"><i>В qiskit, когда система имеет $n$ квантовых битов, $qreg[0], qreg[1], \\ldots, qreg[n-1]$, они комбинируются как\n",
    "    \n",
    "$$ qreg[n-1] \\otimes \\cdots \\otimes qreg[1] \\otimes qreg[0]. $$ \n",
    "<br>\n",
    "Следовательно, любой результат - это строка длины $n$: \n",
    "\n",
    "$$ b_{n-1}\\cdots b_1 b_0, $$ \n",
    "\n",
    "где $ b_i \\in \\{0,1\\} $ - состояние, наблюдаемое в квантовом бите с индексом $ i $-th ($ 0 \\leq i \\leq n-1 $).</i></font> \n",
    "\n",
    "<font color=\"#FF0000\"><i>Обратите внимание, в предыдущем примере был использован BasicAer для использования симулятора, в этом примере симулятор вызывается через Aer. Советуем пользоваться именно BasicAer для подключения симулятора. Так как Aer работает не со всеми симу</i></font> \n"
   ]
  },
  {
   "cell_type": "code",
   "execution_count": null,
   "metadata": {},
   "outputs": [],
   "source": []
  }
 ],
 "metadata": {
  "kernelspec": {
   "display_name": "Python 3 (ipykernel)",
   "language": "python",
   "name": "python3"
  },
  "language_info": {
   "codemirror_mode": {
    "name": "ipython",
    "version": 3
   },
   "file_extension": ".py",
   "mimetype": "text/x-python",
   "name": "python",
   "nbconvert_exporter": "python",
   "pygments_lexer": "ipython3",
   "version": "3.11.6"
  }
 },
 "nbformat": 4,
 "nbformat_minor": 4
}
