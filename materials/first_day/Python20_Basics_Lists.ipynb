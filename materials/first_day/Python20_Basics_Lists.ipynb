{
 "cells": [
  {
   "cell_type": "markdown",
   "metadata": {},
   "source": [
    "<table> <tr>\n",
    "        <td  style=\"background-color:#ffffff;\">\n",
    "            <a href=\"http://qworld.lu.lv\" target=\"_blank\"><img src=\"../images/header.jpg\"  align=\"left\"> </a></td>\n",
    "</tr></table>"
   ]
  },
  {
   "cell_type": "markdown",
   "metadata": {},
   "source": [
    "<table width=\"100%\"><tr><td style=\"color:#bbbbbb;background-color:#ffffff;font-size:11px;font-style:italic;text-align:right;\">This cell contains some macros. If there is a problem with displaying mathematical formulas, please run this cell to load these macros. </td></tr></table>\n",
    "$ \\newcommand{\\bra}[1]{\\langle #1|} $\n",
    "$ \\newcommand{\\ket}[1]{|#1\\rangle} $\n",
    "$ \\newcommand{\\braket}[2]{\\langle #1|#2\\rangle} $\n",
    "$ \\newcommand{\\dot}[2]{ #1 \\cdot #2} $\n",
    "$ \\newcommand{\\biginner}[2]{\\left\\langle #1,#2\\right\\rangle} $\n",
    "$ \\newcommand{\\mymatrix}[2]{\\left( \\begin{array}{#1} #2\\end{array} \\right)} $\n",
    "$ \\newcommand{\\myvector}[1]{\\mymatrix{c}{#1}} $\n",
    "$ \\newcommand{\\myrvector}[1]{\\mymatrix{r}{#1}} $\n",
    "$ \\newcommand{\\mypar}[1]{\\left( #1 \\right)} $\n",
    "$ \\newcommand{\\mybigpar}[1]{ \\Big( #1 \\Big)} $\n",
    "$ \\newcommand{\\sqrttwo}{\\frac{1}{\\sqrt{2}}} $\n",
    "$ \\newcommand{\\dsqrttwo}{\\dfrac{1}{\\sqrt{2}}} $\n",
    "$ \\newcommand{\\onehalf}{\\frac{1}{2}} $\n",
    "$ \\newcommand{\\donehalf}{\\dfrac{1}{2}} $\n",
    "$ \\newcommand{\\hadamard}{ \\mymatrix{rr}{ \\sqrttwo & \\sqrttwo \\\\ \\sqrttwo & -\\sqrttwo }} $\n",
    "$ \\newcommand{\\vzero}{\\myvector{1\\\\0}} $\n",
    "$ \\newcommand{\\vone}{\\myvector{0\\\\1}} $\n",
    "$ \\newcommand{\\stateplus}{\\myvector{ \\sqrttwo \\\\  \\sqrttwo } } $\n",
    "$ \\newcommand{\\stateminus}{ \\myrvector{ \\sqrttwo \\\\ -\\sqrttwo } } $\n",
    "$ \\newcommand{\\myarray}[2]{ \\begin{array}{#1}#2\\end{array}} $\n",
    "$ \\newcommand{\\X}{ \\mymatrix{cc}{0 & 1 \\\\ 1 & 0}  } $\n",
    "$ \\newcommand{\\I}{ \\mymatrix{rr}{1 & 0 \\\\ 0 & 1}  } $\n",
    "$ \\newcommand{\\Z}{ \\mymatrix{rr}{1 & 0 \\\\ 0 & -1}  } $\n",
    "$ \\newcommand{\\Htwo}{ \\mymatrix{rrrr}{ \\frac{1}{2} & \\frac{1}{2} & \\frac{1}{2} & \\frac{1}{2} \\\\ \\frac{1}{2} & -\\frac{1}{2} & \\frac{1}{2} & -\\frac{1}{2} \\\\ \\frac{1}{2} & \\frac{1}{2} & -\\frac{1}{2} & -\\frac{1}{2} \\\\ \\frac{1}{2} & -\\frac{1}{2} & -\\frac{1}{2} & \\frac{1}{2} } } $\n",
    "$ \\newcommand{\\CNOT}{ \\mymatrix{cccc}{1 & 0 & 0 & 0 \\\\ 0 & 1 & 0 & 0 \\\\ 0 & 0 & 0 & 1 \\\\ 0 & 0 & 1 & 0} } $\n",
    "$ \\newcommand{\\norm}[1]{ \\left\\lVert #1 \\right\\rVert } $\n",
    "$ \\newcommand{\\pstate}[1]{ \\lceil \\mspace{-1mu} #1 \\mspace{-1.5mu} \\rfloor } $\n",
    "$ \\newcommand{\\greenbit}[1] {\\mathbf{{\\color{green}#1}}} $\n",
    "$ \\newcommand{\\bluebit}[1] {\\mathbf{{\\color{blue}#1}}} $\n",
    "$ \\newcommand{\\redbit}[1] {\\mathbf{{\\color{red}#1}}} $\n",
    "$ \\newcommand{\\brownbit}[1] {\\mathbf{{\\color{brown}#1}}} $"
   ]
  },
  {
   "cell_type": "markdown",
   "metadata": {},
   "source": [
    "<h2> Основы Python: Списки </h2>\n",
    "\n",
    "Мы рассмотрим использование списков в Python. \n",
    "\n",
    "Пожалуйста, запустите каждую ячейку и проверьте результаты.\n",
    "Список (или массив) - это коллекция объектов (переменных), разделенных запятыми. \n",
    "\n",
    "Порядок важен, также мы можем обратиться к конкретному элементу списка по его индексу (индексация в Python начинается с 0)."
   ]
  },
  {
   "cell_type": "code",
   "execution_count": null,
   "metadata": {},
   "outputs": [],
   "source": [
    "# here is a list holding all even numbers between 10 and 20\n",
    "L = [10, 12, 14, 16, 18, 20]\n",
    "\n",
    "# let's print the list\n",
    "print(L)"
   ]
  },
  {
   "cell_type": "code",
   "execution_count": null,
   "metadata": {},
   "outputs": [],
   "source": [
    "# let's print each element by using its index but in reverse order\n",
    "print(L[5],L[4],L[3],L[2],L[1],L[0])"
   ]
  },
  {
   "cell_type": "code",
   "execution_count": null,
   "metadata": {},
   "outputs": [],
   "source": [
    "# let's print the length (size) of list\n",
    "print(len(L))"
   ]
  },
  {
   "cell_type": "code",
   "execution_count": null,
   "metadata": {},
   "outputs": [],
   "source": [
    "# let's print each element and its index in the list\n",
    "# we use a for-loop, and the number of iteration is determined by the length of the list\n",
    "# everthing is automatical :-)\n",
    "\n",
    "L = [10, 12, 14, 16, 18, 20]\n",
    "\n",
    "for i in range(len(L)):\n",
    "    print(L[i],\"is the element in our list with the index\",i)"
   ]
  },
  {
   "cell_type": "code",
   "execution_count": null,
   "metadata": {},
   "outputs": [],
   "source": [
    "# let's replace each number in the above list with its double value\n",
    "# L = [10, 12, 14, 16, 18, 20]\n",
    "\n",
    "# let's print the list before doubling operation\n",
    "print(\"the list before doubling operation is\",L)\n",
    "\n",
    "for i in range(len(L)):\n",
    "    current_element=L[i] # get the value of the i-th element\n",
    "    L[i] = 2 * current_element # update the value of the i-th element\n",
    "    # let's shorten the code as\n",
    "    #L[i] = 2 * L[i]\n",
    "    # or\n",
    "    #L[i] *= 2\n",
    "    \n",
    "# let's print the list after doubling operation\n",
    "print(\"the list after doubling operation is\",L)\n",
    "\n",
    "# after each execution of this cell, the latest values will be doubled\n",
    "#     so the values in the list will be exponentially increased "
   ]
  },
  {
   "cell_type": "code",
   "execution_count": null,
   "metadata": {},
   "outputs": [],
   "source": [
    "# let's define two lists\n",
    "L1 = [1,2,3,4]\n",
    "L2 = [-5,-6,-7,-8]\n",
    "\n",
    "# two lists can be concatenated \n",
    "# the result is a new list\n",
    "\n",
    "print(\"the concatenation of L1 and L2 is\",L1+L2)\n",
    "\n",
    "# the order of terms is important\n",
    "print(\"the concatenation of L2 and L1 is\",L2+L1) # this is a different list than L1+L2"
   ]
  },
  {
   "cell_type": "code",
   "execution_count": null,
   "metadata": {},
   "outputs": [],
   "source": [
    "# we can add a new element to a list, which increases its length/size by 1\n",
    "\n",
    "L = [10, 12, 14, 16, 18, 20]\n",
    "\n",
    "print(L,\"the current length is\",len(L))\n",
    "\n",
    "# we add two values by showing two different methods\n",
    "\n",
    "# L.append(value) directly adds the value as a new element to the list\n",
    "\n",
    "L.append(-4)\n",
    "\n",
    "# we can also use concatenation operator +\n",
    "\n",
    "L = L + [-8] # here [-8] is a list having a single element\n",
    "\n",
    "print(L,\"the new length is\",len(L))"
   ]
  },
  {
   "cell_type": "code",
   "execution_count": null,
   "metadata": {},
   "outputs": [],
   "source": [
    "# a list can be multiplied with an integer\n",
    "L = [1,2]\n",
    "\n",
    "# we can consider the multiplication of L by an integer as a repeated summation (concatenation) of L by itself\n",
    "# L * 1 is the list itself\n",
    "# L * 2 is L + L (the concatenation of L with itself)\n",
    "# L * 3 is L + L + L (the concatenation of L with itself twice)\n",
    "# L * m is L + ... + L (the concatenation of L with itself m-1 times)\n",
    "# L * 0 is the empty list\n",
    "\n",
    "# L * i is the same as i * L\n",
    "\n",
    "# let's print the different cases\n",
    "for i in range(6):\n",
    "    print(i,\"* L is\",i*L)\n",
    "\n",
    "# this operation can be useful when initializing a list with the same value(s)"
   ]
  },
  {
   "cell_type": "code",
   "execution_count": null,
   "metadata": {},
   "outputs": [],
   "source": [
    "# let's create a list of prime numbers less than 100\n",
    "\n",
    "# here is a function that determines whether a given number is prime or not\n",
    "def prime(number):\n",
    "    if number < 2: return False\n",
    "    if number == 2: return True \n",
    "    if number % 2 == 0: return False\n",
    "    for i in range(3,number,2):\n",
    "        if number % i == 0: return False \n",
    "    return True\n",
    "# end of a function\n",
    "\n",
    "# let's start with an empty list\n",
    "L=[] \n",
    "# what can the length of this list be?\n",
    "print(\"my initial length is\",len(L))\n",
    "\n",
    "for i in range(2,100): \n",
    "    if prime(i):\n",
    "        L.append(i)\n",
    "        # alternative methods:\n",
    "        #L = L + [i]\n",
    "        #L += [i]\n",
    "\n",
    "# print the final list\n",
    "print(L)\n",
    "print(\"my final length is\",len(L))"
   ]
  },
  {
   "cell_type": "markdown",
   "metadata": {},
   "source": [
    "Для данного целого числа $n \\geq 0$, $ S(0) = 0 $, $ S(1)=1 $, и $ S(n) = 1 + 2 + \\cdots + n $.\n",
    "\n",
    "Мы определяем список $ L(n) $ такой, что элемент с индексом $n$ хранит $ S(n) $.\n",
    "\n",
    "Иначе говоря, элементами списка $ L(n) $ являются $ [ S(0)~~S(1)~~S(2)~~\\cdots~~S(n) ] $.\n",
    "\n",
    "Построим список $ L(20) $."
   ]
  },
  {
   "cell_type": "code",
   "execution_count": null,
   "metadata": {},
   "outputs": [],
   "source": [
    "# let's define the list with S(0) \n",
    "L = [0]\n",
    "\n",
    "# let's iteratively define n and S\n",
    "\n",
    "# initial values\n",
    "n = 0\n",
    "S = 0\n",
    "\n",
    "# the number of iterations\n",
    "N = 20 \n",
    "\n",
    "while n <= N: # we iterate all values from 1 to 20\n",
    "    n = n + 1\n",
    "    S = S + n\n",
    "    L.append(S)\n",
    "    \n",
    "# print the final list\n",
    "print(L)"
   ]
  },
  {
   "cell_type": "markdown",
   "metadata": {},
   "source": [
    "<h3> Task 1 </h3>\n",
    "\n",
    "Ряд Фибоначчи (Fibonacci) стартует с $ 1 $ и $ 1 $. Далее, каждый следующий элемент равен сумме двух предыдущих:\n",
    "$$\n",
    "    1, 1, 2 , 3 , 5, 8, 13, 21, 34, 55, \\ldots \n",
    "$$\n",
    "\n",
    "Найдите первые 30 элементов ряда Фибоначчи, сохраните их в списке, далее выведите этот список на экран. \n",
    "\n",
    "Вы можете проверить первые 10 элементов вашего результата с рядом на две строчки выше."
   ]
  },
  {
   "cell_type": "code",
   "execution_count": null,
   "metadata": {},
   "outputs": [],
   "source": [
    "#\n",
    "# your solution is here\n",
    "#\n",
    "\n",
    "F = [1,1]\n"
   ]
  },
  {
   "cell_type": "markdown",
   "metadata": {},
   "source": [
    "<a href=\"Python20_Basics_Lists_Solutions.ipynb#task1\">click for our solution</a>"
   ]
  },
  {
   "cell_type": "markdown",
   "metadata": {},
   "source": [
    "<h3> Списки из разных объектов </h3>\n",
    "\n",
    "Список может хранить значения любых типов."
   ]
  },
  {
   "cell_type": "code",
   "execution_count": null,
   "metadata": {},
   "outputs": [],
   "source": [
    "# the following list stores certain information about Asja\n",
    "#   name, surname, age, profession, height, weight, partner(s) if any, kid(s) if any, the creation date of list\n",
    "ASJA = ['Asja','Sarkane',34,'musician',180,65.5,[],['Eleni','Fyodor'],\"October 24, 2018\"]\n",
    "\n",
    "print(ASJA)\n",
    "\n",
    "# Remark that an element of a list can be another list as well."
   ]
  },
  {
   "cell_type": "markdown",
   "metadata": {},
   "source": [
    "<h3> Task 2 </h3>\n",
    "\n",
    "Определите список $ N $ с 11 элементами, такими, что $ N[i] $ - этой другой список из четырех элементов, хранящий такие значения: $ [i, i^2, i^3, i^2+i^3] $.\n",
    "\n",
    "Индекс $ i $ должен быть между $ 0 $ и $ 10 $."
   ]
  },
  {
   "cell_type": "code",
   "execution_count": null,
   "metadata": {},
   "outputs": [],
   "source": [
    "#\n",
    "# your solution is here\n",
    "#\n"
   ]
  },
  {
   "cell_type": "markdown",
   "metadata": {},
   "source": [
    "<a href=\"Python20_Basics_Lists_Solutions.ipynb#task2\">click for our solution</a>"
   ]
  },
  {
   "cell_type": "markdown",
   "metadata": {},
   "source": [
    "<h3> Словари </h3>\n",
    "\n",
    "Вывод квантовых программ (схем) будут храниться в словарях (dictionary).\n",
    "\n",
    "Следовательно, мы коротко рассмотрим про этот тип данных. \n",
    "\n",
    "Словарь - коллекция, каждый элемент которого является парой.\n",
    "\n",
    "Каждая пара состоит из ключа и значения, доступ к любому значению осуществляется через его ключ."
   ]
  },
  {
   "cell_type": "code",
   "execution_count": null,
   "metadata": {},
   "outputs": [],
   "source": [
    "# let's define a dictionary pairing a person with her/his age\n",
    "\n",
    "ages = {\n",
    "    'Asja':32,\n",
    "    'Balvis':28,\n",
    "    'Fyodor':43\n",
    "}\n",
    "\n",
    "# let print all keys\n",
    "for person in ages:\n",
    "    print(person)\n",
    "    \n",
    "# let's print the values\n",
    "for person in ages:\n",
    "    print(ages[person])"
   ]
  },
  {
   "cell_type": "code",
   "execution_count": null,
   "metadata": {},
   "outputs": [],
   "source": []
  }
 ],
 "metadata": {
  "kernelspec": {
   "display_name": "Python 3 (ipykernel)",
   "language": "python",
   "name": "python3"
  },
  "language_info": {
   "codemirror_mode": {
    "name": "ipython",
    "version": 3
   },
   "file_extension": ".py",
   "mimetype": "text/x-python",
   "name": "python",
   "nbconvert_exporter": "python",
   "pygments_lexer": "ipython3",
   "version": "3.11.6"
  }
 },
 "nbformat": 4,
 "nbformat_minor": 4
}
