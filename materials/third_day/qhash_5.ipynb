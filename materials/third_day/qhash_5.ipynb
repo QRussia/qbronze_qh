{
 "cells": [
  {
   "cell_type": "code",
   "execution_count": null,
   "id": "3daa116a-0863-40ee-8c06-7dedce9cece6",
   "metadata": {},
   "outputs": [],
   "source": [
    "from random import randrange\n",
    "from math import pi\n",
    "from qiskit import QuantumRegister, ClassicalRegister, QuantumCircuit\n",
    "from qiskit.circuit.library.standard_gates.x import XGate, MCXGate\n",
    "import math\n",
    "from qiskit import transpile\n",
    "from qiskit.visualization import plot_histogram\n",
    "from qiskit_ibm_runtime.fake_provider.backends.cairo import FakeCairoV2\n",
    "from qiskit.visualization import plot_circuit_layout\n",
    "from qiskit.visualization import plot_histogram"
   ]
  },
  {
   "cell_type": "code",
   "execution_count": null,
   "id": "d606ff2e-c443-4602-be1a-d60703afa34b",
   "metadata": {},
   "outputs": [],
   "source": [
    "p=17  \n",
    "n=4\n",
    "K=[4, 8, 12, 6]\n",
    "key =\"\"\n",
    "for cc in range(n):\n",
    "    key+=\"0\""
   ]
  },
  {
   "cell_type": "code",
   "execution_count": null,
   "id": "6d5b6215-3b13-4e5e-af29-e17027094f3c",
   "metadata": {},
   "outputs": [],
   "source": [
    "def hadamardForAll(n):\n",
    "    for i in range(1,n):\n",
    "        qc.h(q[i])  "
   ]
  },
  {
   "cell_type": "code",
   "execution_count": null,
   "id": "70c5d114-0c85-4ce7-b787-da175bb24546",
   "metadata": {},
   "outputs": [],
   "source": [
    "def OneStep(K,p):\n",
    "    global qc,q\n",
    "    angle1=K[2]*math.pi/p\n",
    "    qc.cry(angle1,q[1],q[0])\n",
    "    angle1=K[1]*math.pi/p\n",
    "    qc.cry(angle1,q[2],q[0])\n",
    "    angle1=K[0]*math.pi/p\n",
    "    qc.cry(angle1,q[3],q[0])\n",
    "    angle1 = K[3] * math.pi/p\n",
    "    qc.ry(angle1, q[0])\n",
    "def OneStepMinus(K,p):\n",
    "    global qc,q\n",
    "    angle1=-K[2]*math.pi/p\n",
    "    qc.cry(angle1,q[1],q[0])\n",
    "    angle1=-K[1]*math.pi/p\n",
    "    qc.cry(angle1,q[2],q[0])\n",
    "    angle1=-K[0]*math.pi/p\n",
    "    qc.cry(angle1,q[3],q[0])\n",
    "    angle1 = -K[3] * math.pi/p\n",
    "    qc.ry(angle1, q[0])"
   ]
  },
  {
   "cell_type": "code",
   "execution_count": null,
   "id": "cd5c4b34-bffe-429a-aa6d-a472735e11bf",
   "metadata": {},
   "outputs": [],
   "source": [
    "def iterationAlice(s):\n",
    "    global n, p,K,key, qc, index\n",
    "    hadamardForAll(n)\n",
    "    qc.barrier()\n",
    "    for bit in s:\n",
    "        if bit =='1':\n",
    "             OneStep(K,p)\n",
    "def iterationBob(s):\n",
    "    global n, p,K,key, qc, index\n",
    "    for bit in s:\n",
    "        if bit =='1':\n",
    "             OneStepMinus(K,p)\n",
    "    qc.barrier()\n",
    "    hadamardForAll(n)\n",
    "    qc.barrier()\n",
    "    for i in range(n):\n",
    "        qc.measure(q[i],c[i]) "
   ]
  },
  {
   "cell_type": "code",
   "execution_count": null,
   "id": "e13a5ef8-6a4f-4d7e-bb95-56d5182a5836",
   "metadata": {},
   "outputs": [],
   "source": [
    "print(\"Start\")\n",
    "shotss=100\n",
    "results = []\n",
    "all_counts = {}\n",
    "number_of_repetition = 2*p\n",
    "\n",
    "# Шаг 1: Подготовка и описание схемы\n",
    "q = QuantumRegister(n)\n",
    "c = ClassicalRegister(n)\n",
    "qc = QuantumCircuit(q,c)\n",
    "iterationAlice(\"101000\")\n",
    "iterationBob(\"101100\")\n",
    "\n",
    "# Шаг 2: Выбираем Backend, на котором выполняется схема\n",
    "backend = FakeCairoV2() # Create a simulated backend\n",
    "\n",
    "# Шаг 3: Разложение многокубитных гейтов в базисные гейты (зависит от Backend)\n",
    "transpiled_circuit = transpile(qc, backend=backend, optimization_level=3)\n",
    "\n",
    "# Шаг 4: Запуск схемы\n",
    "job = backend.run(transpiled_circuit, shots=shotss)  # Run the circuit with 1024 shots\n",
    "\n",
    "# Шаг 5: Получаем результат и выводим\n",
    "result = job.result()\n",
    "counts = result.get_counts(transpiled_circuit)\n",
    "try:\n",
    "    all_counts[number_of_repetition] = counts[key]\n",
    "except KeyError:\n",
    "    all_counts[number_of_repetition] = 0\n",
    "\n",
    "print(\"all_counts[\",number_of_repetition, \"]\",all_counts[number_of_repetition])\n",
    "if (all_counts[number_of_repetition]>20): print(\"Equal\")    \n",
    "else: print(\"Error\")\n",
    "   \n",
    "print(f'Measurement Counts: {all_counts}')\n",
    "plot_histogram(all_counts)\n"
   ]
  }
 ],
 "metadata": {
  "kernelspec": {
   "display_name": "Python 3 (ipykernel)",
   "language": "python",
   "name": "python3"
  },
  "language_info": {
   "codemirror_mode": {
    "name": "ipython",
    "version": 3
   },
   "file_extension": ".py",
   "mimetype": "text/x-python",
   "name": "python",
   "nbconvert_exporter": "python",
   "pygments_lexer": "ipython3",
   "version": "3.12.7"
  }
 },
 "nbformat": 4,
 "nbformat_minor": 5
}
