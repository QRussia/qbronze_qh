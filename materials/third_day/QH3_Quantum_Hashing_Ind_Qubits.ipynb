{
 "cells": [
  {
   "cell_type": "markdown",
   "metadata": {},
   "source": [
    "<a href=\"https://qworld.net\" target=\"_blank\" align=\"left\"><img src=\"../../qworld/images/header.jpg\"  align=\"left\"></a>\n",
    "$ \\newcommand{\\bra}[1]{\\langle #1|} $\n",
    "$ \\newcommand{\\ket}[1]{|#1\\rangle} $\n",
    "$ \\newcommand{\\braket}[2]{\\langle #1|#2\\rangle} $\n",
    "$ \\newcommand{\\dot}[2]{ #1 \\cdot #2} $\n",
    "$ \\newcommand{\\biginner}[2]{\\left\\langle #1,#2\\right\\rangle} $\n",
    "$ \\newcommand{\\mymatrix}[2]{\\left( \\begin{array}{#1} #2\\end{array} \\right)} $\n",
    "$ \\newcommand{\\myvector}[1]{\\mymatrix{c}{#1}} $\n",
    "$ \\newcommand{\\myrvector}[1]{\\mymatrix{r}{#1}} $\n",
    "$ \\newcommand{\\mypar}[1]{\\left( #1 \\right)} $\n",
    "$ \\newcommand{\\mybigpar}[1]{ \\Big( #1 \\Big)} $\n",
    "$ \\newcommand{\\sqrttwo}{\\frac{1}{\\sqrt{2}}} $\n",
    "$ \\newcommand{\\dsqrttwo}{\\dfrac{1}{\\sqrt{2}}} $\n",
    "$ \\newcommand{\\onehalf}{\\frac{1}{2}} $\n",
    "$ \\newcommand{\\donehalf}{\\dfrac{1}{2}} $\n",
    "$ \\newcommand{\\hadamard}{ \\mymatrix{rr}{ \\sqrttwo & \\sqrttwo \\\\ \\sqrttwo & -\\sqrttwo }} $\n",
    "$ \\newcommand{\\vzero}{\\myvector{1\\\\0}} $\n",
    "$ \\newcommand{\\vone}{\\myvector{0\\\\1}} $\n",
    "$ \\newcommand{\\stateplus}{\\myvector{ \\sqrttwo \\\\  \\sqrttwo } } $\n",
    "$ \\newcommand{\\stateminus}{ \\myrvector{ \\sqrttwo \\\\ -\\sqrttwo } } $\n",
    "$ \\newcommand{\\myarray}[2]{ \\begin{array}{#1}#2\\end{array}} $\n",
    "$ \\newcommand{\\X}{ \\mymatrix{cc}{0 & 1 \\\\ 1 & 0}  } $\n",
    "$ \\newcommand{\\I}{ \\mymatrix{rr}{1 & 0 \\\\ 0 & 1}  } $\n",
    "$ \\newcommand{\\Z}{ \\mymatrix{rr}{1 & 0 \\\\ 0 & -1}  } $\n",
    "$ \\newcommand{\\Htwo}{ \\mymatrix{rrrr}{ \\frac{1}{2} & \\frac{1}{2} & \\frac{1}{2} & \\frac{1}{2} \\\\ \\frac{1}{2} & -\\frac{1}{2} & \\frac{1}{2} & -\\frac{1}{2} \\\\ \\frac{1}{2} & \\frac{1}{2} & -\\frac{1}{2} & -\\frac{1}{2} \\\\ \\frac{1}{2} & -\\frac{1}{2} & -\\frac{1}{2} & \\frac{1}{2} } } $\n",
    "$ \\newcommand{\\CNOT}{ \\mymatrix{cccc}{1 & 0 & 0 & 0 \\\\ 0 & 1 & 0 & 0 \\\\ 0 & 0 & 0 & 1 \\\\ 0 & 0 & 1 & 0} } $\n",
    "$ \\newcommand{\\norm}[1]{ \\left\\lVert #1 \\right\\rVert } $\n",
    "$ \\newcommand{\\pstate}[1]{ \\lceil \\mspace{-1mu} #1 \\mspace{-1.5mu} \\rfloor } $\n",
    "$ \\newcommand{\\greenbit}[1] {\\mathbf{{\\color{green}#1}}} $\n",
    "$ \\newcommand{\\bluebit}[1] {\\mathbf{{\\color{blue}#1}}} $\n",
    "$ \\newcommand{\\redbit}[1] {\\mathbf{{\\color{red}#1}}} $\n",
    "$ \\newcommand{\\brownbit}[1] {\\mathbf{{\\color{brown}#1}}} $\n",
    "$ \\newcommand{\\blackbit}[1] {\\mathbf{{\\color{black}#1}}} $"
   ]
  },
  {
   "cell_type": "markdown",
   "metadata": {},
   "source": [
    "<font style=\"font-size:28px;\" align=\"left\"><b> Хеширование с помощью $n$ независимых кубитов </b></font>\n",
    "<br>\n",
    "_подготовлено QRussia_\n",
    "<br><br>"
   ]
  },
  {
   "cell_type": "markdown",
   "metadata": {},
   "source": [
    "Как и в классическом случае, при хешировании с использованием одного кубита мы можем столкнуться с ситуацией, когда сравниваемые строки различны, но при измерении кубита мы получаем значение $0$. Рассмотрим следующий пример.\n",
    "\n",
    "<img src=\"../images/qh_2.png\" width=\"500\"  align=\"center\">\n",
    "\n",
    "Такое происходит, когда вектор состояния не сонаправлен с осью $x$: амплитуда при состоянии $|1\\rangle$ получается ненулевая.\n",
    "\n",
    "В классическом случае при разработке улучшенного алгоритма мы брали несколько простых чисел $\\{p_1, p_2, ...,p_l\\}$.\n",
    "Здесь мы можем поступить аналогичным образом и взять несколько кубитов."
   ]
  },
  {
   "cell_type": "markdown",
   "metadata": {},
   "source": [
    "Возьмем $n$ кубитов и $n$ коэффициентов — $[k_0,k_1,...,k_{n-1}]$, $k_i \\in [1,...,p-1]$.\n",
    "\n",
    "В этом случае для строки $s$ $i$-ый кубит будем поворачивать $h(s)$ раз на угол $\\alpha$, где $\\alpha=\\frac{2\\pi k_i}{p}$.\n",
    "\n",
    "Аналогично, для строки $t$ $i$-ый кубит будем поворачивать $h(t)$ раз на угол $-\\alpha$, где $\\alpha=\\frac{2\\pi k_i}{p}$.\n",
    "\n",
    "Существуют разные способы выбора набора коэффициентов $[k_0,k_1,...,k_{n-1}]$. Один из способов — случайный выбор.\n",
    "\n",
    "После осуществления поворотов, выполняем измерение всех кубитов. Если хотя бы один из кубитов после измерения окажется в состоянии $1$, то это будет означать, что строки не равны.\n",
    "\n",
    "Рассмотрим пример для $p = 11$ и $n = 4$. Мы используем набор параметров $k = [3, 4, 5, 6]$. В таком случае у нас будет следующая квантовая схема:\n",
    "\n",
    "<img src=\"../images/qh_via_single_qubits.jpg\" width=\"300\">\n",
    "\n",
    "где углы $\\theta_0 = \\frac{2\\pi*3}{11}, \\theta_1 = \\frac{2\\pi*4}{11}, \\theta_2 = \\frac{2\\pi*5}{11}, \\theta_3 = \\frac{2\\pi*6}{11}$."
   ]
  },
  {
   "cell_type": "markdown",
   "metadata": {},
   "source": [
    "### Задача 1\n",
    "\n",
    "Реализуйте алгоритм сравнения строк с помощью $n$ независимых кубитов. В качестве значений $n$ возьмите $4, 8, 10$ и проверьте работу алгоритма."
   ]
  },
  {
   "cell_type": "code",
   "execution_count": null,
   "metadata": {},
   "outputs": [],
   "source": [
    "from qiskit import QuantumRegister, ClassicalRegister, QuantumCircuit, transpile\n",
    "from qiskit_aer import Aer\n",
    "from math import pi\n",
    "from qiskit.visualization import plot_histogram \n",
    "# Параметры задачи\n",
    "p = 11  # Количество разбиений\n",
    "k = [3, 4, 5, 6]  # Коэффициенты\n",
    "n = 4 # Количество кубитов\n",
    "\n",
    "# Строки для сравнения\n",
    "s=\"110110\"\n",
    "t=\"110010\"\n",
    "\n",
    "# Ваше решение"
   ]
  },
  {
   "cell_type": "markdown",
   "metadata": {},
   "source": [
    "[решение тут](QH3_Quantum_Hashing_Ind_Qubits_Solutions.ipynb)"
   ]
  }
 ],
 "metadata": {
  "kernelspec": {
   "display_name": "Python 3 (ipykernel)",
   "language": "python",
   "name": "python3"
  },
  "language_info": {
   "codemirror_mode": {
    "name": "ipython",
    "version": 3
   },
   "file_extension": ".py",
   "mimetype": "text/x-python",
   "name": "python",
   "nbconvert_exporter": "python",
   "pygments_lexer": "ipython3",
   "version": "3.12.7"
  }
 },
 "nbformat": 4,
 "nbformat_minor": 4
}
