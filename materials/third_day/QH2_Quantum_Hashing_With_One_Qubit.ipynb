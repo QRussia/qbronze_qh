{
 "cells": [
  {
   "cell_type": "markdown",
   "metadata": {},
   "source": [
    "<a href=\"https://qworld.net\" target=\"_blank\" align=\"left\"><img src=\"../../qworld/images/header.jpg\"  align=\"left\"></a>\n",
    "$ \\newcommand{\\bra}[1]{\\langle #1|} $\n",
    "$ \\newcommand{\\ket}[1]{|#1\\rangle} $\n",
    "$ \\newcommand{\\braket}[2]{\\langle #1|#2\\rangle} $\n",
    "$ \\newcommand{\\dot}[2]{ #1 \\cdot #2} $\n",
    "$ \\newcommand{\\biginner}[2]{\\left\\langle #1,#2\\right\\rangle} $\n",
    "$ \\newcommand{\\mymatrix}[2]{\\left( \\begin{array}{#1} #2\\end{array} \\right)} $\n",
    "$ \\newcommand{\\myvector}[1]{\\mymatrix{c}{#1}} $\n",
    "$ \\newcommand{\\myrvector}[1]{\\mymatrix{r}{#1}} $\n",
    "$ \\newcommand{\\mypar}[1]{\\left( #1 \\right)} $\n",
    "$ \\newcommand{\\mybigpar}[1]{ \\Big( #1 \\Big)} $\n",
    "$ \\newcommand{\\sqrttwo}{\\frac{1}{\\sqrt{2}}} $\n",
    "$ \\newcommand{\\dsqrttwo}{\\dfrac{1}{\\sqrt{2}}} $\n",
    "$ \\newcommand{\\onehalf}{\\frac{1}{2}} $\n",
    "$ \\newcommand{\\donehalf}{\\dfrac{1}{2}} $\n",
    "$ \\newcommand{\\hadamard}{ \\mymatrix{rr}{ \\sqrttwo & \\sqrttwo \\\\ \\sqrttwo & -\\sqrttwo }} $\n",
    "$ \\newcommand{\\vzero}{\\myvector{1\\\\0}} $\n",
    "$ \\newcommand{\\vone}{\\myvector{0\\\\1}} $\n",
    "$ \\newcommand{\\stateplus}{\\myvector{ \\sqrttwo \\\\  \\sqrttwo } } $\n",
    "$ \\newcommand{\\stateminus}{ \\myrvector{ \\sqrttwo \\\\ -\\sqrttwo } } $\n",
    "$ \\newcommand{\\myarray}[2]{ \\begin{array}{#1}#2\\end{array}} $\n",
    "$ \\newcommand{\\X}{ \\mymatrix{cc}{0 & 1 \\\\ 1 & 0}  } $\n",
    "$ \\newcommand{\\I}{ \\mymatrix{rr}{1 & 0 \\\\ 0 & 1}  } $\n",
    "$ \\newcommand{\\Z}{ \\mymatrix{rr}{1 & 0 \\\\ 0 & -1}  } $\n",
    "$ \\newcommand{\\Htwo}{ \\mymatrix{rrrr}{ \\frac{1}{2} & \\frac{1}{2} & \\frac{1}{2} & \\frac{1}{2} \\\\ \\frac{1}{2} & -\\frac{1}{2} & \\frac{1}{2} & -\\frac{1}{2} \\\\ \\frac{1}{2} & \\frac{1}{2} & -\\frac{1}{2} & -\\frac{1}{2} \\\\ \\frac{1}{2} & -\\frac{1}{2} & -\\frac{1}{2} & \\frac{1}{2} } } $\n",
    "$ \\newcommand{\\CNOT}{ \\mymatrix{cccc}{1 & 0 & 0 & 0 \\\\ 0 & 1 & 0 & 0 \\\\ 0 & 0 & 0 & 1 \\\\ 0 & 0 & 1 & 0} } $\n",
    "$ \\newcommand{\\norm}[1]{ \\left\\lVert #1 \\right\\rVert } $\n",
    "$ \\newcommand{\\pstate}[1]{ \\lceil \\mspace{-1mu} #1 \\mspace{-1.5mu} \\rfloor } $\n",
    "$ \\newcommand{\\greenbit}[1] {\\mathbf{{\\color{green}#1}}} $\n",
    "$ \\newcommand{\\bluebit}[1] {\\mathbf{{\\color{blue}#1}}} $\n",
    "$ \\newcommand{\\redbit}[1] {\\mathbf{{\\color{red}#1}}} $\n",
    "$ \\newcommand{\\brownbit}[1] {\\mathbf{{\\color{brown}#1}}} $\n",
    "$ \\newcommand{\\blackbit}[1] {\\mathbf{{\\color{black}#1}}} $"
   ]
  },
  {
   "cell_type": "markdown",
   "metadata": {},
   "source": [
    "<font style=\"font-size:28px;\" align=\"left\"><b> Хеширование с помощью одного кубита </b></font>\n",
    "<br>\n",
    "_подготовлено QRussia_\n",
    "<br><br>"
   ]
  },
  {
   "cell_type": "markdown",
   "metadata": {},
   "source": [
    "### Сравнение двух строк с использованием одного кубита\n",
    "\n",
    "Рассмотрим, как можно сравнить две строки, используя один кубит. В данном случае мы опишем квантовый аналог классического алгоритма, рассмотренного в [прошлом ноутбуке](../third_day/QH1_Cryptography_intro.ipynb).\n",
    "\n",
    "Напомним, что хеш-функция $h(x)$ определяется следующим образом:\n",
    "\n",
    "$$\n",
    "h(x) = \\#_1(x) \\bmod p,\n",
    "$$\n",
    "\n",
    "где $\\#_1(x)$ — количество единиц в строке $x$, а $\\bmod p$ — операция получения остатка от деления на $p$.\n",
    "\n",
    "Соотношение $h(s) = h(t)$ можно переписать как $h(s) - h(t) = 0$, что позволит использовать один кубит.\n",
    "\n",
    "Перед тем как представить алгоритм, вспомним операцию с кубитами, известную как [повороты](../second_day/Q44_Rotations.ipynb).\n",
    "\n",
    "### Алгоритм сравнения двух строк с использованием одного кубита\n",
    "\n",
    "Для двух строк $s$ и $t$ необходимо проверить их равенство. Квантовый алгоритм решения этой задачи состоит из следующих шагов:\n",
    "\n",
    "1. Выбираем число $p$ и делим окружность на $p$ равных частей. Определяем угол $\\alpha = \\frac{2\\pi}{p}$.\n",
    "2. Для строки $s$: вычисляем $h(s)$ и поворачиваем кубит на угол $\\alpha$ $h(s)$ раз.\n",
    "3. Для строки $t$: вычисляем $h(t)$ и поворачиваем кубит на угол $-\\alpha$ $h(t)$ раз.\n",
    "4. Проводим измерение кубита. Если результат равен $0$, то строки считаются равными (с высокой вероятностью), иначе — различными.\n",
    "\n",
    "<img src=\"../images/qh_1.png\" width=\"500\"/>\n",
    "\n",
    "Отметим, что вместо поворота кубита на угол $\\alpha$ $h(x)$ раз, можно осуществлять повороты на угол $\\alpha$ (или $-\\alpha$) каждый раз при обнаружении единицы в хеше."
   ]
  },
  {
   "cell_type": "markdown",
   "metadata": {},
   "source": [
    "<h3> Задача 1</h3>\n",
    "\n",
    "Реализуйте вышеописанный алгоритм на Python с использованием qiskit.\n",
    "\n",
    "Подсказка. Для реализации поворота нужно воспользоваться функцией `ry` у квантовой схемы."
   ]
  },
  {
   "cell_type": "code",
   "execution_count": null,
   "metadata": {},
   "outputs": [],
   "source": [
    "#\n",
    "# your solution is here\n",
    "#"
   ]
  }
 ],
 "metadata": {
  "kernelspec": {
   "display_name": "Python 3 (ipykernel)",
   "language": "python",
   "name": "python3"
  },
  "language_info": {
   "codemirror_mode": {
    "name": "ipython",
    "version": 3
   },
   "file_extension": ".py",
   "mimetype": "text/x-python",
   "name": "python",
   "nbconvert_exporter": "python",
   "pygments_lexer": "ipython3",
   "version": "3.11.6"
  }
 },
 "nbformat": 4,
 "nbformat_minor": 4
}
