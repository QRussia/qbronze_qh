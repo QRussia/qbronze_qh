{
 "cells": [
  {
   "cell_type": "code",
   "execution_count": null,
   "id": "3daa116a-0863-40ee-8c06-7dedce9cece6",
   "metadata": {},
   "outputs": [],
   "source": [
    "from math import pi\n",
    "from qiskit import QuantumRegister, ClassicalRegister, QuantumCircuit\n",
    "import math\n",
    "\n",
    "p=17  \n",
    "n=4"
   ]
  },
  {
   "cell_type": "code",
   "execution_count": null,
   "id": "6d5b6215-3b13-4e5e-af29-e17027094f3c",
   "metadata": {},
   "outputs": [],
   "source": [
    "def hadamardForAll(n):\n",
    "    for i in range(1,n):\n",
    "        qc.h(q[i])  "
   ]
  },
  {
   "cell_type": "code",
   "execution_count": null,
   "id": "70c5d114-0c85-4ce7-b787-da175bb24546",
   "metadata": {},
   "outputs": [],
   "source": [
    "def OneStep(K,p):\n",
    "    global qc,q\n",
    "    angle1=K[2]*math.pi/p\n",
    "    qc.cry(angle1,q[1],q[0])\n",
    "    angle1=K[1]*math.pi/p\n",
    "    qc.cry(angle1,q[2],q[0])\n",
    "    angle1=K[0]*math.pi/p\n",
    "    qc.cry(angle1,q[3],q[0])\n",
    "    angle1 = K[3] * math.pi/p\n",
    "    qc.ry(angle1, q[0])"
   ]
  },
  {
   "cell_type": "code",
   "execution_count": null,
   "id": "cd5c4b34-bffe-429a-aa6d-a472735e11bf",
   "metadata": {},
   "outputs": [],
   "source": [
    "def iteration(s):\n",
    "    hadamardForAll(n)\n",
    "    for bit in s:\n",
    "        if bit == '1':\n",
    "            OneStep(K,p)\n",
    "            qc.barrier()"
   ]
  },
  {
   "cell_type": "code",
   "execution_count": null,
   "id": "e13a5ef8-6a4f-4d7e-bb95-56d5182a5836",
   "metadata": {},
   "outputs": [],
   "source": [
    "from qiskit import QuantumCircuit, transpile\n",
    "from qiskit.providers.fake_provider.backends.cairo import FakeCairoV2\n",
    "from qiskit.visualization import plot_circuit_layout\n",
    "from qiskit.visualization import plot_histogram\n",
    "print(\"Start\")\n",
    "K=[4, 8, 12, 6]\n",
    "\n",
    "all_counts = {}\n",
    "q = QuantumRegister(n)\n",
    "c = ClassicalRegister(n)\n",
    "qc = QuantumCircuit(q,c)\n",
    "iteration(\"101000\")\n",
    "\n",
    "qc.draw(output = \"mpl\", style = \"clifford\")\n"
   ]
  },
  {
   "cell_type": "code",
   "execution_count": null,
   "id": "51a6825d-8135-43ed-8e09-bf1ef419a01b",
   "metadata": {},
   "outputs": [],
   "source": []
  }
 ],
 "metadata": {
  "kernelspec": {
   "display_name": "Python 3 (ipykernel)",
   "language": "python",
   "name": "python3"
  },
  "language_info": {
   "codemirror_mode": {
    "name": "ipython",
    "version": 3
   },
   "file_extension": ".py",
   "mimetype": "text/x-python",
   "name": "python",
   "nbconvert_exporter": "python",
   "pygments_lexer": "ipython3",
   "version": "3.11.6"
  }
 },
 "nbformat": 4,
 "nbformat_minor": 5
}
