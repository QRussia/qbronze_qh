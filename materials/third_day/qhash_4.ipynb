{
 "cells": [
  {
   "cell_type": "code",
   "execution_count": 7,
   "id": "3daa116a-0863-40ee-8c06-7dedce9cece6",
   "metadata": {},
   "outputs": [],
   "source": [
    "from random import randrange\n",
    "from math import pi\n",
    "from qiskit import QuantumRegister, ClassicalRegister, QuantumCircuit\n",
    "from qiskit.circuit.library.standard_gates.x import XGate, MCXGate\n",
    "import math\n",
    "from qiskit import transpile\n",
    "from qiskit.visualization import plot_histogram"
   ]
  },
  {
   "cell_type": "code",
   "execution_count": 8,
   "id": "d606ff2e-c443-4602-be1a-d60703afa34b",
   "metadata": {},
   "outputs": [],
   "source": [
    "p=17  \n",
    "n=4\n",
    "key =\"\"\n",
    "for cc in range(n):\n",
    "    key+=\"0\""
   ]
  },
  {
   "cell_type": "code",
   "execution_count": 9,
   "id": "6d5b6215-3b13-4e5e-af29-e17027094f3c",
   "metadata": {},
   "outputs": [],
   "source": [
    "def hadamardForAll(n):\n",
    "    for i in range(1,n):\n",
    "        qc.h(q[i])  "
   ]
  },
  {
   "cell_type": "code",
   "execution_count": 15,
   "id": "70c5d114-0c85-4ce7-b787-da175bb24546",
   "metadata": {},
   "outputs": [],
   "source": [
    "def OneStep(K,p):\n",
    "    global qc,q\n",
    "    angle1=K[2]*math.pi/p\n",
    "    qc.cry(angle1,q[1],q[0])\n",
    "    angle1=K[1]*math.pi/p\n",
    "    qc.cry(angle1,q[2],q[0])\n",
    "    angle1=K[0]*math.pi/p\n",
    "    qc.cry(angle1,q[3],q[0])\n",
    "    angle1 = K[3] * math.pi/p\n",
    "    qc.ry(angle1, q[0])"
   ]
  },
  {
   "cell_type": "code",
   "execution_count": 11,
   "id": "cd5c4b34-bffe-429a-aa6d-a472735e11bf",
   "metadata": {},
   "outputs": [],
   "source": [
    "def iteration(x):\n",
    "    hadamardForAll(n)\n",
    "    for i in range(x):\n",
    "       OneStep(K,p)  \n",
    "    qc.barrier()\n",
    "    hadamardForAll(n)\n",
    "    qc.barrier()\n",
    "    for i in range(n):\n",
    "        qc.measure(q[i],c[i])\n",
    "# return qc"
   ]
  },
  {
   "cell_type": "code",
   "execution_count": 14,
   "id": "e13a5ef8-6a4f-4d7e-bb95-56d5182a5836",
   "metadata": {},
   "outputs": [
    {
     "name": "stdout",
     "output_type": "stream",
     "text": [
      "Start\n",
      "all_counts[ 34 ] 52\n",
      "Equal\n",
      "Measurement Counts: {34: 52}\n"
     ]
    },
    {
     "data": {
      "image/png": "[encoded data removed]",
      "text/plain": [
       "<Figure size 700x500 with 1 Axes>"
      ]
     },
     "execution_count": 14,
     "metadata": {},
     "output_type": "execute_result"
    }
   ],
   "source": [
    "from qiskit import QuantumCircuit, transpile\n",
    "from qiskit.providers.fake_provider.backends.cairo import FakeCairoV2\n",
    "from qiskit.visualization import plot_circuit_layout\n",
    "from qiskit.visualization import plot_histogram\n",
    "max_number = 129#4*p+1+14\n",
    "count_p_max = -1\n",
    "count_not_p_max = -1\n",
    "print(\"Start\")\n",
    "shotss=100\n",
    "n=4\n",
    "K=[4, 8, 12, 6]\n",
    "\n",
    "\n",
    "results = []\n",
    "\n",
    "all_counts = {}\n",
    "number_of_repetition = 2*17\n",
    "#for number_of_repetition in range(1,17*6+1):\n",
    "q = QuantumRegister(n)\n",
    "c = ClassicalRegister(n)\n",
    "qc = QuantumCircuit(q,c)\n",
    "iteration(17)\n",
    "\n",
    "# Step 2: Select the Backend\n",
    "backend = FakeCairoV2()  # Create a simulated backend with 3 qubits\n",
    "\n",
    "# Step 3: Transpile the Circuit\n",
    "transpiled_circuit = transpile(qc, backend=backend, optimization_level=3)\n",
    "\n",
    "# Step 4: Execute the Circuit\n",
    "job = backend.run(transpiled_circuit, shots=shotss)  # Run the circuit with 1024 shots\n",
    "\n",
    "# Step 5: Retrieve and Print Results\n",
    "result = job.result()\n",
    "counts = result.get_counts(transpiled_circuit)\n",
    "try:\n",
    "    all_counts[number_of_repetition] = counts[key]\n",
    "except KeyError:\n",
    "    all_counts[number_of_repetition] = 0\n",
    "print(\"all_counts[\",number_of_repetition, \"]\",all_counts[number_of_repetition])\n",
    "if (all_counts[number_of_repetition]>20): print(\"Equal\")    \n",
    "else: print(\"Error\")\n",
    "   \n",
    "print(f'Measurement Counts: {all_counts}')\n",
    "plot_histogram(all_counts)\n"
   ]
  },
  {
   "cell_type": "code",
   "execution_count": null,
   "id": "51a6825d-8135-43ed-8e09-bf1ef419a01b",
   "metadata": {},
   "outputs": [],
   "source": []
  }
 ],
 "metadata": {
  "kernelspec": {
   "display_name": "Python 3 (ipykernel)",
   "language": "python",
   "name": "python3"
  },
  "language_info": {
   "codemirror_mode": {
    "name": "ipython",
    "version": 3
   },
   "file_extension": ".py",
   "mimetype": "text/x-python",
   "name": "python",
   "nbconvert_exporter": "python",
   "pygments_lexer": "ipython3",
   "version": "3.11.6"
  }
 },
 "nbformat": 4,
 "nbformat_minor": 5
}
