{
 "cells": [
  {
   "cell_type": "code",
   "execution_count": 1,
   "id": "3daa116a-0863-40ee-8c06-7dedce9cece6",
   "metadata": {},
   "outputs": [],
   "source": [
    "from random import randrange\n",
    "from math import pi\n",
    "from qiskit import QuantumRegister, ClassicalRegister, QuantumCircuit\n",
    "from qiskit.circuit.library.standard_gates.x import XGate, MCXGate\n",
    "import math\n",
    "from qiskit import transpile\n",
    "from qiskit.visualization import plot_histogram"
   ]
  },
  {
   "cell_type": "code",
   "execution_count": 2,
   "id": "d606ff2e-c443-4602-be1a-d60703afa34b",
   "metadata": {},
   "outputs": [],
   "source": [
    "p=17\n",
    "n=4\n",
    "key =\"\"\n",
    "for cc in range(n):\n",
    "    key+=\"0\"\n",
    "index=[0,1,2,3]"
   ]
  },
  {
   "cell_type": "code",
   "execution_count": 3,
   "id": "6ee55f0e-5db0-4e89-b86f-301fc30a8937",
   "metadata": {},
   "outputs": [],
   "source": [
    "def getZero(n):\n",
    "    key = ''\n",
    "    for i in range(n):\n",
    "        key+='0'\n",
    "    return key"
   ]
  },
  {
   "cell_type": "code",
   "execution_count": 4,
   "id": "6d5b6215-3b13-4e5e-af29-e17027094f3c",
   "metadata": {},
   "outputs": [],
   "source": [
    "def hadamardForAll2(n):\n",
    "    for i in range(1,n):\n",
    "        qc.h(q[index[i]])\n",
    "    qc.sx(q[index[0]])"
   ]
  },
  {
   "cell_type": "code",
   "execution_count": 5,
   "id": "3fb29075-8b34-45c3-a1e3-73d652e79556",
   "metadata": {},
   "outputs": [],
   "source": [
    "def hadamardForAll21(n):\n",
    "    for i in range(1,n):\n",
    "        qc.h(q[index[i]])\n",
    "    qc.sxdg(q[index[0]])"
   ]
  },
  {
   "cell_type": "code",
   "execution_count": 6,
   "id": "70c5d114-0c85-4ce7-b787-da175bb24546",
   "metadata": {},
   "outputs": [],
   "source": [
    "def OneStep2(K,p):\n",
    "    global qc,q\n",
    "    angle1=K[2]*math.pi/p\n",
    "    qc.crz(angle1,q[index[1]],q[index[0]])\n",
    "    angle1=K[1]*math.pi/p\n",
    "    qc.crz(angle1,q[index[2]],q[index[0]])\n",
    "    angle1=K[0]*math.pi/p\n",
    "    qc.crz(angle1,q[index[3]],q[index[0]])\n",
    "    angle1 = K[3] * math.pi/p\n",
    "    qc.rz(angle1, q[index[0]])"
   ]
  },
  {
   "cell_type": "code",
   "execution_count": 7,
   "id": "cd5c4b34-bffe-429a-aa6d-a472735e11bf",
   "metadata": {},
   "outputs": [],
   "source": [
    "def iteration(x):\n",
    "    global n, p,K,key, qc, index\n",
    "    n=4\n",
    "    hadamardForAll2(n)\n",
    "    qc.barrier()\n",
    "    for i in range(x):\n",
    "        #first=False\n",
    "        OneStep2(K,p)\n",
    "    qc.barrier()\n",
    "    hadamardForAll21(n)\n",
    "    qc.barrier()\n",
    "    for i in range(n):\n",
    "        qc.measure(q[i],c[i])\n",
    "# return qc"
   ]
  },
  {
   "cell_type": "code",
   "execution_count": 10,
   "id": "e13a5ef8-6a4f-4d7e-bb95-56d5182a5836",
   "metadata": {},
   "outputs": [
    {
     "name": "stdout",
     "output_type": "stream",
     "text": [
      "Start\n",
      "Measurement Counts: {34: 0}\n"
     ]
    },
    {
     "name": "stderr",
     "output_type": "stream",
     "text": [
      "/usr/local/lib/python3.11/site-packages/qiskit/visualization/counts_visualization.py:401: UserWarning: Attempting to set identical low and high ylims makes transformation singular; automatically expanding.\n",
      "  ax.set_ylim([min_ylim, min([1.1 * sum(all_vals), max(1.1 * val for val in all_vals)])])\n"
     ]
    },
    {
     "data": {
      "image/png": "[encoded data removed]",
      "text/plain": [
       "<Figure size 700x500 with 1 Axes>"
      ]
     },
     "execution_count": 10,
     "metadata": {},
     "output_type": "execute_result"
    }
   ],
   "source": [
    "from qiskit import QuantumCircuit, transpile\n",
    "from qiskit.providers.fake_provider.backends.cairo import FakeCairoV2\n",
    "from qiskit.visualization import plot_circuit_layout\n",
    "from qiskit.visualization import plot_histogram\n",
    "max_number = 129#4*p+1+14\n",
    "count_p_max = -1\n",
    "count_not_p_max = -1\n",
    "print(\"Start\")\n",
    "index=[0,1,2,3]\n",
    "shotss=100\n",
    "n=4\n",
    "Ks2=[[4, 8, 12, 6]]\n",
    "\n",
    "\n",
    "results = []\n",
    "for K in Ks2:\n",
    "            all_counts = {}\n",
    "            number_of_repetition = 2*17\n",
    "            # for number_of_repetition in range(1,max_number):\n",
    "            q = QuantumRegister(n)\n",
    "            c = ClassicalRegister(n)\n",
    "            qc = QuantumCircuit(q,c)\n",
    "            iteration(number_of_repetition)\n",
    "                \n",
    "                # Step 2: Select the Backend\n",
    "            backend = FakeCairoV2()  # Create a simulated backend with 3 qubits\n",
    "                \n",
    "                # Step 3: Transpile the Circuit\n",
    "            transpiled_circuit = transpile(qc, backend=backend, optimization_level=3)\n",
    "                \n",
    "                # Step 4: Execute the Circuit\n",
    "            job = backend.run(transpiled_circuit, shots=shotss)  # Run the circuit with 1024 shots\n",
    "                \n",
    "                # Step 5: Retrieve and Print Results\n",
    "            result = job.result()\n",
    "            counts = result.get_counts(transpiled_circuit)\n",
    "            try:\n",
    "                all_counts[number_of_repetition] = counts['00000']\n",
    "            except KeyError:\n",
    "                all_counts[number_of_repetition] = 0\n",
    "print(f'Measurement Counts: {all_counts}')\n",
    "plot_histogram(all_counts)\n",
    "#transpiled_circuit.draw(\"mpl\")\n",
    "#plot_circuit_layout(transpiled_circuit, backend)"
   ]
  },
  {
   "cell_type": "code",
   "execution_count": null,
   "id": "c112d601",
   "metadata": {},
   "outputs": [],
   "source": []
  },
  {
   "cell_type": "code",
   "execution_count": null,
   "id": "51a6825d-8135-43ed-8e09-bf1ef419a01b",
   "metadata": {},
   "outputs": [],
   "source": []
  }
 ],
 "metadata": {
  "kernelspec": {
   "display_name": "Python 3 (ipykernel)",
   "language": "python",
   "name": "python3"
  },
  "language_info": {
   "codemirror_mode": {
    "name": "ipython",
    "version": 3
   },
   "file_extension": ".py",
   "mimetype": "text/x-python",
   "name": "python",
   "nbconvert_exporter": "python",
   "pygments_lexer": "ipython3",
   "version": "3.11.6"
  }
 },
 "nbformat": 4,
 "nbformat_minor": 5
}
