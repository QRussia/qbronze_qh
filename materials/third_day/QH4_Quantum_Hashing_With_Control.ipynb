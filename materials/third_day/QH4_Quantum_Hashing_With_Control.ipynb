{
 "cells": [
  {
   "cell_type": "markdown",
   "metadata": {},
   "source": [
    "<a href=\"https://qworld.net\" target=\"_blank\" align=\"left\"><img src=\"../../qworld/images/header.jpg\"  align=\"left\"></a>\n",
    "$ \\newcommand{\\bra}[1]{\\langle #1|} $\n",
    "$ \\newcommand{\\ket}[1]{|#1\\rangle} $\n",
    "$ \\newcommand{\\braket}[2]{\\langle #1|#2\\rangle} $\n",
    "$ \\newcommand{\\dot}[2]{ #1 \\cdot #2} $\n",
    "$ \\newcommand{\\biginner}[2]{\\left\\langle #1,#2\\right\\rangle} $\n",
    "$ \\newcommand{\\mymatrix}[2]{\\left( \\begin{array}{#1} #2\\end{array} \\right)} $\n",
    "$ \\newcommand{\\myvector}[1]{\\mymatrix{c}{#1}} $\n",
    "$ \\newcommand{\\myrvector}[1]{\\mymatrix{r}{#1}} $\n",
    "$ \\newcommand{\\mypar}[1]{\\left( #1 \\right)} $\n",
    "$ \\newcommand{\\mybigpar}[1]{ \\Big( #1 \\Big)} $\n",
    "$ \\newcommand{\\sqrttwo}{\\frac{1}{\\sqrt{2}}} $\n",
    "$ \\newcommand{\\dsqrttwo}{\\dfrac{1}{\\sqrt{2}}} $\n",
    "$ \\newcommand{\\onehalf}{\\frac{1}{2}} $\n",
    "$ \\newcommand{\\donehalf}{\\dfrac{1}{2}} $\n",
    "$ \\newcommand{\\hadamard}{ \\mymatrix{rr}{ \\sqrttwo & \\sqrttwo \\\\ \\sqrttwo & -\\sqrttwo }} $\n",
    "$ \\newcommand{\\vzero}{\\myvector{1\\\\0}} $\n",
    "$ \\newcommand{\\vone}{\\myvector{0\\\\1}} $\n",
    "$ \\newcommand{\\stateplus}{\\myvector{ \\sqrttwo \\\\  \\sqrttwo } } $\n",
    "$ \\newcommand{\\stateminus}{ \\myrvector{ \\sqrttwo \\\\ -\\sqrttwo } } $\n",
    "$ \\newcommand{\\myarray}[2]{ \\begin{array}{#1}#2\\end{array}} $\n",
    "$ \\newcommand{\\X}{ \\mymatrix{cc}{0 & 1 \\\\ 1 & 0}  } $\n",
    "$ \\newcommand{\\I}{ \\mymatrix{rr}{1 & 0 \\\\ 0 & 1}  } $\n",
    "$ \\newcommand{\\Z}{ \\mymatrix{rr}{1 & 0 \\\\ 0 & -1}  } $\n",
    "$ \\newcommand{\\Htwo}{ \\mymatrix{rrrr}{ \\frac{1}{2} & \\frac{1}{2} & \\frac{1}{2} & \\frac{1}{2} \\\\ \\frac{1}{2} & -\\frac{1}{2} & \\frac{1}{2} & -\\frac{1}{2} \\\\ \\frac{1}{2} & \\frac{1}{2} & -\\frac{1}{2} & -\\frac{1}{2} \\\\ \\frac{1}{2} & -\\frac{1}{2} & -\\frac{1}{2} & \\frac{1}{2} } } $\n",
    "$ \\newcommand{\\CNOT}{ \\mymatrix{cccc}{1 & 0 & 0 & 0 \\\\ 0 & 1 & 0 & 0 \\\\ 0 & 0 & 0 & 1 \\\\ 0 & 0 & 1 & 0} } $\n",
    "$ \\newcommand{\\norm}[1]{ \\left\\lVert #1 \\right\\rVert } $\n",
    "$ \\newcommand{\\pstate}[1]{ \\lceil \\mspace{-1mu} #1 \\mspace{-1.5mu} \\rfloor } $\n",
    "$ \\newcommand{\\greenbit}[1] {\\mathbf{{\\color{green}#1}}} $\n",
    "$ \\newcommand{\\bluebit}[1] {\\mathbf{{\\color{blue}#1}}} $\n",
    "$ \\newcommand{\\redbit}[1] {\\mathbf{{\\color{red}#1}}} $\n",
    "$ \\newcommand{\\brownbit}[1] {\\mathbf{{\\color{brown}#1}}} $\n",
    "$ \\newcommand{\\blackbit}[1] {\\mathbf{{\\color{black}#1}}} $"
   ]
  },
  {
   "cell_type": "markdown",
   "metadata": {},
   "source": [
    "<font style=\"font-size:28px;\" align=\"left\"><b> Хеширование с помощью $log(n) + 1$ кубитов и реализация хеширования сокращенной схемой </b></font>\n",
    "<br>\n",
    "_подготовлено QRussia_\n",
    "<br><br>"
   ]
  },
  {
   "cell_type": "markdown",
   "metadata": {
    "vscode": {
     "languageId": "plaintext"
    }
   },
   "source": [
    "### Хеширование с помощью $log(n) + 1$ кубитов"
   ]
  },
  {
   "cell_type": "markdown",
   "metadata": {},
   "source": [
    "Как можно улучшить точность алгоритма из [предыдущего ноутбука](../third_day/QH3_Quantum_Hashing_Ind_Qubits.ipynb)? Очевидно, что необходимо увеличить число кубитов: чем больше кубитов, тем лучше.\n",
    "\n",
    "Что можно сделать, чтобы число кубитов было \"относительно\" небольшим? Правильно, использовать квантовую запутанность!\n",
    "В этом случае вместо $n$ кубитов нам будет достаточно $log(n) + 1$ кубитов: будем вращать последний кубит на разные углы, используя первые $log(n)$ кубитов в качестве контролирующих.\n",
    "\n",
    "Вспомним оператор $CNOT$: при применении этого оператора, оператор NOT (отрицание) применяется к целевому кубиту только тогда, когда контролирующий кубит находится в состоянии $\\ket{1}$:\n",
    "\n",
    "$$\n",
    "CNOT= \\mymatrix{cc|cc}{\\blackbit{1} & 0 & 0 & 0 \\\\ 0  & \\blackbit{1} & 0 & 0 \\\\ \\hline 0 & 0 & 0 & \\bluebit{1} \\\\  0 & 0 & \\bluebit{1} & 0} . \n",
    "$$\n",
    "\n",
    "В данном случае мы также будем использовать контролирующие операторы (повороты), но уже для большего числа кубитов. В общем виде схема выглядит следующим образом:\n",
    "\n",
    "<p align=\"center\">\n",
    "    <img src=\"../images/qh_full.jpg\" width=\"800\">\n",
    "</p>\n",
    "\n",
    "где угол поворота $\\theta_i = \\frac{2\\pi k_i}{p}$.\n",
    "\n",
    "Рассмотрим, как выглядит схема, на примере $n = 4$. В этом случае нам достаточно $3$ кубитов:\n",
    "\n",
    "<p align=\"center\">\n",
    "    <img src=\"../images/qh_circuit.jpg\" width=\"800\">\n",
    "</p>\n",
    "\n",
    "где угол поворота $\\theta_i = \\frac{2\\pi k_i}{p}$."
   ]
  },
  {
   "cell_type": "markdown",
   "metadata": {},
   "source": [
    "### Реализация c помощью сокращенной схемой"
   ]
  },
  {
   "cell_type": "markdown",
   "metadata": {
    "vscode": {
     "languageId": "plaintext"
    }
   },
   "source": [
    "Рассматренная выше схема достаточно сложна для реализации: в ней много многокубитных контролируемых поворотов.\n",
    "\n",
    "Каким образом можно её упростить? Заменить сложные многокубитные контролируемые повороты (вспомним, например, $CCCNOT$ из предыдущих ноутбуков) на более простые операторы. Чем нам придется за это заплатить? Увеличением числа кубитов. Однако, на практике не всё так плохо: численные эксперименты показывают, что несмотря на замену сложных операторов на простые, число кубитов остается всё также небольшим.\n",
    "\n",
    "На что меняются сложные многокубитные контролируемые повороты? Мы их заменим на двухкубитные контролируемые повороты.\n",
    "\n",
    "Почему в такой упрощённой схеме увеличивается число кубитов? Потому, что нам приходится перевычислять углы поворота: они теперь являются всевозможными линейными комбинациями исходных углов.\n",
    "\n",
    "Схема выглядит следующим образом:\n",
    "\n",
    "<p align=\"center\">\n",
    "    <img src=\"../images/qh_shallow_circuit.jpg\" width=\"1000\">\n",
    "</p>\n",
    "\n",
    "### Задача 1\n",
    "\n",
    "Реализуйте схему для формирования квантового хеша, используя сокращённую схему.\n",
    "В качестве параметров схемы заданы следующие величины: $4$ кубита, $p = 17, k=[4, 8, 12, 6]$.\n",
    "\n",
    "[решение тут](qhash_4.ipynb#task3)"
   ]
  },
  {
   "cell_type": "code",
   "execution_count": null,
   "metadata": {},
   "outputs": [],
   "source": [
    "from math import pi\n",
    "from qiskit import QuantumRegister, ClassicalRegister, QuantumCircuit\n",
    "import math\n",
    "\n",
    "p=17  \n",
    "n=4\n",
    "K=[4, 8, 12, 6]\n",
    "\n",
    "q = QuantumRegister(n)\n",
    "c = ClassicalRegister(n)\n",
    "qc = QuantumCircuit(q,c)\n",
    "\n",
    "# Ваше решение тут"
   ]
  }
 ],
 "metadata": {
  "kernelspec": {
   "display_name": "Python 3 (ipykernel)",
   "language": "python",
   "name": "python3"
  },
  "language_info": {
   "codemirror_mode": {
    "name": "ipython",
    "version": 3
   },
   "file_extension": ".py",
   "mimetype": "text/x-python",
   "name": "python",
   "nbconvert_exporter": "python",
   "pygments_lexer": "ipython3",
   "version": "3.12.7"
  }
 },
 "nbformat": 4,
 "nbformat_minor": 4
}
