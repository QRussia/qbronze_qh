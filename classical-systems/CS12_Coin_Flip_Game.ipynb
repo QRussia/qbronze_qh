{
 "cells": [
  {
   "cell_type": "markdown",
   "metadata": {},
   "source": [
    "<a href=\"https://qworld.net\" target=\"_blank\" align=\"left\"><img src=\"../qworld/images/header.jpg\"  align=\"left\"></a>\n",
    "$ \\newcommand{\\bra}[1]{\\langle #1|} $\n",
    "$ \\newcommand{\\ket}[1]{|#1\\rangle} $\n",
    "$ \\newcommand{\\braket}[2]{\\langle #1|#2\\rangle} $\n",
    "$ \\newcommand{\\dot}[2]{ #1 \\cdot #2} $\n",
    "$ \\newcommand{\\biginner}[2]{\\left\\langle #1,#2\\right\\rangle} $\n",
    "$ \\newcommand{\\mymatrix}[2]{\\left( \\begin{array}{#1} #2\\end{array} \\right)} $\n",
    "$ \\newcommand{\\myvector}[1]{\\mymatrix{c}{#1}} $\n",
    "$ \\newcommand{\\myrvector}[1]{\\mymatrix{r}{#1}} $\n",
    "$ \\newcommand{\\mypar}[1]{\\left( #1 \\right)} $\n",
    "$ \\newcommand{\\mybigpar}[1]{ \\Big( #1 \\Big)} $\n",
    "$ \\newcommand{\\sqrttwo}{\\frac{1}{\\sqrt{2}}} $\n",
    "$ \\newcommand{\\dsqrttwo}{\\dfrac{1}{\\sqrt{2}}} $\n",
    "$ \\newcommand{\\onehalf}{\\frac{1}{2}} $\n",
    "$ \\newcommand{\\donehalf}{\\dfrac{1}{2}} $\n",
    "$ \\newcommand{\\hadamard}{ \\mymatrix{rr}{ \\sqrttwo & \\sqrttwo \\\\ \\sqrttwo & -\\sqrttwo }} $\n",
    "$ \\newcommand{\\vzero}{\\myvector{1\\\\0}} $\n",
    "$ \\newcommand{\\vone}{\\myvector{0\\\\1}} $\n",
    "$ \\newcommand{\\stateplus}{\\myvector{ \\sqrttwo \\\\  \\sqrttwo } } $\n",
    "$ \\newcommand{\\stateminus}{ \\myrvector{ \\sqrttwo \\\\ -\\sqrttwo } } $\n",
    "$ \\newcommand{\\myarray}[2]{ \\begin{array}{#1}#2\\end{array}} $\n",
    "$ \\newcommand{\\X}{ \\mymatrix{cc}{0 & 1 \\\\ 1 & 0}  } $\n",
    "$ \\newcommand{\\I}{ \\mymatrix{rr}{1 & 0 \\\\ 0 & 1}  } $\n",
    "$ \\newcommand{\\Z}{ \\mymatrix{rr}{1 & 0 \\\\ 0 & -1}  } $\n",
    "$ \\newcommand{\\Htwo}{ \\mymatrix{rrrr}{ \\frac{1}{2} & \\frac{1}{2} & \\frac{1}{2} & \\frac{1}{2} \\\\ \\frac{1}{2} & -\\frac{1}{2} & \\frac{1}{2} & -\\frac{1}{2} \\\\ \\frac{1}{2} & \\frac{1}{2} & -\\frac{1}{2} & -\\frac{1}{2} \\\\ \\frac{1}{2} & -\\frac{1}{2} & -\\frac{1}{2} & \\frac{1}{2} } } $\n",
    "$ \\newcommand{\\CNOT}{ \\mymatrix{cccc}{1 & 0 & 0 & 0 \\\\ 0 & 1 & 0 & 0 \\\\ 0 & 0 & 0 & 1 \\\\ 0 & 0 & 1 & 0} } $\n",
    "$ \\newcommand{\\norm}[1]{ \\left\\lVert #1 \\right\\rVert } $\n",
    "$ \\newcommand{\\pstate}[1]{ \\lceil \\mspace{-1mu} #1 \\mspace{-1.5mu} \\rfloor } $\n",
    "$ \\newcommand{\\greenbit}[1] {\\mathbf{{\\color{green}#1}}} $\n",
    "$ \\newcommand{\\bluebit}[1] {\\mathbf{{\\color{blue}#1}}} $\n",
    "$ \\newcommand{\\redbit}[1] {\\mathbf{{\\color{red}#1}}} $\n",
    "$ \\newcommand{\\brownbit}[1] {\\mathbf{{\\color{brown}#1}}} $\n",
    "$ \\newcommand{\\blackbit}[1] {\\mathbf{{\\color{black}#1}}} $"
   ]
  },
  {
   "cell_type": "markdown",
   "metadata": {},
   "source": [
    "<font style=\"font-size:28px;\" align=\"left\"><b> Игра с двумя предвзятыми монетами  </b></font>\n",
    "<br>\n",
    "_prepared by Abuzer Yakaryilmaz_\n",
    "<br>\n",
    "_перевод QRussia_\n",
    "<br><br>\n",
    "[<img src=\"../qworld/images/watch_lecture.jpg\" align=\"left\">](https://youtu.be/k0OJvv7AAgU)\n",
    "<br><br><br>"
   ]
  },
  {
   "cell_type": "markdown",
   "metadata": {},
   "source": [
    "## Вероятностные биты\n",
    "\n",
    "Мы начнем с краткого ознакомления с вероятностными битами, чтобы разобраться в деталях игры, приведенной ниже.\n",
    "\n",
    "Предположим, что у нас есть монета, выпавшая с вероятностью $ 0.3 $, и она подбрасывается один раз, но мы не видим результата.\n",
    "\n",
    "Несмотря на то, что выпадает либо орел, либо решка, наша информация о результате является вероятностной: это орел с вероятностью $ 0.3 $ и решка с вероятностью $ 0.7 $. \n",
    "\n",
    "Если рассматривать эту монету как систему с двумя состояниями (орел и решка: соответственно, состояния 0 и 1), то можно сказать, что после одной итерации она находится в состояниях 0 и 1 с вероятностями 0,3 и 0,7 соответственно.\n",
    "\n",
    "В общем, вероятностный бит находится в состояниях 0 и 1 с вероятностями $ p $ и $ 1-p $, где $ p $ - число между 0 и 1. Отметим, что если $  p=1 $ или $ p=0 $, то бит является детерминированным.\n",
    "\n",
    "Если вышеупомянутая монета со смещением будет брошена еще раз, то вероятности выпадения орла и решки (или нахождения в состояниях 0 и 1) останутся прежними. В следующей игре, используя две монеты со смещением, мы сможем получить разные вероятности для состояний 0 и 1. Эта игра - наш первый шаг к определению вероятностного оператора для вероятностных битов."
   ]
  },
  {
   "cell_type": "markdown",
   "metadata": {},
   "source": [
    "## Игра"
   ]
  },
  {
   "cell_type": "markdown",
   "metadata": {},
   "source": [
    "У Аси есть две монеты - один евро и один цент. \n",
    "\n",
    "Обе монеты являются предвзятыми и вероятности получения орла и решки следующие:\n",
    "<ul>\n",
    "    <li> 1 евро: орел с вероятностью $ 0.6 $ и решка с вероятностью $ 0.4 $. </li>\n",
    "    <li> 1 цент: орел с вероятностью $ 0.3 $ и решка с вероятностью $ 0.7 $. </li>\n",
    "</ul>\n",
    "\n",
    "Ася бросает свои монеты, основываясь на следующем <b>протоколе</b>: \n",
    "<ol> \n",
    "    <li> при получении орла, она бросает монету в 1 евро; </li>\n",
    "    <li> при получении решки, она бросает монету в 1 цент; </li>\n",
    "    <li> начинает она с броска монеты в 1 евро (предполагаем, что в нулевом шаге был орел) [*]. </li>\n",
    "</ol>\n",
    "\n",
    "Используя один бит, мы можем описать все возможные исходы игры так:\n",
    "\n",
    "$\n",
    "GameCoins = \\begin{array}{c|cc} \\hookleftarrow & \\mathbf{Head} & \\mathbf{Tail} \\\\ \\hline \\mathbf{Head} & 0.6 & 0.3\\\\  \\mathbf{Tail} & 0.4 & 0.7  \\end{array} = \\begin{array}{c|cc} \\hookleftarrow & \\mathbf{0} & \\mathbf{1} \\\\ \\hline \\mathbf{0} & 0.6 & 0.3 \\\\  \\mathbf{1} & 0.4 & 0.7  \\end{array}\n",
    "$\n",
    "\n",
    "[*] Мы должны выбрать начальное условие. В противном случае Ася не сможет начать игру."
   ]
  },
  {
   "cell_type": "markdown",
   "metadata": {},
   "source": [
    "<h3>Task 1: Проверьте себя </h3>\n",
    "\n",
    "Проверьте корректность переходов, изображенных в таблице.\n",
    "\n",
    "<i> Отметим, что нет разницы между орлом, полученным при бросании монеты в 1 евро, и орлом, полученным при бросании монеты в 1 цент.\n",
    "    \n",
    "Таким образом, одного бита достаточно для представления всех переходов.\n",
    "</i>"
   ]
  },
  {
   "cell_type": "markdown",
   "metadata": {},
   "source": [
    "<h3> Взгляд на тройной бросок монеты Асей </h3>\n",
    "\n",
    "Предположим, что Ася <b>тайно</b> бросает свои монеты, основываясь на определенном протоколе.\n",
    "\n",
    "Используя python, мы можем вычислить вероятности получения Асей орла и решки после трех бросков.\n",
    "\n",
    "<i><b>Примечание:</b> В задачах предыдущего ноутбука [Coin Flipping](B06_Coin_Flip.ipynb), идеальное соотношение легко вычислить. Кроме того, мы проводим наши эксперименты и после сравнивим наши результаты с идеальным соотношением. \n",
    "\n",
    "Тут мы вычислим точные вероятности (идеальное соотношение) используя python. (Не будем проводить эксперимент.)\n",
    "</i>\n",
    "\n",
    "Представим наше решение пошагово."
   ]
  },
  {
   "cell_type": "code",
   "execution_count": null,
   "metadata": {},
   "outputs": [],
   "source": [
    "#\n",
    "# OUR SOLUTION\n",
    "#\n",
    "\n",
    "# initial condition:\n",
    "# Asja will start with one euro,\n",
    "#    and so, we assume that the probability of having head is 1 at the beginning.\n",
    "prob_head = 1\n",
    "prob_tail = 0\n",
    "\n",
    "\n",
    "#\n",
    "# first coin-flip\n",
    "#\n",
    "\n",
    "# the new probability of head is calculated by using the first row of table\n",
    "new_prob_head = prob_head * 0.6 + prob_tail * 0.3\n",
    "\n",
    "# the new probability of tail is calculated by using the second row of the table\n",
    "new_prob_tail = prob_head * 0.4 + prob_tail * 0.7\n",
    "\n",
    "# update the probabilities for the second round\n",
    "prob_head = new_prob_head\n",
    "prob_tail = new_prob_tail\n",
    "\n",
    "#\n",
    "# second coin-flip\n",
    "#\n",
    "# we do the same calculations\n",
    "\n",
    "new_prob_head = prob_head * 0.6 + prob_tail * 0.3\n",
    "new_prob_tail = prob_head * 0.4 + prob_tail * 0.7\n",
    "\n",
    "prob_head = new_prob_head\n",
    "prob_tail = new_prob_tail\n",
    "\n",
    "#\n",
    "# third coin-flip\n",
    "#\n",
    "# we do the same calculations\n",
    "\n",
    "new_prob_head = prob_head * 0.6 + prob_tail * 0.3\n",
    "new_prob_tail = prob_head * 0.4 + prob_tail * 0.7\n",
    "\n",
    "prob_head = new_prob_head\n",
    "prob_tail = new_prob_tail\n",
    "\n",
    "# print prob_head and prob_tail\n",
    "print(\"the probability of getting head after 3 coin tosses is\",prob_head)\n",
    "print(\"the probability of getting tail after 3 coin tosses is\",prob_tail)"
   ]
  },
  {
   "cell_type": "markdown",
   "metadata": {},
   "source": [
    "<h3> Task 2: Десять бросков предвзятых монет </h3>\n",
    "\n",
    "Используя python, вычислите вероятности получения Асей орла и решки после 10 бросков.\n",
    "\n",
    "$\n",
    "GameCoins = \\begin{array}{c|cc} \\hookleftarrow & \\mathbf{Head} & \\mathbf{Tail} \\\\ \\hline \\mathbf{Head} & 0.6 & 0.3\\\\  \\mathbf{Tail} & 0.4 & 0.7  \\end{array} = \\begin{array}{c|cc} \\hookleftarrow & \\mathbf{0} & \\mathbf{1} \\\\ \\hline \\mathbf{0} & 0.6 & 0.3 \\\\  \\mathbf{1} & 0.4 & 0.7  \\end{array}\n",
    "$\n",
    "\n",
    "Используйте операторы цикла для нахождения решения."
   ]
  },
  {
   "cell_type": "code",
   "execution_count": null,
   "metadata": {},
   "outputs": [],
   "source": [
    "#\n",
    "# your solution is here\n",
    "#\n"
   ]
  },
  {
   "cell_type": "markdown",
   "metadata": {},
   "source": [
    "<a href=\"CS12_Coin_Flip_Game_Solutions.ipynb#task2\">click for our solution</a>"
   ]
  },
  {
   "cell_type": "markdown",
   "metadata": {},
   "source": [
    "<h3> Task 3</h3>\n",
    "\n",
    "Повторите Task 2 для 20, 30 и 50 бросков."
   ]
  },
  {
   "cell_type": "code",
   "execution_count": null,
   "metadata": {},
   "outputs": [],
   "source": [
    "#\n",
    "# your solution is here\n",
    "#\n"
   ]
  },
  {
   "cell_type": "markdown",
   "metadata": {},
   "source": [
    "<a href=\"CS12_Coin_Flip_Game_Solutions.ipynb#task3\">click for our solution</a>"
   ]
  },
  {
   "cell_type": "markdown",
   "metadata": {},
   "source": [
    "<h3> Task 4</h3>\n",
    "\n",
    "Повторите Task 2 для 20, 30 и 50 бросков, используя разные начальные условия, т.е., \n",
    "    \n",
    "    prob_head = prob_tail = 1/2\n",
    "или\n",
    "    \n",
    "    prob_head = 0 \n",
    "    prob_tail = 1"
   ]
  },
  {
   "cell_type": "code",
   "execution_count": null,
   "metadata": {},
   "outputs": [],
   "source": [
    "#\n",
    "# your solution is here\n",
    "#\n"
   ]
  },
  {
   "cell_type": "markdown",
   "metadata": {},
   "source": [
    "<a href=\"CS12_Coin_Flip_Game_Solutions.ipynb#task4\">click for our solution</a>"
   ]
  },
  {
   "cell_type": "markdown",
   "metadata": {},
   "source": [
    "<hr>"
   ]
  },
  {
   "cell_type": "markdown",
   "metadata": {},
   "source": [
    "<h3> Произвольные переходы в GameCoins [extra]</h3>\n",
    "\n",
    "Меняя значение предвзятости для каждой монеты Аси, мы можем определить произвольный GameCoins.\n",
    "\n",
    "Если $ a $ - вероятность получения орла для одного евро и $ b $ - вероятность получения орла для одного цента, тогда мы имеем следующие переходы:\n",
    "\n",
    "$\n",
    "GameCoins(a,b) = \\begin{array}{c|cc} \\hookleftarrow & \\mathbf{Head} & \\mathbf{Tail} \\\\ \\hline \\mathbf{Head} & a & b\\\\  \\mathbf{Tail} & 1-a & 1-b  \\end{array} = \\begin{array}{c|cc} \\hookleftarrow & \\mathbf{0} & \\mathbf{1} \\\\ \\hline \\mathbf{0} & a & b \\\\  \\mathbf{1} & 1-a & 1-b  \\end{array}\n",
    "$"
   ]
  },
  {
   "cell_type": "markdown",
   "metadata": {},
   "source": [
    "<h3> Task 5 </h3>\n",
    "\n",
    "Обратите внимание, что если $ a=1 $ и $ b = 0 $, тогда это оператор Тождественности (Identity), который не меняет первоначальное состояние.\n",
    "\n",
    "Если $ a=0 $ и $ b=1 $, тогда это оператор Отрицания (NOT). Оператор Отрицания меняет местами вероятности орла и решки. Если начальные вероятности не $ 0.5 $ и $ 0.5 $, то система никогда не сходится к фиксированным вероятностям."
   ]
  },
  {
   "cell_type": "code",
   "execution_count": null,
   "metadata": {},
   "outputs": [],
   "source": [
    "#\n",
    "# your solution is here\n",
    "#\n"
   ]
  },
  {
   "cell_type": "markdown",
   "metadata": {},
   "source": [
    "<h3> Task 6</h3>\n",
    "\n",
    "Произвольно выберите значения $ a $ и $ b $, далее реализуйте задачи 3 и 4 для $ GameCoins(a,b) $."
   ]
  },
  {
   "cell_type": "code",
   "execution_count": null,
   "metadata": {},
   "outputs": [],
   "source": [
    "#\n",
    "# your solution is here\n",
    "#\n"
   ]
  },
  {
   "cell_type": "markdown",
   "metadata": {},
   "source": [
    "<h3> Task 7</h3>\n",
    "\n",
    "10 раз повторите Task 6 и пронаблюдайте, сходится ли система при каждой итерации."
   ]
  },
  {
   "cell_type": "code",
   "execution_count": null,
   "metadata": {},
   "outputs": [],
   "source": [
    "#\n",
    "# your solution is here\n",
    "#\n"
   ]
  },
  {
   "cell_type": "markdown",
   "metadata": {},
   "source": [
    "<h3>Task 8</h3>\n",
    "\n",
    "Мы можем переписать произвольный GameCoins так \n",
    "\n",
    "$  \\begin{array}{c|cc} \\hookleftarrow & \\mathbf{Head} & \\mathbf{Tail} \\\\ \\hline \\mathbf{Head} & 1-y & x\\\\  \\mathbf{Tail} & y & 1-x  \\end{array} = \\begin{array}{c|cc} \\hookleftarrow & \\mathbf{0} & \\mathbf{1} \\\\ \\hline \\mathbf{0} & 1-y & x \\\\  \\mathbf{1} & y & 1-x  \\end{array}.\n",
    "$ \n",
    "\n",
    "Мы предполагаем, что We это ни оператор Тождественности, ни оператор Отрицания. Тогда, независимо от начального состояния, система всегда будет сходиться к \n",
    "\n",
    "$ Pr[\\mbox{\"head\"}] = \\dfrac{x}{x+y} $ and $ Pr[\\mbox{\"tail\"}]=\\dfrac{y}{x+y} $ \n",
    "\n",
    "как вероятности выпадения орла и решки соосветственно.\n",
    "\n",
    "Обратите внимание на этот факт при проверке результатов Задачи 7."
   ]
  },
  {
   "cell_type": "code",
   "execution_count": null,
   "metadata": {},
   "outputs": [],
   "source": [
    "#\n",
    "# your solution is here\n",
    "#\n"
   ]
  }
 ],
 "metadata": {
  "kernelspec": {
   "display_name": "Python 3 (ipykernel)",
   "language": "python",
   "name": "python3"
  },
  "language_info": {
   "codemirror_mode": {
    "name": "ipython",
    "version": 3
   },
   "file_extension": ".py",
   "mimetype": "text/x-python",
   "name": "python",
   "nbconvert_exporter": "python",
   "pygments_lexer": "ipython3",
   "version": "3.11.6"
  }
 },
 "nbformat": 4,
 "nbformat_minor": 4
}
