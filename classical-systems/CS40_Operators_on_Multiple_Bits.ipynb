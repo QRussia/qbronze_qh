{
 "cells": [
  {
   "cell_type": "markdown",
   "metadata": {},
   "source": [
    "<a href=\"https://qworld.net\" target=\"_blank\" align=\"left\"><img src=\"../qworld/images/header.jpg\"  align=\"left\"></a>\n",
    "$ \\newcommand{\\bra}[1]{\\langle #1|} $\n",
    "$ \\newcommand{\\ket}[1]{|#1\\rangle} $\n",
    "$ \\newcommand{\\braket}[2]{\\langle #1|#2\\rangle} $\n",
    "$ \\newcommand{\\dot}[2]{ #1 \\cdot #2} $\n",
    "$ \\newcommand{\\biginner}[2]{\\left\\langle #1,#2\\right\\rangle} $\n",
    "$ \\newcommand{\\mymatrix}[2]{\\left( \\begin{array}{#1} #2\\end{array} \\right)} $\n",
    "$ \\newcommand{\\myvector}[1]{\\mymatrix{c}{#1}} $\n",
    "$ \\newcommand{\\myrvector}[1]{\\mymatrix{r}{#1}} $\n",
    "$ \\newcommand{\\mypar}[1]{\\left( #1 \\right)} $\n",
    "$ \\newcommand{\\mybigpar}[1]{ \\Big( #1 \\Big)} $\n",
    "$ \\newcommand{\\sqrttwo}{\\frac{1}{\\sqrt{2}}} $\n",
    "$ \\newcommand{\\dsqrttwo}{\\dfrac{1}{\\sqrt{2}}} $\n",
    "$ \\newcommand{\\onehalf}{\\frac{1}{2}} $\n",
    "$ \\newcommand{\\donehalf}{\\dfrac{1}{2}} $\n",
    "$ \\newcommand{\\hadamard}{ \\mymatrix{rr}{ \\sqrttwo & \\sqrttwo \\\\ \\sqrttwo & -\\sqrttwo }} $\n",
    "$ \\newcommand{\\vzero}{\\myvector{1\\\\0}} $\n",
    "$ \\newcommand{\\vone}{\\myvector{0\\\\1}} $\n",
    "$ \\newcommand{\\stateplus}{\\myvector{ \\sqrttwo \\\\  \\sqrttwo } } $\n",
    "$ \\newcommand{\\stateminus}{ \\myrvector{ \\sqrttwo \\\\ -\\sqrttwo } } $\n",
    "$ \\newcommand{\\myarray}[2]{ \\begin{array}{#1}#2\\end{array}} $\n",
    "$ \\newcommand{\\X}{ \\mymatrix{cc}{0 & 1 \\\\ 1 & 0}  } $\n",
    "$ \\newcommand{\\I}{ \\mymatrix{rr}{1 & 0 \\\\ 0 & 1}  } $\n",
    "$ \\newcommand{\\Z}{ \\mymatrix{rr}{1 & 0 \\\\ 0 & -1}  } $\n",
    "$ \\newcommand{\\Htwo}{ \\mymatrix{rrrr}{ \\frac{1}{2} & \\frac{1}{2} & \\frac{1}{2} & \\frac{1}{2} \\\\ \\frac{1}{2} & -\\frac{1}{2} & \\frac{1}{2} & -\\frac{1}{2} \\\\ \\frac{1}{2} & \\frac{1}{2} & -\\frac{1}{2} & -\\frac{1}{2} \\\\ \\frac{1}{2} & -\\frac{1}{2} & -\\frac{1}{2} & \\frac{1}{2} } } $\n",
    "$ \\newcommand{\\CNOT}{ \\mymatrix{cccc}{1 & 0 & 0 & 0 \\\\ 0 & 1 & 0 & 0 \\\\ 0 & 0 & 0 & 1 \\\\ 0 & 0 & 1 & 0} } $\n",
    "$ \\newcommand{\\norm}[1]{ \\left\\lVert #1 \\right\\rVert } $\n",
    "$ \\newcommand{\\pstate}[1]{ \\lceil \\mspace{-1mu} #1 \\mspace{-1.5mu} \\rfloor } $\n",
    "$ \\newcommand{\\greenbit}[1] {\\mathbf{{\\color{green}#1}}} $\n",
    "$ \\newcommand{\\bluebit}[1] {\\mathbf{{\\color{blue}#1}}} $\n",
    "$ \\newcommand{\\redbit}[1] {\\mathbf{{\\color{red}#1}}} $\n",
    "$ \\newcommand{\\brownbit}[1] {\\mathbf{{\\color{brown}#1}}} $\n",
    "$ \\newcommand{\\blackbit}[1] {\\mathbf{{\\color{black}#1}}} $"
   ]
  },
  {
   "cell_type": "markdown",
   "metadata": {},
   "source": [
    "<font style=\"font-size:28px;\" align=\"left\"><b> Операторы на нескольких битах </b></font>\n",
    "<br>\n",
    "_prepared by Abuzer Yakaryilmaz_\n",
    "<br>\n",
    "_перевод QRussia_\n",
    "<br><br>\n",
    "[<img src=\"../qworld/images/watch_lecture.jpg\" align=\"left\">](https://youtu.be/vd21d1KTC5c)\n",
    "<br><br><br>"
   ]
  },
  {
   "cell_type": "markdown",
   "metadata": {},
   "source": [
    "Мы объясняем, как создать оператор cоставной системы, когда мы применяем оператор к одному биту или нескольким битам составной системы.\n",
    "\n",
    "*Здесь у нас есть простое правило: мы предполагаем, что единичный оператор (оператор тождественности) применяется к остальным битам.*"
   ]
  },
  {
   "cell_type": "markdown",
   "metadata": {},
   "source": [
    "### Однобитные операторы"
   ]
  },
  {
   "cell_type": "markdown",
   "metadata": {},
   "source": [
    "Когда у нас есть два бита, тогда система имеет четыре состояния и любой оператор системы может быть определен как матрица размером $ (4 \\times 4) $.\n",
    "\n",
    "Например, если мы применяем вероятностный оператор $ M =  \\mymatrix{c}{ 0.3 & 0.6 \\\\ 0.7 & 0.4  } $ ко второму биту, тогда как же представить соответствующую $ (4 \\times 4) $ матрицу?\n",
    "\n",
    "Так как мы хотим применить оператор $ M $ ко второму биту и при этом первый бит оставить неизменным, мы пишем матрицу $4 \\times 4$ как тензорное произведение единичного оператора и матрицы M:\n",
    "\n",
    "$ I \\otimes M = \\I \\otimes  \\mymatrix{c}{ 0.3 & 0.6 \\\\ 0.7 & 0.4  } = \\mymatrix{cccc} { 0.3 & 0.6 & 0 & 0 \\\\ 0.7 & 0.4 & 0 & 0 \\\\ 0 & 0 & 0.3 & 0.6 \\\\ 0 & 0& 0.7 & 0.4 }.  $\n",
    "\n",
    "В таком случае единичный оператор и оператор M применятся к первому и второму биту соответственно."
   ]
  },
  {
   "cell_type": "markdown",
   "metadata": {},
   "source": [
    "<h3> Task 1</h3>\n",
    "\n",
    "У есть нас два бита. Каково матричное представление $ (4 \\times 4) $ составного вероятностного оператора, если оператор $ M = \\mymatrix{c}{ 0.2 & 0.7 \\\\ 0.8 & 0.3  } $ нужно применить к первому биту?"
   ]
  },
  {
   "cell_type": "markdown",
   "metadata": {},
   "source": [
    "<a href=\"CS40_Operators_on_Multiple_Bits_Solutions.ipynb#task1\">click for our solution</a>"
   ]
  },
  {
   "cell_type": "markdown",
   "metadata": {},
   "source": [
    "<h3> Task 2</h3>\n",
    "\n",
    "У есть нас три бита. Каково матричное представление $ (8 \\times 8) $ составного вероятностного оператора, если оператор $ M =  \\mymatrix{c}{ 0.9 & 0.4 \\\\ 0.1 & 0.6  } $ нужно применить ко второму биту?"
   ]
  },
  {
   "cell_type": "markdown",
   "metadata": {},
   "source": [
    "<a href=\"CS40_Operators_on_Multiple_Bits_Solutions.ipynb#task2\">click for our solution</a>"
   ]
  },
  {
   "cell_type": "markdown",
   "metadata": {},
   "source": [
    "### Двухбитные операторы"
   ]
  },
  {
   "cell_type": "markdown",
   "metadata": {},
   "source": [
    "Начнем с простого примера. \n",
    "\n",
    "У нас есть три бита и мы применяем вероятностный оператор \n",
    "$ M = \\mymatrix{rrrr}{0.05 & 0 & 0.70 & 0.60 \\\\ 0.45 & 0.50 & 0.20 & 0.25 \\\\ 0.20 & 0.35 & 0.10 & 0 \\\\ 0.30 & 0.15 & 0 & 0.15 } $ к первому и второму битам. Тогда соответствующая $ (8 \\times 8) $ матрица будет такой: $ M \\otimes I $, где $I$ - единичная матрица $(2 \\times 2)$.\n",
    "\n",
    "Если $ M $ применена ко второму и третьему битам, тогда соответствующая матрица - $ I \\otimes M $."
   ]
  },
  {
   "cell_type": "markdown",
   "metadata": {},
   "source": [
    "**Что если $ M $ применить к первому и третьему битам?**\n",
    "\n",
    "Мы выбираем пример перехода: он приведен в $ M $ that $ \\greenbit{0} \\brownbit{1}  \\xrightarrow{0.35} \\greenbit{1} \\brownbit{0}  $.  \n",
    "- То есть, когда первый бит равен 0, а третий бит равен 1, первый бит устанавливается равным 1, а третий бит устанавливается равным 0 с вероятностью 0,35:\n",
    "\n",
    "$$ \\myarray{ccccc}{\\mbox{first-bit} & \\mbox{third-bit} & probability & \\mbox{first-bit} & \\mbox{third-bit} \\\\ \\greenbit{0} & \\brownbit{1} & \\xrightarrow{0.35} & \\greenbit{1} & \\brownbit{0} }  $$\n",
    "\n",
    "- Мы помещаем второй бит на изображении, предполагая, что к нему применен оператор тождественности (Identity):\n",
    "\n",
    "$$ \n",
    "\\myarray{ccccccc}{\n",
    "\\mbox{first-bit} & \\mbox{second-bit} & \\mbox{third-bit} & probability & \\mbox{first-bit} & \\mbox{second-bit} & \\mbox{third-bit} \\\\ \n",
    "\\greenbit{0} & \\bluebit{0} & \\brownbit{1} & \\xrightarrow{0.35} & \\greenbit{1} & \\bluebit{0} & \\brownbit{0}  \\\\\n",
    "\\greenbit{0} & \\bluebit{1} & \\brownbit{1} & \\xrightarrow{0.35} & \\greenbit{1} & \\bluebit{1} & \\brownbit{0} \\\\\n",
    "\\\\ \\hline \\\\\n",
    "\\greenbit{0} & \\bluebit{0} & \\brownbit{1} & \\xrightarrow{0} & \\greenbit{1} & \\bluebit{1} & \\brownbit{0}  \\\\\n",
    "\\greenbit{0} & \\bluebit{1} & \\brownbit{1} & \\xrightarrow{0} & \\greenbit{1} & \\bluebit{0} & \\brownbit{0}\n",
    "}\n",
    "$$"
   ]
  },
  {
   "cell_type": "markdown",
   "metadata": {},
   "source": [
    "<h3> Task 3</h3>\n",
    "\n",
    "Почему последние две вероятности перехода равны 0 в предыдущей таблице?"
   ]
  },
  {
   "cell_type": "markdown",
   "metadata": {},
   "source": [
    "<h3> Task 4</h3>\n",
    "\n",
    "У нас есть три бита и вероятностный оператор \n",
    "$ M = \\mymatrix{rrrr}{0.05 & 0 & 0.70 & 0.60 \\\\ 0.45 & 0.50 & 0.20 & 0.25 \\\\ 0.20 & 0.35 & 0.10 & 0 \\\\ 0.30 & 0.15 & 0 & 0.15 } $ применяется к 1-му и 3-му битам. \n",
    "\n",
    "Какая будет соответствующая $(8 \\times 8)$-размерная матрица, примененная ко всей системе?\n",
    "\n",
    "*Вы можете решить задачу используя python.*"
   ]
  },
  {
   "cell_type": "code",
   "execution_count": null,
   "metadata": {},
   "outputs": [],
   "source": [
    "# the given matrix\n",
    "M = [\n",
    "    [0.05, 0, 0.70, 0.60],\n",
    "    [0.45, 0.50, 0.20, 0.25],\n",
    "    [0.20, 0.35, 0.10, 0],\n",
    "    [0.30, 0.15, 0, 0.15]\n",
    "]\n",
    "\n",
    "# \n",
    "# you may enumarate the columns and rows by the strings '00', '01', '10', and '11'\n",
    "# int('011',2) returns the decimal value of the binary string '011'\n",
    "#\n",
    "\n",
    "#\n",
    "# your solution is here\n",
    "#"
   ]
  },
  {
   "cell_type": "markdown",
   "metadata": {},
   "source": [
    "<a href=\"CS40_Operators_on_Multiple_Bits_Solutions.ipynb#task4\">click for our solution</a>"
   ]
  },
  {
   "cell_type": "markdown",
   "metadata": {},
   "source": [
    "### Контролируемые (управляемые) операторы"
   ]
  },
  {
   "cell_type": "markdown",
   "metadata": {},
   "source": [
    "Матричная форма оператора управляемый-НЕ (controlled-NOT) следующая:\n",
    "\n",
    "$ CNOT = \\mymatrix{cc|cc}{ 1 & 0 & 0 & 0 \\\\ 0 & 1 & 0 & 0 \\\\ \\hline 0 & 0 & 0 & 1 \\\\ 0 & 0 & 1 & 0 } \n",
    "= \\mymatrix{c|c}{ I & \\mathbf{0} \\\\ \\hline \\mathbf{0} & X},\n",
    "$\n",
    "где $ X $ описывает оператор отрицания НЕ (NOT).\n",
    "\n",
    "Подобным образом, для некоторого однобитного оператора $ M $, мы можем определить оператор управляемый-$M$ (где первый бит - контролирующий, второй бит - контролируемый (или целевой)) следующим образом:\n",
    "\n",
    "$ CM = \\mymatrix{c|c}{ I & \\mathbf{0} \\\\ \\hline \\mathbf{0} & M } $\n",
    "\n",
    "По определению:\n",
    "* когда первый бит равен 0, оператор тождественности применяется ко второму биту, и\n",
    "* когда первый бит равен 1, оператор $ M $ применяется ко второму биту. \n",
    "\n",
    "Тут мы можем наблюдать, что матрица $ CM $ имеет простую форму, т.к. первый бит - контролирующий. Матрица $ CM $ , приведенная выше, может быть разделена на 4 подматрицы , основанные на состоянии первого бита. Тогда из этого следует, что\n",
    "* значение первого бита никогда не меняется, и поэтому недиагональные подматрицы равны нулю; \n",
    "* когда 1-й бит равен 0, оператор тождественности применяется ко 2-му биту, и поэтому левая-верхняя подматрица будет $ I $; и, \n",
    "* когда 1-й бит равен 1, оператор $ M $ применяется ко 2-му биту, и поэтому правая-нижняя подматрица будет $ M $."
   ]
  },
  {
   "cell_type": "markdown",
   "metadata": {},
   "source": [
    "<h3> Task 5</h3>\n",
    "\n",
    "Пусть $ M = \\mymatrix{cc}{0.7 & 0.4 \\\\ 0.3 & 0.6} $ однобитовый оператор. Какова матричная форма оператора управляющий-$M$ , если первый бит - контролируемый, а второй бит - контролирующий ?"
   ]
  },
  {
   "cell_type": "markdown",
   "metadata": {},
   "source": [
    "<a href=\"CS40_Operators_on_Multiple_Bits_Solutions.ipynb#task5\">click for our solution</a>"
   ]
  },
  {
   "cell_type": "markdown",
   "metadata": {},
   "source": [
    "### Управляемый оператор, применяемый при состоянии 0 "
   ]
  },
  {
   "cell_type": "markdown",
   "metadata": {},
   "source": [
    "Для некоторого однобитового оператора $ M $, **как мы можем получить следующий оператор**, используя оператор $ CM $?\n",
    "\n",
    "$ C_0M = \\mymatrix{c|c}{ M & \\mathbf{0} \\\\ \\hline \\mathbf{0} & I } $\n",
    "\n",
    "Управляемый оператор из примера выше применяется, когда контролирующий бит в состоянии 1. В этом примере мы ожидаем, что оператор применится, когда контролирующий бит будет в состоянии 0.\n",
    "\n",
    "Здесь мы можем воспользоваться простым трюком. Сначала мы применяем оператор NOT к первому биту, а затем оператор CM и снова оператор NOT. Таким образом, мы гарантируем, что $ M $ применяется ко второму биту, если первый бит находится в состоянии 0, и ничего не делаем, если первый бит находится в состоянии 1. Короче говоря:\n",
    "\n",
    "$$ C_0M = (X \\otimes I) \\cdot (CM) \\cdot ( X \\otimes I ). $$"
   ]
  },
  {
   "cell_type": "markdown",
   "metadata": {},
   "source": [
    "<h3> Task 6</h3>\n",
    "\n",
    "Проверьте, что $ C_0M = (X \\otimes I) \\cdot (CM) \\cdot ( X \\otimes I ) = \\mymatrix{c|c}{ M & \\mathbf{0} \\\\ \\hline \\mathbf{0} & I }  $."
   ]
  },
  {
   "cell_type": "markdown",
   "metadata": {},
   "source": [
    "<a href=\"CS40_Operators_on_Multiple_Bits_Solutions.ipynb#task6\">click for our solution</a>"
   ]
  },
  {
   "cell_type": "markdown",
   "metadata": {},
   "source": [
    "<h3> Task 7</h3>\n",
    "\n",
    "Пусть даны два однобитовых оператора $ M $ и $ N $, пусть $ CM $ и $ CN $ являются операторами управляемый-$M$ и управляемый-$N$. Как получить оператор $ \\mymatrix{c|c}{ M & \\mathbf{0} \\\\ \\hline \\mathbf{0} & N} $, используя операторы $ X $, $ CM $, и $ CN $ ?\n"
   ]
  }
 ],
 "metadata": {
  "kernelspec": {
   "display_name": "Python 3 (ipykernel)",
   "language": "python",
   "name": "python3"
  },
  "language_info": {
   "codemirror_mode": {
    "name": "ipython",
    "version": 3
   },
   "file_extension": ".py",
   "mimetype": "text/x-python",
   "name": "python",
   "nbconvert_exporter": "python",
   "pygments_lexer": "ipython3",
   "version": "3.11.6"
  }
 },
 "nbformat": 4,
 "nbformat_minor": 4
}
