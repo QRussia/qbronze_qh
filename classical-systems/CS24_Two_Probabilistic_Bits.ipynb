{
 "cells": [
  {
   "cell_type": "markdown",
   "metadata": {},
   "source": [
    "<a href=\"https://qworld.net\" target=\"_blank\" align=\"left\"><img src=\"../qworld/images/header.jpg\"  align=\"left\"></a>\n",
    "$ \\newcommand{\\bra}[1]{\\langle #1|} $\n",
    "$ \\newcommand{\\ket}[1]{|#1\\rangle} $\n",
    "$ \\newcommand{\\braket}[2]{\\langle #1|#2\\rangle} $\n",
    "$ \\newcommand{\\dot}[2]{ #1 \\cdot #2} $\n",
    "$ \\newcommand{\\biginner}[2]{\\left\\langle #1,#2\\right\\rangle} $\n",
    "$ \\newcommand{\\mymatrix}[2]{\\left( \\begin{array}{#1} #2\\end{array} \\right)} $\n",
    "$ \\newcommand{\\myvector}[1]{\\mymatrix{c}{#1}} $\n",
    "$ \\newcommand{\\myrvector}[1]{\\mymatrix{r}{#1}} $\n",
    "$ \\newcommand{\\mypar}[1]{\\left( #1 \\right)} $\n",
    "$ \\newcommand{\\mybigpar}[1]{ \\Big( #1 \\Big)} $\n",
    "$ \\newcommand{\\sqrttwo}{\\frac{1}{\\sqrt{2}}} $\n",
    "$ \\newcommand{\\dsqrttwo}{\\dfrac{1}{\\sqrt{2}}} $\n",
    "$ \\newcommand{\\onehalf}{\\frac{1}{2}} $\n",
    "$ \\newcommand{\\donehalf}{\\dfrac{1}{2}} $\n",
    "$ \\newcommand{\\hadamard}{ \\mymatrix{rr}{ \\sqrttwo & \\sqrttwo \\\\ \\sqrttwo & -\\sqrttwo }} $\n",
    "$ \\newcommand{\\vzero}{\\myvector{1\\\\0}} $\n",
    "$ \\newcommand{\\vone}{\\myvector{0\\\\1}} $\n",
    "$ \\newcommand{\\stateplus}{\\myvector{ \\sqrttwo \\\\  \\sqrttwo } } $\n",
    "$ \\newcommand{\\stateminus}{ \\myrvector{ \\sqrttwo \\\\ -\\sqrttwo } } $\n",
    "$ \\newcommand{\\myarray}[2]{ \\begin{array}{#1}#2\\end{array}} $\n",
    "$ \\newcommand{\\X}{ \\mymatrix{cc}{0 & 1 \\\\ 1 & 0}  } $\n",
    "$ \\newcommand{\\I}{ \\mymatrix{rr}{1 & 0 \\\\ 0 & 1}  } $\n",
    "$ \\newcommand{\\Z}{ \\mymatrix{rr}{1 & 0 \\\\ 0 & -1}  } $\n",
    "$ \\newcommand{\\Htwo}{ \\mymatrix{rrrr}{ \\frac{1}{2} & \\frac{1}{2} & \\frac{1}{2} & \\frac{1}{2} \\\\ \\frac{1}{2} & -\\frac{1}{2} & \\frac{1}{2} & -\\frac{1}{2} \\\\ \\frac{1}{2} & \\frac{1}{2} & -\\frac{1}{2} & -\\frac{1}{2} \\\\ \\frac{1}{2} & -\\frac{1}{2} & -\\frac{1}{2} & \\frac{1}{2} } } $\n",
    "$ \\newcommand{\\CNOT}{ \\mymatrix{cccc}{1 & 0 & 0 & 0 \\\\ 0 & 1 & 0 & 0 \\\\ 0 & 0 & 0 & 1 \\\\ 0 & 0 & 1 & 0} } $\n",
    "$ \\newcommand{\\norm}[1]{ \\left\\lVert #1 \\right\\rVert } $\n",
    "$ \\newcommand{\\pstate}[1]{ \\lceil \\mspace{-1mu} #1 \\mspace{-1.5mu} \\rfloor } $\n",
    "$ \\newcommand{\\greenbit}[1] {\\mathbf{{\\color{green}#1}}} $\n",
    "$ \\newcommand{\\bluebit}[1] {\\mathbf{{\\color{blue}#1}}} $\n",
    "$ \\newcommand{\\redbit}[1] {\\mathbf{{\\color{red}#1}}} $\n",
    "$ \\newcommand{\\brownbit}[1] {\\mathbf{{\\color{brown}#1}}} $\n",
    "$ \\newcommand{\\blackbit}[1] {\\mathbf{{\\color{black}#1}}} $"
   ]
  },
  {
   "cell_type": "markdown",
   "metadata": {},
   "source": [
    "<font style=\"font-size:28px;\" align=\"left\"><b>Два вероятностных бита  </b></font>\n",
    "<br>\n",
    "_prepared by Abuzer Yakaryilmaz_\n",
    "<br>\n",
    "_перевод QRussia_\n",
    "<br><br>\n",
    "[<img src=\"../qworld/images/watch_lecture.jpg\" align=\"left\">](https://youtu.be/ulbd-1c71sk)\n",
    "<br><br><br>"
   ]
  },
  {
   "cell_type": "markdown",
   "metadata": {},
   "source": [
    "Предположим, что у нас есть два вероятностных бита, и наши вероятностные состояния соответственно таковы\n",
    "\n",
    "$  \\myvector{0.2 \\\\ 0.8} \\mbox{ and } \\myvector{0.6 \\\\ 0.4 }. $\n",
    "\n",
    "Если мы объединим оба бита в одну систему, то каково будет состояние объединенной системы?"
   ]
  },
  {
   "cell_type": "markdown",
   "metadata": {},
   "source": [
    "Всего у нас есть четыре различных состояния. Мы можем назвать их следующим образом:\n",
    "<ul>\n",
    "    <li>00: оба бита в состоянии 0</li>\n",
    "    <li>01: первый бит в состоянии 0 и второй бит в состоянии 1</li>\n",
    "    <li>10: первый бит в состоянии 1 и второй бит в состоянии 0</li>\n",
    "    <li>11: оба бита в состоянии 1</li>\n",
    "</ul>"
   ]
  },
  {
   "cell_type": "markdown",
   "metadata": {},
   "source": [
    "<h3> Task 1 </h3>\n",
    "\n",
    "<b>Обсуждение и анализ:</b>\n",
    "\n",
    "Какова вероятность того, что вы находитесь в состоянии $ 00 $, $ 01 $, $ 10 $, и $11$?\n",
    "\n",
    "Как мы можем представить эти вероятности в виде вектора-столбца?"
   ]
  },
  {
   "cell_type": "markdown",
   "metadata": {},
   "source": [
    "<h3> Представление для состояний 0 и 1</h3>\n",
    "\n",
    "Векторное представление состояния 0 - это $  \\myvector{1 \\\\ 0} $. Аналогично, векторное представление состояния 1 - это $ \\myvector{0 \\\\ 1} $.\n",
    "\n",
    "Мы будем использовать $ \\pstate{0} $ для представления $ \\myvector{1 \\\\ 0} $ и $ \\pstate{1} $ для представления $ \\myvector{0 \\\\ 1} $.\n",
    "\n",
    "Тогда вероятностное состояние $ \\myvector{0.2 \\\\ 0.8} $ также можно представить как $ 0.2 \\pstate{0} + 0.8 \\pstate{1} $.\n",
    "\n",
    "Аналогино, вероятностное состояние $ \\myvector{0.6 \\\\ 0.4} $ можно представить как $ 0.6 \\pstate{0} + 0.4 \\pstate{1} $."
   ]
  },
  {
   "cell_type": "markdown",
   "metadata": {},
   "source": [
    "<h3> Составные системы </h3>\n",
    "\n",
    "Когда две системы состоят из двух частей, их состояния суммируются, чтобы вычислить состояние составной системы.\n",
    "\n",
    "Вероятностное состояние первого бита - $  \\myvector{0.2 \\\\ 0.8} = 0.2 \\pstate{0} + 0.8 \\pstate{1} $.\n",
    "\n",
    "Вероятностное состояние второго бита - $  \\myvector{0.6 \\\\ 0.4} = 0.6 \\pstate{0} + 0.4 \\pstate{1} $.\n",
    "\n",
    "Тогда вероятностное состояние составной системы - $ \\big( 0.2 \\pstate{0} + 0.8 \\pstate{1} \\big) \\otimes  \\big( 0.6 \\pstate{0} + 0.4 \\pstate{1} \\big) $.\n"
   ]
  },
  {
   "cell_type": "markdown",
   "metadata": {},
   "source": [
    "<h3> Task 2 </h3>\n",
    "\n",
    "Найдите вероятностное состояние составной системы.\n",
    "\n",
    "<i> \n",
    "Правило 1: Тензорное произведение распределяется по сложению так же, как распределение умножения по сложению.\n",
    "\n",
    "Правило 2: $ \\big( 0.3 \\pstate{1} \\big) \\otimes \\big( 0.7 \\pstate{0} \\big) = (0.3 \\cdot 0.7) \\big( \\pstate{1} \\otimes \\pstate{0} \\big) = 0.21 \\pstate{10} $.\n",
    "</i>"
   ]
  },
  {
   "cell_type": "markdown",
   "metadata": {},
   "source": [
    "<a href=\"CS24_Two_Probabilistic_Bits_Solutions.ipynb#task2\">click for our solution</a>"
   ]
  },
  {
   "cell_type": "markdown",
   "metadata": {},
   "source": [
    "<h3> Task 3</h3>\n",
    "\n",
    "Найдите вероятностное состояние составной системы, вычислив это тензорное произведение $ \\myvector{0.2 \\\\ 0.8} \\otimes \\myvector{0.6 \\\\ 0.4 } $."
   ]
  },
  {
   "cell_type": "markdown",
   "metadata": {},
   "source": [
    "<a href=\"CS24_Two_Probabilistic_Bits_Solutions.ipynb#task3\">click for our solution</a>"
   ]
  },
  {
   "cell_type": "markdown",
   "metadata": {},
   "source": [
    "<h3> Task 4</h3>\n",
    "\n",
    "Найдите векторное представление $ \\pstate{00} $, $ \\pstate{01} $, $\\pstate{10}$, and $ \\pstate{11} $.\n",
    "\n",
    "<i>Векторное представление $ \\pstate{ab} $ это $ \\pstate{a} \\otimes \\pstate{b} $ для $ a,b \\in \\{0,1\\} $.</i>"
   ]
  },
  {
   "cell_type": "markdown",
   "metadata": {},
   "source": [
    "<a href=\"CS24_Two_Probabilistic_Bits_Solutions.ipynb#task4\">click for our solution</a>"
   ]
  },
  {
   "cell_type": "markdown",
   "metadata": {},
   "source": [
    "---\n",
    "\n",
    "<h3> Extra: Task 5 </h3>\n",
    "\n",
    "Предположим, что мы имеем три бита.\n",
    "\n",
    "Найдите векторное представление состояния $ \\pstate{abc} $ для $ a,b,c \\in \\{0,1\\} $."
   ]
  },
  {
   "cell_type": "markdown",
   "metadata": {},
   "source": [
    "<h3> Extra: Task 6 </h3>\n",
    "\n",
    "<i>Эта задача является сложной.</i>\n",
    "\n",
    "Предположим, что у нас есть четыре бита. \n",
    "\n",
    "Число 9 имеет двоичное представление $ 1001 $. Проверьте что векторное представление $ \\pstate{1001} $ состоит из 0, кроме $10$th элемента, равного 1.\n",
    "\n",
    "Число 7 имеет двоичное представление $ 0111 $ in binary. Проверьте что векторное представление $ \\pstate{0111} $ состоит из 0, кроме $8$th элемента, равного 1.\n",
    "\n",
    "Обобщите эту идею на любое число между 0 и 15.\n",
    "\n",
    "Обобщите эту идею на любое количество битов."
   ]
  }
 ],
 "metadata": {
  "kernelspec": {
   "display_name": "Python 3 (ipykernel)",
   "language": "python",
   "name": "python3"
  },
  "language_info": {
   "codemirror_mode": {
    "name": "ipython",
    "version": 3
   },
   "file_extension": ".py",
   "mimetype": "text/x-python",
   "name": "python",
   "nbconvert_exporter": "python",
   "pygments_lexer": "ipython3",
   "version": "3.11.6"
  }
 },
 "nbformat": 4,
 "nbformat_minor": 4
}
