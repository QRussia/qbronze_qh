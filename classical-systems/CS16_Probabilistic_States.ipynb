{
 "cells": [
  {
   "cell_type": "markdown",
   "metadata": {},
   "source": [
    "<a href=\"https://qworld.net\" target=\"_blank\" align=\"left\"><img src=\"../qworld/images/header.jpg\"  align=\"left\"></a>\n",
    "$ \\newcommand{\\bra}[1]{\\langle #1|} $\n",
    "$ \\newcommand{\\ket}[1]{|#1\\rangle} $\n",
    "$ \\newcommand{\\braket}[2]{\\langle #1|#2\\rangle} $\n",
    "$ \\newcommand{\\dot}[2]{ #1 \\cdot #2} $\n",
    "$ \\newcommand{\\biginner}[2]{\\left\\langle #1,#2\\right\\rangle} $\n",
    "$ \\newcommand{\\mymatrix}[2]{\\left( \\begin{array}{#1} #2\\end{array} \\right)} $\n",
    "$ \\newcommand{\\myvector}[1]{\\mymatrix{c}{#1}} $\n",
    "$ \\newcommand{\\myrvector}[1]{\\mymatrix{r}{#1}} $\n",
    "$ \\newcommand{\\mypar}[1]{\\left( #1 \\right)} $\n",
    "$ \\newcommand{\\mybigpar}[1]{ \\Big( #1 \\Big)} $\n",
    "$ \\newcommand{\\sqrttwo}{\\frac{1}{\\sqrt{2}}} $\n",
    "$ \\newcommand{\\dsqrttwo}{\\dfrac{1}{\\sqrt{2}}} $\n",
    "$ \\newcommand{\\onehalf}{\\frac{1}{2}} $\n",
    "$ \\newcommand{\\donehalf}{\\dfrac{1}{2}} $\n",
    "$ \\newcommand{\\hadamard}{ \\mymatrix{rr}{ \\sqrttwo & \\sqrttwo \\\\ \\sqrttwo & -\\sqrttwo }} $\n",
    "$ \\newcommand{\\vzero}{\\myvector{1\\\\0}} $\n",
    "$ \\newcommand{\\vone}{\\myvector{0\\\\1}} $\n",
    "$ \\newcommand{\\stateplus}{\\myvector{ \\sqrttwo \\\\  \\sqrttwo } } $\n",
    "$ \\newcommand{\\stateminus}{ \\myrvector{ \\sqrttwo \\\\ -\\sqrttwo } } $\n",
    "$ \\newcommand{\\myarray}[2]{ \\begin{array}{#1}#2\\end{array}} $\n",
    "$ \\newcommand{\\X}{ \\mymatrix{cc}{0 & 1 \\\\ 1 & 0}  } $\n",
    "$ \\newcommand{\\I}{ \\mymatrix{rr}{1 & 0 \\\\ 0 & 1}  } $\n",
    "$ \\newcommand{\\Z}{ \\mymatrix{rr}{1 & 0 \\\\ 0 & -1}  } $\n",
    "$ \\newcommand{\\Htwo}{ \\mymatrix{rrrr}{ \\frac{1}{2} & \\frac{1}{2} & \\frac{1}{2} & \\frac{1}{2} \\\\ \\frac{1}{2} & -\\frac{1}{2} & \\frac{1}{2} & -\\frac{1}{2} \\\\ \\frac{1}{2} & \\frac{1}{2} & -\\frac{1}{2} & -\\frac{1}{2} \\\\ \\frac{1}{2} & -\\frac{1}{2} & -\\frac{1}{2} & \\frac{1}{2} } } $\n",
    "$ \\newcommand{\\CNOT}{ \\mymatrix{cccc}{1 & 0 & 0 & 0 \\\\ 0 & 1 & 0 & 0 \\\\ 0 & 0 & 0 & 1 \\\\ 0 & 0 & 1 & 0} } $\n",
    "$ \\newcommand{\\norm}[1]{ \\left\\lVert #1 \\right\\rVert } $\n",
    "$ \\newcommand{\\pstate}[1]{ \\lceil \\mspace{-1mu} #1 \\mspace{-1.5mu} \\rfloor } $\n",
    "$ \\newcommand{\\greenbit}[1] {\\mathbf{{\\color{green}#1}}} $\n",
    "$ \\newcommand{\\bluebit}[1] {\\mathbf{{\\color{blue}#1}}} $\n",
    "$ \\newcommand{\\redbit}[1] {\\mathbf{{\\color{red}#1}}} $\n",
    "$ \\newcommand{\\brownbit}[1] {\\mathbf{{\\color{brown}#1}}} $\n",
    "$ \\newcommand{\\blackbit}[1] {\\mathbf{{\\color{black}#1}}} $"
   ]
  },
  {
   "cell_type": "markdown",
   "metadata": {},
   "source": [
    "<font style=\"font-size:28px;\" align=\"left\"><b>Вероятностные состояния  </b></font>\n",
    "<br>\n",
    "_prepared by Abuzer Yakaryilmaz_\n",
    "<br>\n",
    "_перевод QRussia_\n",
    "<br><br>\n",
    "[<img src=\"../qworld/images/watch_lecture.jpg\" align=\"left\">](https://youtu.be/tJjrF7WgT1g)\n",
    "<br><br><br>"
   ]
  },
  {
   "cell_type": "markdown",
   "metadata": {},
   "source": [
    "Предположим, что Ася тайно бросает правильную монету.\n",
    "\n",
    "Так как мы не видим результат броска, наша информация про результат будет вероятностной:\n",
    "\n",
    "$\\rightarrow$ Орел выпадет с вероятностью $0.5$ и Решка выпадет с вероятностью $0.5$.\n",
    "\n",
    "Если монета имеет предвзятость (bias) $ \\dfrac{Pr(Head)}{Pr(Tail)} = \\dfrac{3}{1}$ (3 к 1), тогда наша информация о результатах подброса монеты следующая:\n",
    "\n",
    "$\\rightarrow$  Орел выпадет с вероятностью $ 0.75 $ и Решка выпадет с вероятностью $ 0.25 $."
   ]
  },
  {
   "cell_type": "markdown",
   "metadata": {},
   "source": [
    "<i><u>Объяснение</u>: Вероятность выпадения Орла равно вероятности выпадения Решки, умноженное на 3.\n",
    "    <ul>\n",
    "        <li>Суммарная вероятность равна 1. </li>\n",
    "        <li> Мы дели 1 на 4 части (три части - Орел и одна часть - Решка),\n",
    "        <li> Одна часть - это $ \\dfrac{1}{4} = 0.25$,</li>\n",
    "        <li> и тогда мы даем 3 части на Орла ($0.75$) и одну часть на Решку ($0.25$).</li>\n",
    "    </ul></i>"
   ]
  },
  {
   "cell_type": "markdown",
   "metadata": {},
   "source": [
    "<h3> Представление вероятностей в виде столбца </h3>\n",
    "\n",
    "Всего мы имеем два разных исхода: Оел (0) и Решка (1).\n",
    "\n",
    "В таком случае мы можем использовать столбец размера 2 для хранения вероятностей выпадения Орла и Решки.\n",
    "\n",
    "В случае правильной монеты наша информация после подброса одной монеты можно изобразить, как $ \\myvector{0.5 \\\\ 0.5} $. \n",
    "\n",
    "Для предвзятой (biased) монеты: $ \\myvector{0.75 \\\\ 0.25} $.\n",
    "\n",
    "Первое элемент показывает вероятность получения Орла, второй элемент - вероятность Решки.\n",
    "\n",
    " $ \\myvector{0.5 \\\\ 0.5} $ and $ \\myvector{0.75 \\\\ 0.25} $ - два примера двухмерных (столбцов) векторов."
   ]
  },
  {
   "cell_type": "markdown",
   "metadata": {},
   "source": [
    "<h3> Task 1 </h3>\n",
    "\n",
    "Предположим, что Балвис тайно бросает монету, имеющую значение предвзятости (bias) $ \\dfrac{Pr(Head)}{Pr(Tail)} = \\dfrac{1}{4}$.\n",
    "\n",
    "Представьте вашу информацию о результате в виде вектора-столбца."
   ]
  },
  {
   "cell_type": "markdown",
   "metadata": {},
   "source": [
    "<h3> Task 2 </h3>\n",
    "\n",
    "Предположим, что Федор бросает игральную кость со следующим соотношением предвзятости: \n",
    "\n",
    "$$ Pr(1):Pr(2):Pr(3):Pr(4):Pr(5):Pr(6) = 7:5:4:2:6:1 . $$\n",
    "\n",
    "Представьте вашу информацию о результате в виде вектора-столбца. Заметим, что размерность столбца должен быть равен 6.\n",
    "\n",
    "Вы можете воспользоваться язывом Python для вычислений."
   ]
  },
  {
   "cell_type": "code",
   "execution_count": null,
   "metadata": {},
   "outputs": [],
   "source": [
    "#\n",
    "# your code is here\n",
    "#\n"
   ]
  },
  {
   "cell_type": "markdown",
   "metadata": {},
   "source": [
    "<a href=\"CS16_Probabilistic_States_Solutions.ipynb#task2\">click for our solution</a>"
   ]
  },
  {
   "cell_type": "markdown",
   "metadata": {},
   "source": [
    "<h3> Векторное представление </h3>\n",
    "\n",
    "Предположим, что мы имеем систему из 4 непересекающихся состояний: $ s_1 $, $s_2 $, $s_3$, and $s_4$.  \n",
    "\n",
    "Мы ожидаем, что система окажется в любой момент в одном из этих состояний. \n",
    "\n",
    "Используя язык верояностей, мы можем также сказать, что система находится в одном из состояний с вероятностью 1 и в других состояниях с вероятностью 0. \n",
    "\n",
    "Тогда, используя представление в виде вектора-столбца, мы можем показать каждое состояние как вектор-столбец (используя вектора в стандартном базисе $ \\mathbb{R}^4 $):\n",
    "\n",
    "$$\n",
    "    e_1 = \\myvector{1\\\\ 0 \\\\ 0 \\\\ 0}, e_2 = \\myvector{0 \\\\ 1 \\\\ 0 \\\\ 0}, e_3 = \\myvector{0 \\\\ 0 \\\\ 1 \\\\ 0}, \n",
    "    \\mbox{ и } e_4 = \\myvector{0 \\\\ 0 \\\\ 0 \\\\ 1}.\n",
    "$$"
   ]
  },
  {
   "cell_type": "markdown",
   "metadata": {},
   "source": [
    "Данное представление поможет нам выразить наши знания о системе в случае, если система может оказаться с определенной вероятностью в нескольких состояниях.\n",
    "\n",
    "Напомним тот случай, в котором монета может быть подброшена тайно. \n",
    "\n",
    "Например, предположим что система находится в состояниях $ s_1 $, $ s_2 $, $ s_3 $ и $ s_4 $ с вероятностями $ 0.20 $, $ 0.25 $, $ 0.40 $ и $ 0.15 $, соответственно. \n",
    "\n",
    "(<i>Конечная вероятность должна быть равна 1, т.е., $ 0.20+0.25+0.40+0.15 = 1.00 $</i>)\n",
    "\n",
    "Тогда, мы можем сказать, что система находится в следующем вероятностном состоянии:\n",
    "\n",
    "$$ 0.20 \\cdot e_1 + 0.25 \\cdot e2 + 0.40 \\cdot e_3 + 0.15 \\cdot e4 $$\n",
    "\n",
    "$$ =  0.20 \\cdot \\myvector{1\\\\ 0 \\\\ 0 \\\\ 0} + 0.25 \\cdot \\myvector{0\\\\ 1 \\\\ 0 \\\\ 0} + 0.40 \\cdot \\myvector{0\\\\ 0 \\\\ 1 \\\\ 0} + 0.15 \\cdot  \\myvector{0\\\\ 0 \\\\ 0 \\\\ 1}  \n",
    "$$\n",
    "\n",
    "$$ = \\myvector{0.20\\\\ 0 \\\\ 0 \\\\ 0} +   \\myvector{0\\\\ 0.25 \\\\ 0 \\\\ 0} +  \\myvector{0\\\\ 0 \\\\0.40 \\\\ 0} +  \\myvector{0\\\\ 0 \\\\ 0 \\\\ 0.15 } = \\myvector{ 0.20 \\\\ 0.25 \\\\ 0.40 \\\\ 0.15 }, $$\n",
    "\n",
    "где сумма элементов должна быть равна 1."
   ]
  },
  {
   "cell_type": "markdown",
   "metadata": {},
   "source": [
    "<h3> Вероятностное состояние </h3>\n",
    "\n",
    "Вероятностное состояние - это линейная комбинация векторов в стандартном базисе. \n",
    "    \n",
    "В данном случае коэффициенты (скаляры) должны удовлетворять определенным условиям:\n",
    "<ol>\n",
    "    <li> Каждый коэффициент должен быть неотрицателным </li>\n",
    "    <li> Сумма коэффициентов должна быть равна 1 </li>\n",
    "</ol>\n",
    "\n",
    "\n",
    "Также мы можем сказать, что вероятностное состояние - это вероятностное распределение детерминированных состояний.\n",
    "\n",
    "Мы можем показать всю информацию как один математический объект, который называется стохастическим вектором.\n",
    "\n",
    "<i> Заметим, что любая линейная система является линейной комбинацией векторов в выбранном базисе. </i> "
   ]
  },
  {
   "cell_type": "markdown",
   "metadata": {},
   "source": [
    "<h3> Task 3 </h3>\n",
    "\n",
    "Для системы с 4 состояниями рандомно создайте вероятностное состояние и выведите элементы вектора, к примеру, $ 0.16~~0.17~~0.02~~0.65 $.\n",
    "\n",
    "<i>Подсказка: Вы можете выбрать произвольные числа между 0 и 100 (или 1000), далее нормировать каждое значение делением на сумму всех чисел.</i>"
   ]
  },
  {
   "cell_type": "code",
   "execution_count": null,
   "metadata": {},
   "outputs": [],
   "source": [
    "#\n",
    "# your solution is here\n",
    "#\n"
   ]
  },
  {
   "cell_type": "markdown",
   "metadata": {},
   "source": [
    "<a href=\"CS16_Probabilistic_States_Solutions.ipynb#task3\">click for our solution</a>"
   ]
  },
  {
   "cell_type": "markdown",
   "metadata": {},
   "source": [
    "<h3> Task 4 [extra] </h3>\n",
    "\n",
    "Используя подсказку предыдущего задания (Task 3), выберите произвольное число между 0 и $ 10^k $. Для лучшей точности, вы можете взять большее значение $ k $.\n",
    "\n",
    "Напишите функцию, которая создает произвольное (рандомное) вероятностное состояние размера $ n $ с точностью до $ k $ чисел. \n",
    "\n",
    "Проверьте вашу функцию."
   ]
  },
  {
   "cell_type": "code",
   "execution_count": null,
   "metadata": {},
   "outputs": [],
   "source": [
    "#\n",
    "# your solution is here\n",
    "#\n"
   ]
  }
 ],
 "metadata": {
  "kernelspec": {
   "display_name": "Python 3 (ipykernel)",
   "language": "python",
   "name": "python3"
  },
  "language_info": {
   "codemirror_mode": {
    "name": "ipython",
    "version": 3
   },
   "file_extension": ".py",
   "mimetype": "text/x-python",
   "name": "python",
   "nbconvert_exporter": "python",
   "pygments_lexer": "ipython3",
   "version": "3.11.6"
  }
 },
 "nbformat": 4,
 "nbformat_minor": 4
}
