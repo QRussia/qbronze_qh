{
 "cells": [
  {
   "cell_type": "markdown",
   "metadata": {},
   "source": [
    "<a href=\"https://qworld.net\" target=\"_blank\" align=\"left\"><img src=\"../qworld/images/header.jpg\"  align=\"left\"></a>\n",
    "$ \\newcommand{\\bra}[1]{\\langle #1|} $\n",
    "$ \\newcommand{\\ket}[1]{|#1\\rangle} $\n",
    "$ \\newcommand{\\braket}[2]{\\langle #1|#2\\rangle} $\n",
    "$ \\newcommand{\\dot}[2]{ #1 \\cdot #2} $\n",
    "$ \\newcommand{\\biginner}[2]{\\left\\langle #1,#2\\right\\rangle} $\n",
    "$ \\newcommand{\\mymatrix}[2]{\\left( \\begin{array}{#1} #2\\end{array} \\right)} $\n",
    "$ \\newcommand{\\myvector}[1]{\\mymatrix{c}{#1}} $\n",
    "$ \\newcommand{\\myrvector}[1]{\\mymatrix{r}{#1}} $\n",
    "$ \\newcommand{\\mypar}[1]{\\left( #1 \\right)} $\n",
    "$ \\newcommand{\\mybigpar}[1]{ \\Big( #1 \\Big)} $\n",
    "$ \\newcommand{\\sqrttwo}{\\frac{1}{\\sqrt{2}}} $\n",
    "$ \\newcommand{\\dsqrttwo}{\\dfrac{1}{\\sqrt{2}}} $\n",
    "$ \\newcommand{\\onehalf}{\\frac{1}{2}} $\n",
    "$ \\newcommand{\\donehalf}{\\dfrac{1}{2}} $\n",
    "$ \\newcommand{\\hadamard}{ \\mymatrix{rr}{ \\sqrttwo & \\sqrttwo \\\\ \\sqrttwo & -\\sqrttwo }} $\n",
    "$ \\newcommand{\\vzero}{\\myvector{1\\\\0}} $\n",
    "$ \\newcommand{\\vone}{\\myvector{0\\\\1}} $\n",
    "$ \\newcommand{\\stateplus}{\\myvector{ \\sqrttwo \\\\  \\sqrttwo } } $\n",
    "$ \\newcommand{\\stateminus}{ \\myrvector{ \\sqrttwo \\\\ -\\sqrttwo } } $\n",
    "$ \\newcommand{\\myarray}[2]{ \\begin{array}{#1}#2\\end{array}} $\n",
    "$ \\newcommand{\\X}{ \\mymatrix{cc}{0 & 1 \\\\ 1 & 0}  } $\n",
    "$ \\newcommand{\\I}{ \\mymatrix{rr}{1 & 0 \\\\ 0 & 1}  } $\n",
    "$ \\newcommand{\\Z}{ \\mymatrix{rr}{1 & 0 \\\\ 0 & -1}  } $\n",
    "$ \\newcommand{\\Htwo}{ \\mymatrix{rrrr}{ \\frac{1}{2} & \\frac{1}{2} & \\frac{1}{2} & \\frac{1}{2} \\\\ \\frac{1}{2} & -\\frac{1}{2} & \\frac{1}{2} & -\\frac{1}{2} \\\\ \\frac{1}{2} & \\frac{1}{2} & -\\frac{1}{2} & -\\frac{1}{2} \\\\ \\frac{1}{2} & -\\frac{1}{2} & -\\frac{1}{2} & \\frac{1}{2} } } $\n",
    "$ \\newcommand{\\CNOT}{ \\mymatrix{cccc}{1 & 0 & 0 & 0 \\\\ 0 & 1 & 0 & 0 \\\\ 0 & 0 & 0 & 1 \\\\ 0 & 0 & 1 & 0} } $\n",
    "$ \\newcommand{\\norm}[1]{ \\left\\lVert #1 \\right\\rVert } $\n",
    "$ \\newcommand{\\pstate}[1]{ \\lceil \\mspace{-1mu} #1 \\mspace{-1.5mu} \\rfloor } $\n",
    "$ \\newcommand{\\greenbit}[1] {\\mathbf{{\\color{green}#1}}} $\n",
    "$ \\newcommand{\\bluebit}[1] {\\mathbf{{\\color{blue}#1}}} $\n",
    "$ \\newcommand{\\redbit}[1] {\\mathbf{{\\color{red}#1}}} $\n",
    "$ \\newcommand{\\brownbit}[1] {\\mathbf{{\\color{brown}#1}}} $\n",
    "$ \\newcommand{\\blackbit}[1] {\\mathbf{{\\color{black}#1}}} $"
   ]
  },
  {
   "cell_type": "markdown",
   "metadata": {},
   "source": [
    "<font style=\"font-size:28px;\" align=\"left\"><b>Подброс монеты: Вероятностный бит </b></font>\n",
    "<br>\n",
    "_prepared by Abuzer Yakaryilmaz_\n",
    "<br>\n",
    "_Перевод QRussia_\n",
    "<br><br>\n",
    "[<img src=\"../qworld/images/watch_lecture.jpg\" align=\"left\">](https://youtu.be/uGKHEsVcSEs)\n",
    "<br><br><br>"
   ]
  },
  {
   "cell_type": "markdown",
   "metadata": {},
   "source": [
    "<h3> Правильная монета (fair coin) </h3>\n",
    "\n",
    "Монета имеет две стороны: <i>Орел (орг. Head)</i> и <i>Решка (орг. Tail)</i>.\n",
    "\n",
    "После подброса монеты мы получаем в качестве результата Орла или Решку. Мы можем представить эти два исхода с помощью одного бита:\n",
    "<ul>\n",
    "    <li> 0 предтавляет Орла </li>\n",
    "    <li> 1 предтавляет Решку </li>\n",
    "</ul>"
   ]
  },
  {
   "cell_type": "markdown",
   "metadata": {},
   "source": [
    "<h3> Подброс правильной монеты </h3>\n",
    "\n",
    "Если монета правильная, то вероятности получения Орла и Решки одинаковы:\n",
    "\n",
    "$ p= \\dfrac{1}{2} = 0.5 $.\n",
    "\n",
    "Подброс правильной монеты может быть предсавлен в виде оператора:\n",
    "<ul>\n",
    "    <li> $ FairCoin(Head) = \\frac{1}{2} Head + \\frac{1}{2}Tail $ </li>\n",
    "    <li> $ FairCoin(Tail) = \\frac{1}{2} Head + \\frac{1}{2}Tail $ </li>\n",
    "</ul>\n",
    "\n",
    "Табличное представление:\n",
    "\n",
    "$\n",
    "FairCoin = \\begin{array}{c|cc} \\hookleftarrow & \\mathbf{Head} & \\mathbf{Tail} \\\\ \\hline \\mathbf{Head} & \\dfrac{1}{2} & \\dfrac{1}{2} \\\\  \\mathbf{Tail} & \\dfrac{1}{2} & \\dfrac{1}{2}  \\end{array}\n",
    "$\n",
    "\n",
    "Или, используя 0 и 1:\n",
    "\n",
    "$\n",
    "FairCoin = \\begin{array}{c|cc} \\hookleftarrow & \\mathbf{0} & \\mathbf{1} \\\\ \\hline \\mathbf{0} & \\dfrac{1}{2} & \\dfrac{1}{2} \\\\  \\mathbf{1} & \\dfrac{1}{2} & \\dfrac{1}{2}  \\end{array}\n",
    "$"
   ]
  },
  {
   "cell_type": "markdown",
   "metadata": {},
   "source": [
    "<h3> Task 1: Симуляция правильной монеты в Python</h3>\n",
    "\n",
    "Подбросьте правильную монету 100 раз. Посчитайте количества выпадения Орла и Решки, далее проверьте соотношение количества Орла на количество Решки.\n",
    "\n",
    "Проделайте эксперимент 1000 раз.\n",
    "\n",
    "Проделайте эксперимент 10,000 раз.\n",
    "\n",
    "Проделайте эксперимент 100,000 раз.\n",
    "\n",
    "Насколько ваш результат близок к идеальному случаю (количества Орлов и Решек одинаковы)?"
   ]
  },
  {
   "cell_type": "code",
   "execution_count": null,
   "metadata": {},
   "outputs": [],
   "source": [
    "from random import randrange\n",
    "#\n",
    "# you may use method 'randrange' for this task\n",
    "# randrange(n) returns a value from {0,1,...,n-1} randomly\n",
    "#\n",
    "\n",
    "#\n",
    "# your solution is here\n",
    "#\n"
   ]
  },
  {
   "cell_type": "markdown",
   "metadata": {},
   "source": [
    "<a href=\"CS08_Coin_Flip_Solutions.ipynb#task1\">click for our solution</a>"
   ]
  },
  {
   "cell_type": "markdown",
   "metadata": {},
   "source": [
    "<h3> Подброс предвзятой монеты (со смещенным центром тяжести) </h3>\n",
    "\n",
    "Наша монета может быть предвзятой. \n",
    "\n",
    "Например, вероятность получения Орла больше, чем вероятность получения Решки.\n",
    "\n",
    "Пример:\n",
    "\n",
    "$\n",
    "BiasedCoin = \\begin{array}{c|cc} \\hookleftarrow & \\mathbf{Head} & \\mathbf{Tail} \\\\ \\hline \\mathbf{Head} & 0.6 & 0.6 \\\\  \\mathbf{Tail} & 0.4 & 0.4  \\end{array}\n",
    "$\n",
    "\n",
    "Или, используя 0 и 1 как состояния:\n",
    "\n",
    "$\n",
    "BiasedCoin = \\begin{array}{c|cc} \\hookleftarrow & \\mathbf{0} & \\mathbf{1} \\\\ \\hline \\mathbf{0} & 0.6 & 0.6\\\\  \\mathbf{1} & 0.4 & 0.4 \\end{array}\n",
    "$"
   ]
  },
  {
   "cell_type": "markdown",
   "metadata": {},
   "source": [
    "<h3> Task 2: Симуляция предвзятой монеты в Python</h3>\n",
    "\n",
    "Подбросьте следующую предвзятую монету 100 раз. Посчитайте количества выпадения Орла и Решки, далее проверьте соотношение количества Орла на количество Решки.\n",
    "\n",
    "$\n",
    "BiasedCoin = \\begin{array}{c|cc} \\hookleftarrow & \\mathbf{Head} & \\mathbf{Tail} \\\\ \\hline \\mathbf{Head} & 0.6 & 0.6 \\\\  \\mathbf{Tail} & 0.4 & 0.4  \\end{array}\n",
    "$\n",
    "\n",
    "\n",
    "Проделайте эксперимент 1000 раз.\n",
    "\n",
    "Проделайте эксперимент 10,000 раз.\n",
    "\n",
    "Проделайте эксперимент 100,000 раз.\n",
    "\n",
    "Насколько ваш результат близок к идеальному случаю \n",
    "$$ \n",
    "\\mypar{ \\dfrac{ \\mbox{# of heads} }{ \\mbox{# of tails} } = \\dfrac{0.6}{0.4} = 1.50000000 } \n",
    "$$\n",
    "\n",
    "?"
   ]
  },
  {
   "cell_type": "code",
   "execution_count": null,
   "metadata": {},
   "outputs": [],
   "source": [
    "#\n",
    "# you may use method 'randrange' for this task\n",
    "# randrange(n) returns a value from {0,1,...,n-1} randomly\n",
    "#\n",
    "\n",
    "#\n",
    "# your solution is here\n",
    "#\n"
   ]
  },
  {
   "cell_type": "markdown",
   "metadata": {},
   "source": [
    "<a href=\"CS08_Coin_Flip_Solutions.ipynb#task2\">click for our solution</a>"
   ]
  },
  {
   "cell_type": "markdown",
   "metadata": {},
   "source": [
    "---\n",
    "\n",
    "<h3> Программирование предвзятой монеты [extra] </h3>\n",
    "\n",
    "Мы используем простенький метод для создания предвзятой монеты.\n",
    "\n",
    "1) Определяем диапазон точности вероятностей, скажем, $ N $, как $ N = 11, 101, 1001, \\mbox{ or }, 10^k+1 $ для некоторого $ k > 4 $.\n",
    "\n",
    "2) Определяем значение смещения (предвзятость), скажем, $ B $, как целое число между 0 и $ N $.\n",
    "\n",
    "Мы фиксируем $ N $ и $ B $.\n",
    "\n",
    "3) Выбираем произвольное число между 0 и $ N $:\n",
    "<ul>\n",
    "    <li> если число меньше, чем $ B $, мы полагаем, что выпал \"Орел\"</li>\n",
    "    <li> если число больше или равно $ B $, полагаем, что выпала \"Решка\" </li>\n",
    "</ul>\n",
    "    \n",
    "Таким образом, мы построили предвзятую монету, которая \"выпадает\" Орлом с вероятностью $ \\frac{B}{N} $.\n",
    "\n",
    "Заметим, что мы определяем $ N = 10^k+1 $. В таком случае монета не может быть правильной, если $ B $ является целым. ($ \\frac{10^k+1}{2} $ не целое.)"
   ]
  },
  {
   "cell_type": "markdown",
   "metadata": {},
   "source": [
    "<h3> Task 3 </h3>\n",
    "\n",
    "Напишите функцию, которая реализует описанную предвзятую монету,\n",
    "\n",
    "В качестве входных параметров будут $ N >0 $ и $ 0 \\leq B < N $.\n",
    "\n",
    "Возвращаемое значение функции - \"Орел\" или \"Решка\"."
   ]
  },
  {
   "cell_type": "code",
   "execution_count": null,
   "metadata": {},
   "outputs": [],
   "source": [
    "def biased_coin(N,B):\n",
    "    from random import randrange\n",
    "    #\n",
    "    # your solution is here\n",
    "    #\n"
   ]
  },
  {
   "cell_type": "markdown",
   "metadata": {},
   "source": [
    "<a href=\"CS08_Coin_Flip_Solutions.ipynb#task3\">click for our solution</a>"
   ]
  },
  {
   "cell_type": "markdown",
   "metadata": {},
   "source": [
    "<h3> Task 4</h3>\n",
    "\n",
    "Мы используем предвзятую монету, реализованную в Task 3. \n",
    "\n",
    "(Можете воспользоваться реализацией из <a href=\"CS08_Coin_Flip_Solutions.ipynb#task3\">решения</a>.)\n",
    "\n",
    "В качестве $ N $ возьмем 101.\n",
    "\n",
    "Определяем $ B $ рандомно, не проверяя полученное значение .\n",
    "\n",
    "Задача состоит в том, чтобы установить значение предвзятости $ B $ экспериментально, используя предвзятую монету 500 раз.\n",
    "\n",
    "Проверьте реальное значение предвзятости и вычислите ошибку (абсолютное значение разницы, деленное на реальное смещение)."
   ]
  },
  {
   "cell_type": "code",
   "execution_count": null,
   "metadata": {},
   "outputs": [],
   "source": [
    "from random import randrange\n",
    "N = 101\n",
    "B = randrange(N+1)\n",
    "#\n",
    "# your solution is here\n",
    "#"
   ]
  },
  {
   "cell_type": "markdown",
   "metadata": {},
   "source": [
    "<a href=\"CS08_Coin_Flip_Solutions.ipynb#task4\">click for our solution</a>"
   ]
  }
 ],
 "metadata": {
  "kernelspec": {
   "display_name": "Python 3 (ipykernel)",
   "language": "python",
   "name": "python3"
  },
  "language_info": {
   "codemirror_mode": {
    "name": "ipython",
    "version": 3
   },
   "file_extension": ".py",
   "mimetype": "text/x-python",
   "name": "python",
   "nbconvert_exporter": "python",
   "pygments_lexer": "ipython3",
   "version": "3.11.6"
  }
 },
 "nbformat": 4,
 "nbformat_minor": 4
}
